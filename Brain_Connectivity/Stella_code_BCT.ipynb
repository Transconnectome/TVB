{
 "cells": [
  {
   "cell_type": "markdown",
   "metadata": {},
   "source": [
    "## get network feature"
   ]
  },
  {
   "cell_type": "code",
   "execution_count": 2,
   "metadata": {},
   "outputs": [],
   "source": [
    "import pandas as pd\n",
    "import numpy as np\n",
    "import scipy.io\n",
    "import os\n",
    "import sys"
   ]
  },
  {
   "cell_type": "code",
   "execution_count": 3,
   "metadata": {},
   "outputs": [
    {
     "ename": "FileNotFoundError",
     "evalue": "[Errno 2] No such file or directory: './rDCM_outputs_8180/'",
     "output_type": "error",
     "traceback": [
      "\u001b[0;31m---------------------------------------------------------------------------\u001b[0m",
      "\u001b[0;31mFileNotFoundError\u001b[0m                         Traceback (most recent call last)",
      "Input \u001b[0;32mIn [3]\u001b[0m, in \u001b[0;36m<cell line: 2>\u001b[0;34m()\u001b[0m\n\u001b[1;32m      1\u001b[0m data_dir \u001b[38;5;241m=\u001b[39m \u001b[38;5;124m'\u001b[39m\u001b[38;5;124m./rDCM_outputs_8180/\u001b[39m\u001b[38;5;124m'\u001b[39m\n\u001b[0;32m----> 2\u001b[0m mat_list \u001b[38;5;241m=\u001b[39m \u001b[43mos\u001b[49m\u001b[38;5;241;43m.\u001b[39;49m\u001b[43mlistdir\u001b[49m\u001b[43m(\u001b[49m\u001b[43mdata_dir\u001b[49m\u001b[43m)\u001b[49m\n",
      "\u001b[0;31mFileNotFoundError\u001b[0m: [Errno 2] No such file or directory: './rDCM_outputs_8180/'"
     ]
    }
   ],
   "source": [
    "data_dir = './rDCM_outputs_8180/'\n",
    "mat_list = os.listdir(data_dir)"
   ]
  },
  {
   "cell_type": "code",
   "execution_count": 13,
   "metadata": {},
   "outputs": [],
   "source": [
    "sample = scipy.io.loadmat(os.path.join(data_dir+mat_list[3]))"
   ]
  },
  {
   "cell_type": "code",
   "execution_count": 4,
   "metadata": {},
   "outputs": [],
   "source": [
    "import bct"
   ]
  },
  {
   "cell_type": "code",
   "execution_count": 81,
   "metadata": {},
   "outputs": [
    {
     "data": {
      "text/plain": [
       "array([ 1.02083333e+00,  1.30595012e-03, -3.91142407e-05,  3.01225867e-02,\n",
       "       -7.48685800e-01,  1.38000143e-01,  5.90499099e-03])"
      ]
     },
     "execution_count": 81,
     "metadata": {},
     "output_type": "execute_result"
    }
   ],
   "source": [
    "np.array([density[0], transitivity_wd, efficiency_wei, assortativity_wei, rich_club_wd[-1], core_periphery_dir[-1], charpath[0]])"
   ]
  },
  {
   "cell_type": "code",
   "execution_count": 82,
   "metadata": {},
   "outputs": [],
   "source": [
    "sublist=[]\n",
    "nwmeasure = np.zeros((len(mat_list), 7))\n",
    "for i in range(len(mat_list)):\n",
    "    sub_id = mat_list[i].split('-')[1].split('.')[0]\n",
    "    sublist.append(sub_id)\n",
    "    \n",
    "    sample = scipy.io.loadmat(os.path.join(data_dir+mat_list[i]))\n",
    "    density = bct.density_dir(sample['result'])\n",
    "    \n",
    "    \n",
    "    transitivity_wd = bct.transitivity_wd(sample['result'])\n",
    "    \n",
    "    \n",
    "    efficiency_wei = bct.efficiency_wei(sample['result'])\n",
    "    \n",
    "\n",
    "    assortativity_wei = bct.assortativity_wei(sample['result'])\n",
    "    \n",
    "\n",
    "    rich_club_wd = bct.rich_club_wd(sample['result'])\n",
    "    \n",
    "\n",
    "    core_periphery_dir = bct.core_periphery_dir(sample['result'])\n",
    "    \n",
    "\n",
    "    charpath = bct.charpath(sample['result'])\n",
    "    \n",
    "    \n",
    "    nwmeasure[i] = np.array([density[0], transitivity_wd, efficiency_wei,\n",
    "                             assortativity_wei, rich_club_wd[-1], core_periphery_dir[-1], charpath[0]])"
   ]
  },
  {
   "cell_type": "code",
   "execution_count": 83,
   "metadata": {},
   "outputs": [],
   "source": [
    "df = pd.concat([pd.DataFrame(sublist),pd.DataFrame(nwmeasure)], ignore_index=True, axis=1) #아 column 이름 재설정 해야겠다.."
   ]
  },
  {
   "cell_type": "markdown",
   "metadata": {},
   "source": [
    "## merge with label"
   ]
  },
  {
   "cell_type": "code",
   "execution_count": 103,
   "metadata": {},
   "outputs": [],
   "source": [
    "label = pd.read_csv('../../multimodality_data/mor_final.csv')"
   ]
  },
  {
   "cell_type": "code",
   "execution_count": 104,
   "metadata": {},
   "outputs": [
    {
     "data": {
      "text/html": [
       "<div>\n",
       "<style scoped>\n",
       "    .dataframe tbody tr th:only-of-type {\n",
       "        vertical-align: middle;\n",
       "    }\n",
       "\n",
       "    .dataframe tbody tr th {\n",
       "        vertical-align: top;\n",
       "    }\n",
       "\n",
       "    .dataframe thead th {\n",
       "        text-align: right;\n",
       "    }\n",
       "</style>\n",
       "<table border=\"1\" class=\"dataframe\">\n",
       "  <thead>\n",
       "    <tr style=\"text-align: right;\">\n",
       "      <th></th>\n",
       "      <th>subjectkey</th>\n",
       "      <th>female</th>\n",
       "    </tr>\n",
       "  </thead>\n",
       "  <tbody>\n",
       "    <tr>\n",
       "      <td>0</td>\n",
       "      <td>NDARINV003RTV85</td>\n",
       "      <td>1.0</td>\n",
       "    </tr>\n",
       "    <tr>\n",
       "      <td>1</td>\n",
       "      <td>NDARINV00BD7VDC</td>\n",
       "      <td>0.0</td>\n",
       "    </tr>\n",
       "    <tr>\n",
       "      <td>2</td>\n",
       "      <td>NDARINV00CY2MDM</td>\n",
       "      <td>0.0</td>\n",
       "    </tr>\n",
       "    <tr>\n",
       "      <td>3</td>\n",
       "      <td>NDARINV00HEV6HB</td>\n",
       "      <td>0.0</td>\n",
       "    </tr>\n",
       "    <tr>\n",
       "      <td>4</td>\n",
       "      <td>NDARINV00LH735Y</td>\n",
       "      <td>0.0</td>\n",
       "    </tr>\n",
       "    <tr>\n",
       "      <td>...</td>\n",
       "      <td>...</td>\n",
       "      <td>...</td>\n",
       "    </tr>\n",
       "    <tr>\n",
       "      <td>7735</td>\n",
       "      <td>NDARINVZZLZCKAY</td>\n",
       "      <td>1.0</td>\n",
       "    </tr>\n",
       "    <tr>\n",
       "      <td>7736</td>\n",
       "      <td>NDARINVZZNX6W2P</td>\n",
       "      <td>0.0</td>\n",
       "    </tr>\n",
       "    <tr>\n",
       "      <td>7737</td>\n",
       "      <td>NDARINVZZZ2ALR6</td>\n",
       "      <td>1.0</td>\n",
       "    </tr>\n",
       "    <tr>\n",
       "      <td>7738</td>\n",
       "      <td>NDARINVZZZNB0XC</td>\n",
       "      <td>1.0</td>\n",
       "    </tr>\n",
       "    <tr>\n",
       "      <td>7739</td>\n",
       "      <td>NDARINVZZZP87KR</td>\n",
       "      <td>1.0</td>\n",
       "    </tr>\n",
       "  </tbody>\n",
       "</table>\n",
       "<p>7740 rows × 2 columns</p>\n",
       "</div>"
      ],
      "text/plain": [
       "           subjectkey  female\n",
       "0     NDARINV003RTV85     1.0\n",
       "1     NDARINV00BD7VDC     0.0\n",
       "2     NDARINV00CY2MDM     0.0\n",
       "3     NDARINV00HEV6HB     0.0\n",
       "4     NDARINV00LH735Y     0.0\n",
       "...               ...     ...\n",
       "7735  NDARINVZZLZCKAY     1.0\n",
       "7736  NDARINVZZNX6W2P     0.0\n",
       "7737  NDARINVZZZ2ALR6     1.0\n",
       "7738  NDARINVZZZNB0XC     1.0\n",
       "7739  NDARINVZZZP87KR     1.0\n",
       "\n",
       "[7740 rows x 2 columns]"
      ]
     },
     "execution_count": 104,
     "metadata": {},
     "output_type": "execute_result"
    }
   ],
   "source": [
    "label[['subjectkey','female']]"
   ]
  },
  {
   "cell_type": "code",
   "execution_count": 91,
   "metadata": {},
   "outputs": [],
   "source": [
    "df.rename(columns = {0: \"subjectkey\",\n",
    "                     1: \"density\",\n",
    "                    2:'transitivity_wd',\n",
    "                    3:'efficiency_wei',\n",
    "                    4:'assortativity_wei',\n",
    "                    5:'rich_club_wd',\n",
    "                    6:'core_periphery_dir',\n",
    "                    7:'charpath'}, inplace=True)"
   ]
  },
  {
   "cell_type": "code",
   "execution_count": 92,
   "metadata": {},
   "outputs": [
    {
     "data": {
      "text/html": [
       "<div>\n",
       "<style scoped>\n",
       "    .dataframe tbody tr th:only-of-type {\n",
       "        vertical-align: middle;\n",
       "    }\n",
       "\n",
       "    .dataframe tbody tr th {\n",
       "        vertical-align: top;\n",
       "    }\n",
       "\n",
       "    .dataframe thead th {\n",
       "        text-align: right;\n",
       "    }\n",
       "</style>\n",
       "<table border=\"1\" class=\"dataframe\">\n",
       "  <thead>\n",
       "    <tr style=\"text-align: right;\">\n",
       "      <th></th>\n",
       "      <th>subjectkey</th>\n",
       "      <th>density</th>\n",
       "      <th>transitivity_wd</th>\n",
       "      <th>efficiency_wei</th>\n",
       "      <th>assortativity_wei</th>\n",
       "      <th>rich_club_wd</th>\n",
       "      <th>core_periphery_dir</th>\n",
       "      <th>charpath</th>\n",
       "    </tr>\n",
       "  </thead>\n",
       "  <tbody>\n",
       "    <tr>\n",
       "      <td>0</td>\n",
       "      <td>NDARINV897CW9GM</td>\n",
       "      <td>1.020833</td>\n",
       "      <td>0.001306</td>\n",
       "      <td>-0.000039</td>\n",
       "      <td>0.030123</td>\n",
       "      <td>-0.748686</td>\n",
       "      <td>0.138000</td>\n",
       "      <td>0.005905</td>\n",
       "    </tr>\n",
       "    <tr>\n",
       "      <td>1</td>\n",
       "      <td>NDARINV43P39GXX</td>\n",
       "      <td>1.019947</td>\n",
       "      <td>0.002887</td>\n",
       "      <td>0.000001</td>\n",
       "      <td>0.057509</td>\n",
       "      <td>-0.248603</td>\n",
       "      <td>0.180287</td>\n",
       "      <td>0.008685</td>\n",
       "    </tr>\n",
       "    <tr>\n",
       "      <td>2</td>\n",
       "      <td>NDARINV8HMHK4GC</td>\n",
       "      <td>1.019947</td>\n",
       "      <td>0.001063</td>\n",
       "      <td>-0.000011</td>\n",
       "      <td>0.144834</td>\n",
       "      <td>-0.628270</td>\n",
       "      <td>0.226213</td>\n",
       "      <td>0.006187</td>\n",
       "    </tr>\n",
       "    <tr>\n",
       "      <td>3</td>\n",
       "      <td>NDARINVEZNGVY2P</td>\n",
       "      <td>1.019947</td>\n",
       "      <td>0.001459</td>\n",
       "      <td>0.000012</td>\n",
       "      <td>0.079248</td>\n",
       "      <td>-0.694812</td>\n",
       "      <td>0.172987</td>\n",
       "      <td>0.006290</td>\n",
       "    </tr>\n",
       "    <tr>\n",
       "      <td>4</td>\n",
       "      <td>NDARINV4L9UBRH1</td>\n",
       "      <td>1.019947</td>\n",
       "      <td>0.001484</td>\n",
       "      <td>-0.000042</td>\n",
       "      <td>0.073762</td>\n",
       "      <td>-0.548088</td>\n",
       "      <td>0.144023</td>\n",
       "      <td>0.006660</td>\n",
       "    </tr>\n",
       "    <tr>\n",
       "      <td>...</td>\n",
       "      <td>...</td>\n",
       "      <td>...</td>\n",
       "      <td>...</td>\n",
       "      <td>...</td>\n",
       "      <td>...</td>\n",
       "      <td>...</td>\n",
       "      <td>...</td>\n",
       "      <td>...</td>\n",
       "    </tr>\n",
       "    <tr>\n",
       "      <td>8175</td>\n",
       "      <td>NDARINVCTM83NPV</td>\n",
       "      <td>1.020833</td>\n",
       "      <td>0.001093</td>\n",
       "      <td>0.000003</td>\n",
       "      <td>0.125170</td>\n",
       "      <td>-0.745358</td>\n",
       "      <td>0.174010</td>\n",
       "      <td>0.005874</td>\n",
       "    </tr>\n",
       "    <tr>\n",
       "      <td>8176</td>\n",
       "      <td>NDARINV7EGEBVF3</td>\n",
       "      <td>1.019504</td>\n",
       "      <td>0.000196</td>\n",
       "      <td>-0.000018</td>\n",
       "      <td>0.182286</td>\n",
       "      <td>-0.908010</td>\n",
       "      <td>0.268217</td>\n",
       "      <td>0.004583</td>\n",
       "    </tr>\n",
       "    <tr>\n",
       "      <td>8177</td>\n",
       "      <td>NDARINVXAU39X13</td>\n",
       "      <td>1.021277</td>\n",
       "      <td>0.001977</td>\n",
       "      <td>-0.000050</td>\n",
       "      <td>-0.007564</td>\n",
       "      <td>NaN</td>\n",
       "      <td>0.179950</td>\n",
       "      <td>0.006380</td>\n",
       "    </tr>\n",
       "    <tr>\n",
       "      <td>8178</td>\n",
       "      <td>NDARINVNA0D3G9K</td>\n",
       "      <td>1.021277</td>\n",
       "      <td>0.003246</td>\n",
       "      <td>-0.000031</td>\n",
       "      <td>-0.009457</td>\n",
       "      <td>NaN</td>\n",
       "      <td>0.169228</td>\n",
       "      <td>0.008493</td>\n",
       "    </tr>\n",
       "    <tr>\n",
       "      <td>8179</td>\n",
       "      <td>NDARINVAFVV598X</td>\n",
       "      <td>1.021277</td>\n",
       "      <td>0.002379</td>\n",
       "      <td>0.000070</td>\n",
       "      <td>0.022111</td>\n",
       "      <td>NaN</td>\n",
       "      <td>0.194633</td>\n",
       "      <td>0.007606</td>\n",
       "    </tr>\n",
       "  </tbody>\n",
       "</table>\n",
       "<p>8180 rows × 8 columns</p>\n",
       "</div>"
      ],
      "text/plain": [
       "           subjectkey   density  transitivity_wd  efficiency_wei  \\\n",
       "0     NDARINV897CW9GM  1.020833         0.001306       -0.000039   \n",
       "1     NDARINV43P39GXX  1.019947         0.002887        0.000001   \n",
       "2     NDARINV8HMHK4GC  1.019947         0.001063       -0.000011   \n",
       "3     NDARINVEZNGVY2P  1.019947         0.001459        0.000012   \n",
       "4     NDARINV4L9UBRH1  1.019947         0.001484       -0.000042   \n",
       "...               ...       ...              ...             ...   \n",
       "8175  NDARINVCTM83NPV  1.020833         0.001093        0.000003   \n",
       "8176  NDARINV7EGEBVF3  1.019504         0.000196       -0.000018   \n",
       "8177  NDARINVXAU39X13  1.021277         0.001977       -0.000050   \n",
       "8178  NDARINVNA0D3G9K  1.021277         0.003246       -0.000031   \n",
       "8179  NDARINVAFVV598X  1.021277         0.002379        0.000070   \n",
       "\n",
       "      assortativity_wei  rich_club_wd  core_periphery_dir  charpath  \n",
       "0              0.030123     -0.748686            0.138000  0.005905  \n",
       "1              0.057509     -0.248603            0.180287  0.008685  \n",
       "2              0.144834     -0.628270            0.226213  0.006187  \n",
       "3              0.079248     -0.694812            0.172987  0.006290  \n",
       "4              0.073762     -0.548088            0.144023  0.006660  \n",
       "...                 ...           ...                 ...       ...  \n",
       "8175           0.125170     -0.745358            0.174010  0.005874  \n",
       "8176           0.182286     -0.908010            0.268217  0.004583  \n",
       "8177          -0.007564           NaN            0.179950  0.006380  \n",
       "8178          -0.009457           NaN            0.169228  0.008493  \n",
       "8179           0.022111           NaN            0.194633  0.007606  \n",
       "\n",
       "[8180 rows x 8 columns]"
      ]
     },
     "execution_count": 92,
     "metadata": {},
     "output_type": "execute_result"
    }
   ],
   "source": [
    "df"
   ]
  },
  {
   "cell_type": "code",
   "execution_count": 105,
   "metadata": {},
   "outputs": [],
   "source": [
    "label_df = pd.merge(label[['subjectkey','female']], df, how='inner', on='subjectkey')"
   ]
  },
  {
   "cell_type": "code",
   "execution_count": 106,
   "metadata": {},
   "outputs": [
    {
     "data": {
      "text/html": [
       "<div>\n",
       "<style scoped>\n",
       "    .dataframe tbody tr th:only-of-type {\n",
       "        vertical-align: middle;\n",
       "    }\n",
       "\n",
       "    .dataframe tbody tr th {\n",
       "        vertical-align: top;\n",
       "    }\n",
       "\n",
       "    .dataframe thead th {\n",
       "        text-align: right;\n",
       "    }\n",
       "</style>\n",
       "<table border=\"1\" class=\"dataframe\">\n",
       "  <thead>\n",
       "    <tr style=\"text-align: right;\">\n",
       "      <th></th>\n",
       "      <th>subjectkey</th>\n",
       "      <th>female</th>\n",
       "      <th>density</th>\n",
       "      <th>transitivity_wd</th>\n",
       "      <th>efficiency_wei</th>\n",
       "      <th>assortativity_wei</th>\n",
       "      <th>rich_club_wd</th>\n",
       "      <th>core_periphery_dir</th>\n",
       "      <th>charpath</th>\n",
       "    </tr>\n",
       "  </thead>\n",
       "  <tbody>\n",
       "    <tr>\n",
       "      <td>0</td>\n",
       "      <td>NDARINV00HEV6HB</td>\n",
       "      <td>0.0</td>\n",
       "      <td>1.021277</td>\n",
       "      <td>0.003328</td>\n",
       "      <td>-0.000006</td>\n",
       "      <td>0.001447</td>\n",
       "      <td>NaN</td>\n",
       "      <td>0.197838</td>\n",
       "      <td>0.008915</td>\n",
       "    </tr>\n",
       "    <tr>\n",
       "      <td>1</td>\n",
       "      <td>NDARINV00LH735Y</td>\n",
       "      <td>0.0</td>\n",
       "      <td>1.020833</td>\n",
       "      <td>0.000711</td>\n",
       "      <td>-0.000030</td>\n",
       "      <td>-0.014755</td>\n",
       "      <td>-0.890495</td>\n",
       "      <td>0.366030</td>\n",
       "      <td>0.005265</td>\n",
       "    </tr>\n",
       "    <tr>\n",
       "      <td>2</td>\n",
       "      <td>NDARINV00LJVZK2</td>\n",
       "      <td>0.0</td>\n",
       "      <td>1.020833</td>\n",
       "      <td>-0.000293</td>\n",
       "      <td>-0.000017</td>\n",
       "      <td>0.095211</td>\n",
       "      <td>-2.704654</td>\n",
       "      <td>0.388164</td>\n",
       "      <td>0.002308</td>\n",
       "    </tr>\n",
       "    <tr>\n",
       "      <td>3</td>\n",
       "      <td>NDARINV00U4FTRU</td>\n",
       "      <td>1.0</td>\n",
       "      <td>1.019504</td>\n",
       "      <td>0.000498</td>\n",
       "      <td>-0.000013</td>\n",
       "      <td>0.163811</td>\n",
       "      <td>-1.041093</td>\n",
       "      <td>0.358635</td>\n",
       "      <td>0.004587</td>\n",
       "    </tr>\n",
       "    <tr>\n",
       "      <td>4</td>\n",
       "      <td>NDARINV00U4FTRU</td>\n",
       "      <td>1.0</td>\n",
       "      <td>1.021277</td>\n",
       "      <td>-0.000162</td>\n",
       "      <td>-0.000028</td>\n",
       "      <td>0.028982</td>\n",
       "      <td>NaN</td>\n",
       "      <td>0.605380</td>\n",
       "      <td>0.002272</td>\n",
       "    </tr>\n",
       "    <tr>\n",
       "      <td>...</td>\n",
       "      <td>...</td>\n",
       "      <td>...</td>\n",
       "      <td>...</td>\n",
       "      <td>...</td>\n",
       "      <td>...</td>\n",
       "      <td>...</td>\n",
       "      <td>...</td>\n",
       "      <td>...</td>\n",
       "      <td>...</td>\n",
       "    </tr>\n",
       "    <tr>\n",
       "      <td>6701</td>\n",
       "      <td>NDARINVZZLZCKAY</td>\n",
       "      <td>1.0</td>\n",
       "      <td>1.021277</td>\n",
       "      <td>0.002422</td>\n",
       "      <td>-0.000019</td>\n",
       "      <td>0.122827</td>\n",
       "      <td>NaN</td>\n",
       "      <td>0.168348</td>\n",
       "      <td>0.007356</td>\n",
       "    </tr>\n",
       "    <tr>\n",
       "      <td>6702</td>\n",
       "      <td>NDARINVZZZ2ALR6</td>\n",
       "      <td>1.0</td>\n",
       "      <td>1.020833</td>\n",
       "      <td>0.001578</td>\n",
       "      <td>-0.000026</td>\n",
       "      <td>0.163911</td>\n",
       "      <td>-0.610319</td>\n",
       "      <td>0.192672</td>\n",
       "      <td>0.006487</td>\n",
       "    </tr>\n",
       "    <tr>\n",
       "      <td>6703</td>\n",
       "      <td>NDARINVZZZ2ALR6</td>\n",
       "      <td>1.0</td>\n",
       "      <td>1.021277</td>\n",
       "      <td>0.001406</td>\n",
       "      <td>-0.000005</td>\n",
       "      <td>0.006259</td>\n",
       "      <td>NaN</td>\n",
       "      <td>0.185941</td>\n",
       "      <td>0.005779</td>\n",
       "    </tr>\n",
       "    <tr>\n",
       "      <td>6704</td>\n",
       "      <td>NDARINVZZZNB0XC</td>\n",
       "      <td>1.0</td>\n",
       "      <td>1.019947</td>\n",
       "      <td>-0.000133</td>\n",
       "      <td>-0.000007</td>\n",
       "      <td>0.142068</td>\n",
       "      <td>-1.461507</td>\n",
       "      <td>0.348381</td>\n",
       "      <td>0.003244</td>\n",
       "    </tr>\n",
       "    <tr>\n",
       "      <td>6705</td>\n",
       "      <td>NDARINVZZZP87KR</td>\n",
       "      <td>1.0</td>\n",
       "      <td>1.020833</td>\n",
       "      <td>0.002029</td>\n",
       "      <td>-0.000043</td>\n",
       "      <td>0.037417</td>\n",
       "      <td>-0.467269</td>\n",
       "      <td>0.229530</td>\n",
       "      <td>0.007157</td>\n",
       "    </tr>\n",
       "  </tbody>\n",
       "</table>\n",
       "<p>6706 rows × 9 columns</p>\n",
       "</div>"
      ],
      "text/plain": [
       "           subjectkey  female   density  transitivity_wd  efficiency_wei  \\\n",
       "0     NDARINV00HEV6HB     0.0  1.021277         0.003328       -0.000006   \n",
       "1     NDARINV00LH735Y     0.0  1.020833         0.000711       -0.000030   \n",
       "2     NDARINV00LJVZK2     0.0  1.020833        -0.000293       -0.000017   \n",
       "3     NDARINV00U4FTRU     1.0  1.019504         0.000498       -0.000013   \n",
       "4     NDARINV00U4FTRU     1.0  1.021277        -0.000162       -0.000028   \n",
       "...               ...     ...       ...              ...             ...   \n",
       "6701  NDARINVZZLZCKAY     1.0  1.021277         0.002422       -0.000019   \n",
       "6702  NDARINVZZZ2ALR6     1.0  1.020833         0.001578       -0.000026   \n",
       "6703  NDARINVZZZ2ALR6     1.0  1.021277         0.001406       -0.000005   \n",
       "6704  NDARINVZZZNB0XC     1.0  1.019947        -0.000133       -0.000007   \n",
       "6705  NDARINVZZZP87KR     1.0  1.020833         0.002029       -0.000043   \n",
       "\n",
       "      assortativity_wei  rich_club_wd  core_periphery_dir  charpath  \n",
       "0              0.001447           NaN            0.197838  0.008915  \n",
       "1             -0.014755     -0.890495            0.366030  0.005265  \n",
       "2              0.095211     -2.704654            0.388164  0.002308  \n",
       "3              0.163811     -1.041093            0.358635  0.004587  \n",
       "4              0.028982           NaN            0.605380  0.002272  \n",
       "...                 ...           ...                 ...       ...  \n",
       "6701           0.122827           NaN            0.168348  0.007356  \n",
       "6702           0.163911     -0.610319            0.192672  0.006487  \n",
       "6703           0.006259           NaN            0.185941  0.005779  \n",
       "6704           0.142068     -1.461507            0.348381  0.003244  \n",
       "6705           0.037417     -0.467269            0.229530  0.007157  \n",
       "\n",
       "[6706 rows x 9 columns]"
      ]
     },
     "execution_count": 106,
     "metadata": {},
     "output_type": "execute_result"
    }
   ],
   "source": [
    "label_df"
   ]
  },
  {
   "cell_type": "code",
   "execution_count": 107,
   "metadata": {},
   "outputs": [],
   "source": [
    "label_df.to_csv('rDCM_output_network_measure_labeled.csv')"
   ]
  },
  {
   "cell_type": "code",
   "execution_count": 109,
   "metadata": {},
   "outputs": [],
   "source": [
    "new_df = label_df.dropna(axis=0)"
   ]
  },
  {
   "cell_type": "markdown",
   "metadata": {},
   "source": [
    "## classification"
   ]
  },
  {
   "cell_type": "code",
   "execution_count": 131,
   "metadata": {},
   "outputs": [],
   "source": [
    "from sklearn.model_selection import train_test_split # train/test set\n",
    "from sklearn.metrics import accuracy_score, confusion_matrix # model 평가"
   ]
  },
  {
   "cell_type": "markdown",
   "metadata": {},
   "source": [
    "### (1) model 생성"
   ]
  },
  {
   "cell_type": "code",
   "execution_count": 139,
   "metadata": {},
   "outputs": [],
   "source": [
    "from sklearn.neural_network import MLPClassifier\n",
    "from sklearn.neighbors import KNeighborsClassifier\n",
    "from sklearn.svm import SVC\n",
    "from sklearn.gaussian_process import GaussianProcessClassifier\n",
    "from sklearn.gaussian_process.kernels import RBF\n",
    "from sklearn.tree import DecisionTreeClassifier\n",
    "from sklearn.ensemble import RandomForestClassifier, AdaBoostClassifier\n",
    "from sklearn.naive_bayes import GaussianNB\n",
    "from sklearn.discriminant_analysis import QuadraticDiscriminantAnalysis"
   ]
  },
  {
   "cell_type": "code",
   "execution_count": 140,
   "metadata": {},
   "outputs": [],
   "source": [
    "names = [\n",
    "    \"Nearest Neighbors\",\n",
    "    \"Linear SVM\",\n",
    "    \"RBF SVM\",\n",
    "    \"Gaussian Process\",\n",
    "    \"Decision Tree\",\n",
    "    \"Random Forest\",\n",
    "    \"Neural Net\",\n",
    "    \"AdaBoost\",\n",
    "    \"Naive Bayes\",\n",
    "    \"QDA\",\n",
    "]\n",
    "\n",
    "classifiers = [\n",
    "    KNeighborsClassifier(3),\n",
    "    SVC(kernel=\"linear\", C=0.025),\n",
    "    SVC(gamma=2, C=1),\n",
    "    GaussianProcessClassifier(1.0 * RBF(1.0)),\n",
    "    DecisionTreeClassifier(max_depth=5),\n",
    "    RandomForestClassifier(max_depth=5, n_estimators=10, max_features=1),\n",
    "    MLPClassifier(alpha=1, max_iter=1000),\n",
    "    AdaBoostClassifier(),\n",
    "    GaussianNB(),\n",
    "    QuadraticDiscriminantAnalysis(),\n",
    "]"
   ]
  },
  {
   "cell_type": "markdown",
   "metadata": {},
   "source": [
    "### (2) data 생성"
   ]
  },
  {
   "cell_type": "code",
   "execution_count": 151,
   "metadata": {},
   "outputs": [
    {
     "data": {
      "text/plain": [
       "(4762,)"
      ]
     },
     "execution_count": 151,
     "metadata": {},
     "output_type": "execute_result"
    }
   ],
   "source": [
    "# 1. data loading & 변수 생성\n",
    "X = new_df.iloc[:, 2:].values\n",
    "y = new_df.iloc[:, 1].values.astype(np.int64)\n",
    "# 2. train/test split\n",
    "x_train, x_test, y_train, y_test = train_test_split(X, y, test_size = 0.1, random_state = 123)\n",
    "# 랜덤하게 샘플링하되 특정 번호를 지정함으로써 반복해서 시도하더라도 항상 같도록!\n",
    "\n",
    "x_train.shape # (105, 4)\n",
    "y_train.shape # (3704,)"
   ]
  },
  {
   "cell_type": "markdown",
   "metadata": {},
   "source": [
    "### (3) 결과 확인"
   ]
  },
  {
   "cell_type": "code",
   "execution_count": 152,
   "metadata": {},
   "outputs": [],
   "source": [
    "ans={}\n",
    "for i, j in zip(names, classifiers):\n",
    "    # 3. model\n",
    "    model = j\n",
    "    model.fit(X=x_train, y=y_train)\n",
    "\n",
    "    # 4. model 평가\n",
    "    y_pred = model.predict(x_test) # 예측치\n",
    "    y_true = y_test # 정답\n",
    "\n",
    "    # 분류정확도 - accuracy_score 함수 사용해서 구하기\n",
    "    acc = accuracy_score(y_true, y_pred)\n",
    "    ans[str(i)] = acc"
   ]
  },
  {
   "cell_type": "code",
   "execution_count": 158,
   "metadata": {
    "scrolled": true
   },
   "outputs": [],
   "source": [
    "result=pd.DataFrame.from_dict(ans, orient='index')"
   ]
  },
  {
   "cell_type": "code",
   "execution_count": 159,
   "metadata": {},
   "outputs": [],
   "source": [
    "result.rename(columns = {0: \"accuracy\"}, inplace=True)"
   ]
  },
  {
   "cell_type": "code",
   "execution_count": 160,
   "metadata": {},
   "outputs": [
    {
     "data": {
      "text/html": [
       "<div>\n",
       "<style scoped>\n",
       "    .dataframe tbody tr th:only-of-type {\n",
       "        vertical-align: middle;\n",
       "    }\n",
       "\n",
       "    .dataframe tbody tr th {\n",
       "        vertical-align: top;\n",
       "    }\n",
       "\n",
       "    .dataframe thead th {\n",
       "        text-align: right;\n",
       "    }\n",
       "</style>\n",
       "<table border=\"1\" class=\"dataframe\">\n",
       "  <thead>\n",
       "    <tr style=\"text-align: right;\">\n",
       "      <th></th>\n",
       "      <th>accuracy</th>\n",
       "    </tr>\n",
       "  </thead>\n",
       "  <tbody>\n",
       "    <tr>\n",
       "      <td>Nearest Neighbors</td>\n",
       "      <td>0.501887</td>\n",
       "    </tr>\n",
       "    <tr>\n",
       "      <td>Linear SVM</td>\n",
       "      <td>0.484906</td>\n",
       "    </tr>\n",
       "    <tr>\n",
       "      <td>RBF SVM</td>\n",
       "      <td>0.511321</td>\n",
       "    </tr>\n",
       "    <tr>\n",
       "      <td>Gaussian Process</td>\n",
       "      <td>0.528302</td>\n",
       "    </tr>\n",
       "    <tr>\n",
       "      <td>Decision Tree</td>\n",
       "      <td>0.513208</td>\n",
       "    </tr>\n",
       "    <tr>\n",
       "      <td>Random Forest</td>\n",
       "      <td>0.505660</td>\n",
       "    </tr>\n",
       "    <tr>\n",
       "      <td>Neural Net</td>\n",
       "      <td>0.484906</td>\n",
       "    </tr>\n",
       "    <tr>\n",
       "      <td>AdaBoost</td>\n",
       "      <td>0.500000</td>\n",
       "    </tr>\n",
       "    <tr>\n",
       "      <td>Naive Bayes</td>\n",
       "      <td>0.475472</td>\n",
       "    </tr>\n",
       "    <tr>\n",
       "      <td>QDA</td>\n",
       "      <td>0.479245</td>\n",
       "    </tr>\n",
       "  </tbody>\n",
       "</table>\n",
       "</div>"
      ],
      "text/plain": [
       "                   accuracy\n",
       "Nearest Neighbors  0.501887\n",
       "Linear SVM         0.484906\n",
       "RBF SVM            0.511321\n",
       "Gaussian Process   0.528302\n",
       "Decision Tree      0.513208\n",
       "Random Forest      0.505660\n",
       "Neural Net         0.484906\n",
       "AdaBoost           0.500000\n",
       "Naive Bayes        0.475472\n",
       "QDA                0.479245"
      ]
     },
     "execution_count": 160,
     "metadata": {},
     "output_type": "execute_result"
    }
   ],
   "source": [
    "result"
   ]
  },
  {
   "cell_type": "markdown",
   "metadata": {},
   "source": [
    "## Appendix"
   ]
  },
  {
   "cell_type": "markdown",
   "metadata": {},
   "source": [
    "**Degree**\n",
    ": Node degree is the number of links connected to the node. In directed networks, the in-degree is the number of inward links and the out-degree is the number of outward links. Connection weights are ignored in calculations.\n",
    "\n",
    "- degrees_dir.m (BD, WD networks)."
   ]
  },
  {
   "cell_type": "code",
   "execution_count": 14,
   "metadata": {},
   "outputs": [],
   "source": [
    "degree = bct.degrees_dir(sample['result'])"
   ]
  },
  {
   "cell_type": "code",
   "execution_count": 16,
   "metadata": {},
   "outputs": [
    {
     "data": {
      "text/plain": [
       "(array([48., 48., 48., 48., 48., 48., 48., 48., 48., 48., 48., 48., 48.,\n",
       "        48., 48., 48., 48., 48., 48., 48., 48., 48., 48., 48., 48., 48.,\n",
       "        48., 48., 48., 48., 48., 48., 47., 48., 48., 48., 48., 48., 48.,\n",
       "        48., 48., 47., 48., 48., 48., 48., 47., 48.]),\n",
       " array([48., 48., 48., 48., 48., 48., 48., 48., 48., 48., 48., 48., 48.,\n",
       "        48., 48., 48., 48., 48., 48., 47., 48., 48., 48., 48., 48., 48.,\n",
       "        48., 48., 48., 48., 48., 48., 48., 48., 48., 48., 48., 47., 48.,\n",
       "        48., 48., 48., 48., 48., 47., 48., 48., 48.]),\n",
       " array([96., 96., 96., 96., 96., 96., 96., 96., 96., 96., 96., 96., 96.,\n",
       "        96., 96., 96., 96., 96., 96., 95., 96., 96., 96., 96., 96., 96.,\n",
       "        96., 96., 96., 96., 96., 96., 95., 96., 96., 96., 96., 95., 96.,\n",
       "        96., 96., 95., 96., 96., 95., 96., 95., 96.]))"
      ]
     },
     "execution_count": 16,
     "metadata": {},
     "output_type": "execute_result"
    }
   ],
   "source": [
    "degree"
   ]
  },
  {
   "cell_type": "markdown",
   "metadata": {},
   "source": [
    "**Strength**: Node strength is the sum of weights of links connected to the node. In directed networks, the in-strength is the sum of inward link weights and the out-strength is the sum of outward link weights.\n",
    "\n",
    "- strengths_dir.m (WD networks)."
   ]
  },
  {
   "cell_type": "code",
   "execution_count": 17,
   "metadata": {},
   "outputs": [],
   "source": [
    "strength = bct.strengths_dir(sample['result'])"
   ]
  },
  {
   "cell_type": "code",
   "execution_count": 18,
   "metadata": {
    "scrolled": true
   },
   "outputs": [
    {
     "data": {
      "text/plain": [
       "array([-0.4035924 , -0.31764927, -0.44271753, -0.35222992, -0.29751368,\n",
       "       -0.33139837, -0.42503962, -0.45443953, -0.38505723, -0.21041595,\n",
       "       -0.41968178, -0.26054279, -0.23924198, -0.50340741, -0.4446705 ,\n",
       "       -0.41257788, -0.35447472, -0.74843033, -0.45061899, -0.23139542,\n",
       "       -0.3216253 , -0.496928  , -0.36304345, -0.36244998, -0.72726783,\n",
       "       -0.6500496 , -0.83521071, -0.38456433, -0.28824089, -0.39684499,\n",
       "       -0.4531086 , -0.45182763, -0.50716045, -0.51696171, -0.69193948,\n",
       "       -0.37988999, -0.3634835 , -0.4080805 , -0.36325062, -0.36147737,\n",
       "       -0.405823  , -0.09127808, -0.40687196, -0.30968731, -0.1098223 ,\n",
       "       -0.11078836, -0.38100956, -0.46676392])"
      ]
     },
     "execution_count": 18,
     "metadata": {},
     "output_type": "execute_result"
    }
   ],
   "source": [
    "strength"
   ]
  },
  {
   "cell_type": "markdown",
   "metadata": {},
   "source": [
    "**Joint degree**: This function returns a matrix in which the value of each element (u,v) corresponds to the number of nodes that have u outgoing connections and v incoming connections. Connection weights are ignored.\n",
    "\n",
    "- jdegree.m (BD, WD networks)."
   ]
  },
  {
   "cell_type": "code",
   "execution_count": 19,
   "metadata": {},
   "outputs": [
    {
     "ename": "TypeError",
     "evalue": "'numpy.float64' object cannot be interpreted as an integer",
     "output_type": "error",
     "traceback": [
      "\u001b[0;31m---------------------------------------------------------------------------\u001b[0m",
      "\u001b[0;31mTypeError\u001b[0m                                 Traceback (most recent call last)",
      "\u001b[0;32m<ipython-input-19-0f623f995710>\u001b[0m in \u001b[0;36m<module>\u001b[0;34m\u001b[0m\n\u001b[0;32m----> 1\u001b[0;31m \u001b[0mjdegree\u001b[0m \u001b[0;34m=\u001b[0m \u001b[0mbct\u001b[0m\u001b[0;34m.\u001b[0m\u001b[0mjdegree\u001b[0m\u001b[0;34m(\u001b[0m\u001b[0msample\u001b[0m\u001b[0;34m[\u001b[0m\u001b[0;34m'result'\u001b[0m\u001b[0;34m]\u001b[0m\u001b[0;34m)\u001b[0m\u001b[0;34m\u001b[0m\u001b[0;34m\u001b[0m\u001b[0m\n\u001b[0m",
      "\u001b[0;32m~/anaconda3/lib/python3.7/site-packages/bct/algorithms/degree.py\u001b[0m in \u001b[0;36mjdegree\u001b[0;34m(CIJ)\u001b[0m\n\u001b[1;32m     98\u001b[0m \u001b[0;34m\u001b[0m\u001b[0m\n\u001b[1;32m     99\u001b[0m     \u001b[0mszJ\u001b[0m \u001b[0;34m=\u001b[0m \u001b[0mnp\u001b[0m\u001b[0;34m.\u001b[0m\u001b[0mmax\u001b[0m\u001b[0;34m(\u001b[0m\u001b[0;34m(\u001b[0m\u001b[0mid\u001b[0m\u001b[0;34m,\u001b[0m \u001b[0mod\u001b[0m\u001b[0;34m)\u001b[0m\u001b[0;34m)\u001b[0m \u001b[0;34m+\u001b[0m \u001b[0;36m1\u001b[0m\u001b[0;34m\u001b[0m\u001b[0;34m\u001b[0m\u001b[0m\n\u001b[0;32m--> 100\u001b[0;31m     \u001b[0mJ\u001b[0m \u001b[0;34m=\u001b[0m \u001b[0mnp\u001b[0m\u001b[0;34m.\u001b[0m\u001b[0mzeros\u001b[0m\u001b[0;34m(\u001b[0m\u001b[0;34m(\u001b[0m\u001b[0mszJ\u001b[0m\u001b[0;34m,\u001b[0m \u001b[0mszJ\u001b[0m\u001b[0;34m)\u001b[0m\u001b[0;34m)\u001b[0m\u001b[0;34m\u001b[0m\u001b[0;34m\u001b[0m\u001b[0m\n\u001b[0m\u001b[1;32m    101\u001b[0m \u001b[0;34m\u001b[0m\u001b[0m\n\u001b[1;32m    102\u001b[0m     \u001b[0;32mfor\u001b[0m \u001b[0mi\u001b[0m \u001b[0;32min\u001b[0m \u001b[0mrange\u001b[0m\u001b[0;34m(\u001b[0m\u001b[0mn\u001b[0m\u001b[0;34m)\u001b[0m\u001b[0;34m:\u001b[0m\u001b[0;34m\u001b[0m\u001b[0;34m\u001b[0m\u001b[0m\n",
      "\u001b[0;31mTypeError\u001b[0m: 'numpy.float64' object cannot be interpreted as an integer"
     ]
    }
   ],
   "source": [
    "jdegree = bct.jdegree(sample['result'])"
   ]
  },
  {
   "cell_type": "markdown",
   "metadata": {},
   "source": [
    "**Density**: Density is the fraction of present connections to possible connections. Connection weights are ignored in calculations.\n",
    "\n",
    "- density_dir.m (BD, WD networks)."
   ]
  },
  {
   "cell_type": "code",
   "execution_count": 20,
   "metadata": {},
   "outputs": [],
   "source": [
    "density = bct.density_dir(sample['result'])"
   ]
  },
  {
   "cell_type": "code",
   "execution_count": 79,
   "metadata": {
    "scrolled": true
   },
   "outputs": [
    {
     "data": {
      "text/plain": [
       "1.0199468085106382"
      ]
     },
     "execution_count": 79,
     "metadata": {},
     "output_type": "execute_result"
    }
   ],
   "source": [
    "density[0]"
   ]
  },
  {
   "cell_type": "markdown",
   "metadata": {},
   "source": [
    "**Clustering coefficient**: The clustering coefficient is the fraction of triangles around a node and is equivalent to the fraction of node’s neighbors that are neighbors of each other.\n",
    "\n",
    "- clustering_coef_wd.m (WD networks);"
   ]
  },
  {
   "cell_type": "code",
   "execution_count": 23,
   "metadata": {},
   "outputs": [],
   "source": [
    "clustering_coef_wd = bct.clustering_coef_wd(sample['result'])"
   ]
  },
  {
   "cell_type": "code",
   "execution_count": 24,
   "metadata": {
    "scrolled": true
   },
   "outputs": [
    {
     "data": {
      "text/plain": [
       "array([ 9.74839826e-04,  1.02603716e-03,  9.41969312e-04,  2.19988730e-03,\n",
       "        2.36334629e-03,  2.40746543e-03,  1.22073963e-03,  1.28031147e-03,\n",
       "        2.26418104e-03,  1.92551615e-03,  1.61969954e-03,  1.10338372e-03,\n",
       "        2.42941385e-03,  1.01928359e-03,  1.18627918e-03,  1.32922839e-03,\n",
       "        1.89380428e-03, -1.82187924e-04,  6.67512852e-04,  2.58434999e-03,\n",
       "        2.12335935e-03,  8.84476152e-04,  1.77493116e-03,  1.84809321e-03,\n",
       "        2.02593325e-04,  1.98649905e-04, -1.69530778e-04,  1.55218291e-03,\n",
       "        2.36033880e-03,  1.87532726e-03,  1.19106532e-03,  9.34204185e-04,\n",
       "        1.08030889e-03,  1.00696496e-03,  5.46374224e-05,  1.31605310e-03,\n",
       "        1.96686196e-03,  1.52734465e-03,  1.33861013e-03,  1.32406302e-03,\n",
       "        1.42302528e-03,  2.88292827e-03,  1.35791022e-03,  1.62705542e-03,\n",
       "        3.13441247e-03,  2.40447290e-03,  1.38165767e-03,  1.23537954e-03])"
      ]
     },
     "execution_count": 24,
     "metadata": {},
     "output_type": "execute_result"
    }
   ],
   "source": [
    "clustering_coef_wd"
   ]
  },
  {
   "cell_type": "markdown",
   "metadata": {},
   "source": [
    "**Transitivity**: The transitivity is the ratio of triangles to triplets in the network and is an alternative to the clustering coefficient.\n",
    "\n",
    "- transitivity_wd.m (WD networks)."
   ]
  },
  {
   "cell_type": "code",
   "execution_count": 25,
   "metadata": {},
   "outputs": [],
   "source": [
    "transitivity_wd = bct.transitivity_wd(sample['result'])"
   ]
  },
  {
   "cell_type": "code",
   "execution_count": 26,
   "metadata": {
    "scrolled": false
   },
   "outputs": [
    {
     "data": {
      "text/plain": [
       "0.0014585926946601836"
      ]
     },
     "execution_count": 26,
     "metadata": {},
     "output_type": "execute_result"
    }
   ],
   "source": [
    "transitivity_wd"
   ]
  },
  {
   "cell_type": "markdown",
   "metadata": {},
   "source": [
    "**Local efficiency**: The local efficiency is the global efficiency (see below) computed on node neighborhoods, and is related to the clustering coefficient.\n",
    "\n",
    "- efficiency_wei.m (WU, WD networks)."
   ]
  },
  {
   "cell_type": "code",
   "execution_count": 27,
   "metadata": {},
   "outputs": [],
   "source": [
    "efficiency_wei = bct.efficiency_wei(sample['result'])"
   ]
  },
  {
   "cell_type": "code",
   "execution_count": 28,
   "metadata": {
    "scrolled": false
   },
   "outputs": [
    {
     "data": {
      "text/plain": [
       "1.1636754699001931e-05"
      ]
     },
     "execution_count": 28,
     "metadata": {},
     "output_type": "execute_result"
    }
   ],
   "source": [
    "efficiency_wei"
   ]
  },
  {
   "cell_type": "markdown",
   "metadata": {},
   "source": [
    "**Community structure and modularity**: The optimal community structure is a subdivision of the network into nonoverlapping groups of nodes in a way that maximizes the number of within-group edges, and minimizes the number of between-group edges. The modularity is a statistic that quantifies the degree to which the network may be subdivided into such clearly delineated groups.\n",
    "\n",
    "- community_louvain.m (BU, WU, BD, WD, signed networks): Louvain community detection algorithm with added finetuning.\n",
    "\n",
    "- modularity_dir.m (BD, WD networks): Newman's spectral community detection.\n",
    "\n",
    "- link_communities.m (BU, WU, BD, WD networks): Link-based community-detection algorithm (detects overlapping communities)."
   ]
  },
  {
   "cell_type": "code",
   "execution_count": 29,
   "metadata": {},
   "outputs": [
    {
     "ename": "BCTParamError",
     "evalue": "Input connection matrix contains negative weights but objective function dealing with negative weights was not selected",
     "output_type": "error",
     "traceback": [
      "\u001b[0;31m---------------------------------------------------------------------------\u001b[0m",
      "\u001b[0;31mBCTParamError\u001b[0m                             Traceback (most recent call last)",
      "\u001b[0;32m<ipython-input-29-ad6877d1ed2f>\u001b[0m in \u001b[0;36m<module>\u001b[0;34m\u001b[0m\n\u001b[0;32m----> 1\u001b[0;31m \u001b[0mcommunity_louvain\u001b[0m \u001b[0;34m=\u001b[0m \u001b[0mbct\u001b[0m\u001b[0;34m.\u001b[0m\u001b[0mcommunity_louvain\u001b[0m\u001b[0;34m(\u001b[0m\u001b[0msample\u001b[0m\u001b[0;34m[\u001b[0m\u001b[0;34m'result'\u001b[0m\u001b[0;34m]\u001b[0m\u001b[0;34m)\u001b[0m\u001b[0;34m\u001b[0m\u001b[0;34m\u001b[0m\u001b[0m\n\u001b[0m",
      "\u001b[0;32m~/anaconda3/lib/python3.7/site-packages/bct/algorithms/modularity.py\u001b[0m in \u001b[0;36mcommunity_louvain\u001b[0;34m(W, gamma, ci, B, seed)\u001b[0m\n\u001b[1;32m    139\u001b[0m \u001b[0;34m\u001b[0m\u001b[0m\n\u001b[1;32m    140\u001b[0m     \u001b[0;32melif\u001b[0m \u001b[0mnp\u001b[0m\u001b[0;34m.\u001b[0m\u001b[0mmin\u001b[0m\u001b[0;34m(\u001b[0m\u001b[0mW\u001b[0m\u001b[0;34m)\u001b[0m \u001b[0;34m<\u001b[0m \u001b[0;34m-\u001b[0m\u001b[0;36m1e-10\u001b[0m\u001b[0;34m:\u001b[0m\u001b[0;34m\u001b[0m\u001b[0;34m\u001b[0m\u001b[0m\n\u001b[0;32m--> 141\u001b[0;31m         raise BCTParamError(\"Input connection matrix contains negative \"\n\u001b[0m\u001b[1;32m    142\u001b[0m             \u001b[0;34m'weights but objective function dealing with negative weights '\u001b[0m\u001b[0;34m\u001b[0m\u001b[0;34m\u001b[0m\u001b[0m\n\u001b[1;32m    143\u001b[0m             'was not selected')\n",
      "\u001b[0;31mBCTParamError\u001b[0m: Input connection matrix contains negative weights but objective function dealing with negative weights was not selected"
     ]
    }
   ],
   "source": [
    "community_louvain = bct.community_louvain(sample['result'])"
   ]
  },
  {
   "cell_type": "code",
   "execution_count": 30,
   "metadata": {},
   "outputs": [],
   "source": [
    "modularity = bct.modularity_dir(sample['result'])"
   ]
  },
  {
   "cell_type": "code",
   "execution_count": 154,
   "metadata": {
    "scrolled": true
   },
   "outputs": [
    {
     "data": {
      "text/plain": [
       "-1.3530843112619095e-16"
      ]
     },
     "execution_count": 154,
     "metadata": {},
     "output_type": "execute_result"
    }
   ],
   "source": [
    "modularity[-1]"
   ]
  },
  {
   "cell_type": "code",
   "execution_count": 32,
   "metadata": {},
   "outputs": [
    {
     "name": "stdout",
     "output_type": "stream",
     "text": [
      "hierarchy 0\n",
      "hierarchy 1\n"
     ]
    },
    {
     "name": "stderr",
     "output_type": "stream",
     "text": [
      "/home/connectome/stellasybae/anaconda3/lib/python3.7/site-packages/bct/algorithms/modularity.py:414: FutureWarning: arrays to stack must be passed as a \"sequence\" type such as list or tuple. Support for non-sequence iterables such as generators is deprecated as of NumPy 1.16 and will raise an error in the future.\n",
      "  unq_rows = np.vstack({tuple(row) for row in ug_rows})\n"
     ]
    },
    {
     "name": "stdout",
     "output_type": "stream",
     "text": [
      "hierarchy 2\n",
      "hierarchy 3\n",
      "hierarchy 4\n",
      "hierarchy 5\n",
      "hierarchy 6\n",
      "hierarchy 7\n",
      "hierarchy 8\n",
      "hierarchy 9\n",
      "hierarchy 10\n",
      "hierarchy 11\n",
      "hierarchy 12\n",
      "hierarchy 13\n",
      "hierarchy 14\n",
      "hierarchy 15\n",
      "hierarchy 16\n",
      "hierarchy 17\n",
      "hierarchy 18\n",
      "hierarchy 19\n",
      "hierarchy 20\n",
      "hierarchy 21\n",
      "hierarchy 22\n",
      "hierarchy 23\n",
      "hierarchy 24\n",
      "hierarchy 25\n",
      "hierarchy 26\n",
      "hierarchy 27\n",
      "hierarchy 28\n",
      "hierarchy 29\n",
      "hierarchy 30\n",
      "hierarchy 31\n",
      "hierarchy 32\n",
      "hierarchy 33\n",
      "hierarchy 34\n",
      "hierarchy 35\n",
      "hierarchy 36\n",
      "hierarchy 37\n",
      "hierarchy 38\n",
      "hierarchy 39\n",
      "hierarchy 40\n",
      "hierarchy 41\n",
      "hierarchy 42\n",
      "hierarchy 43\n",
      "hierarchy 44\n",
      "hierarchy 45\n",
      "hierarchy 46\n",
      "hierarchy 47\n",
      "hierarchy 48\n",
      "hierarchy 49\n",
      "hierarchy 50\n",
      "hierarchy 51\n",
      "hierarchy 52\n",
      "hierarchy 53\n",
      "hierarchy 54\n",
      "hierarchy 55\n",
      "hierarchy 56\n",
      "hierarchy 57\n",
      "hierarchy 58\n",
      "hierarchy 59\n",
      "hierarchy 60\n",
      "hierarchy 61\n",
      "hierarchy 62\n",
      "hierarchy 63\n",
      "hierarchy 64\n",
      "hierarchy 65\n",
      "hierarchy 66\n",
      "hierarchy 67\n",
      "hierarchy 68\n",
      "hierarchy 69\n",
      "hierarchy 70\n",
      "hierarchy 71\n",
      "hierarchy 72\n",
      "hierarchy 73\n",
      "hierarchy 74\n",
      "hierarchy 75\n",
      "hierarchy 76\n",
      "hierarchy 77\n",
      "hierarchy 78\n",
      "hierarchy 79\n",
      "hierarchy 80\n",
      "hierarchy 81\n",
      "hierarchy 82\n",
      "hierarchy 83\n",
      "hierarchy 84\n",
      "hierarchy 85\n",
      "hierarchy 86\n",
      "hierarchy 87\n",
      "hierarchy 88\n",
      "hierarchy 89\n",
      "hierarchy 90\n",
      "hierarchy 91\n",
      "hierarchy 92\n",
      "hierarchy 93\n",
      "hierarchy 94\n",
      "hierarchy 95\n",
      "hierarchy 96\n",
      "hierarchy 97\n",
      "hierarchy 98\n",
      "hierarchy 99\n",
      "hierarchy 100\n",
      "hierarchy 101\n",
      "hierarchy 102\n",
      "hierarchy 103\n",
      "hierarchy 104\n",
      "hierarchy 105\n",
      "hierarchy 106\n",
      "hierarchy 107\n",
      "hierarchy 108\n",
      "hierarchy 109\n",
      "hierarchy 110\n",
      "hierarchy 111\n",
      "hierarchy 112\n",
      "hierarchy 113\n",
      "hierarchy 114\n",
      "hierarchy 115\n",
      "hierarchy 116\n",
      "hierarchy 117\n",
      "hierarchy 118\n",
      "hierarchy 119\n",
      "hierarchy 120\n",
      "hierarchy 121\n",
      "hierarchy 122\n",
      "hierarchy 123\n",
      "hierarchy 124\n",
      "hierarchy 125\n",
      "hierarchy 126\n",
      "hierarchy 127\n",
      "hierarchy 128\n",
      "hierarchy 129\n",
      "hierarchy 130\n",
      "hierarchy 131\n",
      "hierarchy 132\n",
      "hierarchy 133\n",
      "hierarchy 134\n",
      "hierarchy 135\n",
      "hierarchy 136\n",
      "hierarchy 137\n",
      "hierarchy 138\n",
      "hierarchy 139\n",
      "hierarchy 140\n",
      "hierarchy 141\n",
      "hierarchy 142\n",
      "hierarchy 143\n",
      "hierarchy 144\n",
      "hierarchy 145\n",
      "hierarchy 146\n",
      "hierarchy 147\n",
      "hierarchy 148\n",
      "hierarchy 149\n",
      "hierarchy 150\n",
      "hierarchy 151\n",
      "hierarchy 152\n",
      "hierarchy 153\n",
      "hierarchy 154\n",
      "hierarchy 155\n",
      "hierarchy 156\n",
      "hierarchy 157\n",
      "hierarchy 158\n",
      "hierarchy 159\n",
      "hierarchy 160\n",
      "hierarchy 161\n",
      "hierarchy 162\n",
      "hierarchy 163\n",
      "hierarchy 164\n",
      "hierarchy 165\n",
      "hierarchy 166\n",
      "hierarchy 167\n",
      "hierarchy 168\n",
      "hierarchy 169\n",
      "hierarchy 170\n",
      "hierarchy 171\n",
      "hierarchy 172\n",
      "hierarchy 173\n",
      "hierarchy 174\n",
      "hierarchy 175\n",
      "hierarchy 176\n",
      "hierarchy 177\n",
      "hierarchy 178\n",
      "hierarchy 179\n",
      "hierarchy 180\n",
      "hierarchy 181\n",
      "hierarchy 182\n",
      "hierarchy 183\n",
      "hierarchy 184\n",
      "hierarchy 185\n",
      "hierarchy 186\n",
      "hierarchy 187\n",
      "hierarchy 188\n",
      "hierarchy 189\n",
      "hierarchy 190\n",
      "hierarchy 191\n",
      "hierarchy 192\n",
      "hierarchy 193\n",
      "hierarchy 194\n",
      "hierarchy 195\n",
      "hierarchy 196\n",
      "hierarchy 197\n",
      "hierarchy 198\n",
      "hierarchy 199\n",
      "hierarchy 200\n",
      "hierarchy 201\n",
      "hierarchy 202\n",
      "hierarchy 203\n",
      "hierarchy 204\n",
      "hierarchy 205\n",
      "hierarchy 206\n",
      "hierarchy 207\n",
      "hierarchy 208\n",
      "hierarchy 209\n",
      "hierarchy 210\n",
      "hierarchy 211\n",
      "hierarchy 212\n",
      "hierarchy 213\n",
      "hierarchy 214\n",
      "hierarchy 215\n",
      "hierarchy 216\n",
      "hierarchy 217\n",
      "hierarchy 218\n",
      "hierarchy 219\n",
      "hierarchy 220\n",
      "hierarchy 221\n",
      "hierarchy 222\n",
      "hierarchy 223\n",
      "hierarchy 224\n",
      "hierarchy 225\n",
      "hierarchy 226\n",
      "hierarchy 227\n",
      "hierarchy 228\n",
      "hierarchy 229\n",
      "hierarchy 230\n",
      "hierarchy 231\n",
      "hierarchy 232\n",
      "hierarchy 233\n",
      "hierarchy 234\n",
      "hierarchy 235\n",
      "hierarchy 236\n",
      "hierarchy 237\n",
      "hierarchy 238\n",
      "hierarchy 239\n",
      "hierarchy 240\n",
      "hierarchy 241\n",
      "hierarchy 242\n",
      "hierarchy 243\n",
      "hierarchy 244\n",
      "hierarchy 245\n",
      "hierarchy 246\n",
      "hierarchy 247\n",
      "hierarchy 248\n",
      "hierarchy 249\n",
      "hierarchy 250\n",
      "hierarchy 251\n",
      "hierarchy 252\n",
      "hierarchy 253\n",
      "hierarchy 254\n",
      "hierarchy 255\n",
      "hierarchy 256\n",
      "hierarchy 257\n",
      "hierarchy 258\n",
      "hierarchy 259\n",
      "hierarchy 260\n",
      "hierarchy 261\n",
      "hierarchy 262\n",
      "hierarchy 263\n",
      "hierarchy 264\n",
      "hierarchy 265\n",
      "hierarchy 266\n",
      "hierarchy 267\n",
      "hierarchy 268\n",
      "hierarchy 269\n",
      "hierarchy 270\n",
      "hierarchy 271\n",
      "hierarchy 272\n",
      "hierarchy 273\n",
      "hierarchy 274\n",
      "hierarchy 275\n",
      "hierarchy 276\n",
      "hierarchy 277\n",
      "hierarchy 278\n",
      "hierarchy 279\n",
      "hierarchy 280\n",
      "hierarchy 281\n",
      "hierarchy 282\n",
      "hierarchy 283\n",
      "hierarchy 284\n",
      "hierarchy 285\n",
      "hierarchy 286\n",
      "hierarchy 287\n",
      "hierarchy 288\n",
      "hierarchy 289\n",
      "hierarchy 290\n",
      "hierarchy 291\n",
      "hierarchy 292\n",
      "hierarchy 293\n",
      "hierarchy 294\n",
      "hierarchy 295\n",
      "hierarchy 296\n",
      "hierarchy 297\n",
      "hierarchy 298\n",
      "hierarchy 299\n",
      "hierarchy 300\n",
      "hierarchy 301\n",
      "hierarchy 302\n",
      "hierarchy 303\n",
      "hierarchy 304\n",
      "hierarchy 305\n",
      "hierarchy 306\n",
      "hierarchy 307\n",
      "hierarchy 308\n",
      "hierarchy 309\n",
      "hierarchy 310\n",
      "hierarchy 311\n",
      "hierarchy 312\n",
      "hierarchy 313\n",
      "hierarchy 314\n",
      "hierarchy 315\n",
      "hierarchy 316\n",
      "hierarchy 317\n",
      "hierarchy 318\n",
      "hierarchy 319\n",
      "hierarchy 320\n",
      "hierarchy 321\n",
      "hierarchy 322\n",
      "hierarchy 323\n",
      "hierarchy 324\n",
      "hierarchy 325\n",
      "hierarchy 326\n",
      "hierarchy 327\n",
      "hierarchy 328\n",
      "hierarchy 329\n",
      "hierarchy 330\n",
      "hierarchy 331\n",
      "hierarchy 332\n",
      "hierarchy 333\n",
      "hierarchy 334\n",
      "hierarchy 335\n",
      "hierarchy 336\n",
      "hierarchy 337\n",
      "hierarchy 338\n",
      "hierarchy 339\n",
      "hierarchy 340\n",
      "hierarchy 341\n",
      "hierarchy 342\n",
      "hierarchy 343\n",
      "hierarchy 344\n",
      "hierarchy 345\n",
      "hierarchy 346\n",
      "hierarchy 347\n",
      "hierarchy 348\n",
      "hierarchy 349\n",
      "hierarchy 350\n",
      "hierarchy 351\n",
      "hierarchy 352\n",
      "hierarchy 353\n",
      "hierarchy 354\n",
      "hierarchy 355\n",
      "hierarchy 356\n",
      "hierarchy 357\n",
      "hierarchy 358\n",
      "hierarchy 359\n",
      "hierarchy 360\n",
      "hierarchy 361\n",
      "hierarchy 362\n",
      "hierarchy 363\n",
      "hierarchy 364\n",
      "hierarchy 365\n",
      "hierarchy 366\n",
      "hierarchy 367\n",
      "hierarchy 368\n",
      "hierarchy 369\n",
      "hierarchy 370\n",
      "hierarchy 371\n",
      "hierarchy 372\n",
      "hierarchy 373\n",
      "hierarchy 374\n",
      "hierarchy 375\n",
      "hierarchy 376\n",
      "hierarchy 377\n",
      "hierarchy 378\n",
      "hierarchy 379\n",
      "hierarchy 380\n",
      "hierarchy 381\n",
      "hierarchy 382\n",
      "hierarchy 383\n",
      "hierarchy 384\n",
      "hierarchy 385\n",
      "hierarchy 386\n",
      "hierarchy 387\n",
      "hierarchy 388\n",
      "hierarchy 389\n",
      "hierarchy 390\n",
      "hierarchy 391\n",
      "hierarchy 392\n",
      "hierarchy 393\n",
      "hierarchy 394\n",
      "hierarchy 395\n",
      "hierarchy 396\n",
      "hierarchy 397\n",
      "hierarchy 398\n",
      "hierarchy 399\n",
      "hierarchy 400\n",
      "hierarchy 401\n",
      "hierarchy 402\n",
      "hierarchy 403\n",
      "hierarchy 404\n",
      "hierarchy 405\n",
      "hierarchy 406\n",
      "hierarchy 407\n",
      "hierarchy 408\n",
      "hierarchy 409\n",
      "hierarchy 410\n",
      "hierarchy 411\n",
      "hierarchy 412\n",
      "hierarchy 413\n",
      "hierarchy 414\n",
      "hierarchy 415\n",
      "hierarchy 416\n",
      "hierarchy 417\n",
      "hierarchy 418\n",
      "hierarchy 419\n",
      "hierarchy 420\n",
      "hierarchy 421\n",
      "hierarchy 422\n",
      "hierarchy 423\n",
      "hierarchy 424\n",
      "hierarchy 425\n",
      "hierarchy 426\n",
      "hierarchy 427\n",
      "hierarchy 428\n",
      "hierarchy 429\n",
      "hierarchy 430\n",
      "hierarchy 431\n",
      "hierarchy 432\n",
      "hierarchy 433\n",
      "hierarchy 434\n",
      "hierarchy 435\n",
      "hierarchy 436\n",
      "hierarchy 437\n",
      "hierarchy 438\n",
      "hierarchy 439\n",
      "hierarchy 440\n",
      "hierarchy 441\n",
      "hierarchy 442\n",
      "hierarchy 443\n",
      "hierarchy 444\n",
      "hierarchy 445\n",
      "hierarchy 446\n",
      "hierarchy 447\n",
      "hierarchy 448\n",
      "hierarchy 449\n",
      "hierarchy 450\n",
      "hierarchy 451\n",
      "hierarchy 452\n",
      "hierarchy 453\n",
      "hierarchy 454\n",
      "hierarchy 455\n",
      "hierarchy 456\n",
      "hierarchy 457\n",
      "hierarchy 458\n",
      "hierarchy 459\n",
      "hierarchy 460\n",
      "hierarchy 461\n",
      "hierarchy 462\n",
      "hierarchy 463\n",
      "hierarchy 464\n",
      "hierarchy 465\n",
      "hierarchy 466\n",
      "hierarchy 467\n",
      "hierarchy 468\n",
      "hierarchy 469\n",
      "hierarchy 470\n",
      "hierarchy 471\n",
      "hierarchy 472\n",
      "hierarchy 473\n",
      "hierarchy 474\n",
      "hierarchy 475\n",
      "hierarchy 476\n",
      "hierarchy 477\n",
      "hierarchy 478\n",
      "hierarchy 479\n",
      "hierarchy 480\n",
      "hierarchy 481\n",
      "hierarchy 482\n",
      "hierarchy 483\n",
      "hierarchy 484\n",
      "hierarchy 485\n",
      "hierarchy 486\n",
      "hierarchy 487\n",
      "hierarchy 488\n",
      "hierarchy 489\n",
      "hierarchy 490\n",
      "hierarchy 491\n",
      "hierarchy 492\n",
      "hierarchy 493\n",
      "hierarchy 494\n",
      "hierarchy 495\n",
      "hierarchy 496\n",
      "hierarchy 497\n",
      "hierarchy 498\n",
      "hierarchy 499\n",
      "hierarchy 500\n",
      "hierarchy 501\n",
      "hierarchy 502\n",
      "hierarchy 503\n",
      "hierarchy 504\n",
      "hierarchy 505\n",
      "hierarchy 506\n",
      "hierarchy 507\n",
      "hierarchy 508\n",
      "hierarchy 509\n",
      "hierarchy 510\n",
      "hierarchy 511\n",
      "hierarchy 512\n",
      "hierarchy 513\n",
      "hierarchy 514\n",
      "hierarchy 515\n",
      "hierarchy 516\n",
      "hierarchy 517\n",
      "hierarchy 518\n",
      "hierarchy 519\n",
      "hierarchy 520\n",
      "hierarchy 521\n",
      "hierarchy 522\n",
      "hierarchy 523\n",
      "hierarchy 524\n",
      "hierarchy 525\n",
      "hierarchy 526\n",
      "hierarchy 527\n",
      "hierarchy 528\n",
      "hierarchy 529\n",
      "hierarchy 530\n",
      "hierarchy 531\n",
      "hierarchy 532\n",
      "hierarchy 533\n",
      "hierarchy 534\n",
      "hierarchy 535\n",
      "hierarchy 536\n",
      "hierarchy 537\n",
      "hierarchy 538\n",
      "hierarchy 539\n",
      "hierarchy 540\n",
      "hierarchy 541\n",
      "hierarchy 542\n",
      "hierarchy 543\n",
      "hierarchy 544\n",
      "hierarchy 545\n",
      "hierarchy 546\n",
      "hierarchy 547\n",
      "hierarchy 548\n",
      "hierarchy 549\n",
      "hierarchy 550\n",
      "hierarchy 551\n",
      "hierarchy 552\n",
      "hierarchy 553\n",
      "hierarchy 554\n",
      "hierarchy 555\n",
      "hierarchy 556\n",
      "hierarchy 557\n",
      "hierarchy 558\n",
      "hierarchy 559\n",
      "hierarchy 560\n",
      "hierarchy 561\n",
      "hierarchy 562\n",
      "hierarchy 563\n",
      "hierarchy 564\n",
      "hierarchy 565\n",
      "hierarchy 566\n",
      "hierarchy 567\n",
      "hierarchy 568\n",
      "hierarchy 569\n",
      "hierarchy 570\n",
      "hierarchy 571\n",
      "hierarchy 572\n",
      "hierarchy 573\n",
      "hierarchy 574\n",
      "hierarchy 575\n",
      "hierarchy 576\n",
      "hierarchy 577\n",
      "hierarchy 578\n",
      "hierarchy 579\n",
      "hierarchy 580\n",
      "hierarchy 581\n",
      "hierarchy 582\n",
      "hierarchy 583\n",
      "hierarchy 584\n",
      "hierarchy 585\n",
      "hierarchy 586\n",
      "hierarchy 587\n",
      "hierarchy 588\n",
      "hierarchy 589\n",
      "hierarchy 590\n",
      "hierarchy 591\n",
      "hierarchy 592\n",
      "hierarchy 593\n",
      "hierarchy 594\n",
      "hierarchy 595\n"
     ]
    },
    {
     "name": "stdout",
     "output_type": "stream",
     "text": [
      "hierarchy 596\n",
      "hierarchy 597\n",
      "hierarchy 598\n",
      "hierarchy 599\n",
      "hierarchy 600\n",
      "hierarchy 601\n",
      "hierarchy 602\n",
      "hierarchy 603\n",
      "hierarchy 604\n",
      "hierarchy 605\n",
      "hierarchy 606\n",
      "hierarchy 607\n",
      "hierarchy 608\n",
      "hierarchy 609\n",
      "hierarchy 610\n",
      "hierarchy 611\n",
      "hierarchy 612\n",
      "hierarchy 613\n",
      "hierarchy 614\n",
      "hierarchy 615\n",
      "hierarchy 616\n",
      "hierarchy 617\n",
      "hierarchy 618\n",
      "hierarchy 619\n",
      "hierarchy 620\n",
      "hierarchy 621\n",
      "hierarchy 622\n",
      "hierarchy 623\n",
      "hierarchy 624\n",
      "hierarchy 625\n",
      "hierarchy 626\n",
      "hierarchy 627\n",
      "hierarchy 628\n",
      "hierarchy 629\n",
      "hierarchy 630\n",
      "hierarchy 631\n",
      "hierarchy 632\n",
      "hierarchy 633\n",
      "hierarchy 634\n",
      "hierarchy 635\n",
      "hierarchy 636\n",
      "hierarchy 637\n",
      "hierarchy 638\n",
      "hierarchy 639\n",
      "hierarchy 640\n",
      "hierarchy 641\n",
      "hierarchy 642\n",
      "hierarchy 643\n",
      "hierarchy 644\n",
      "hierarchy 645\n",
      "hierarchy 646\n",
      "hierarchy 647\n",
      "hierarchy 648\n",
      "hierarchy 649\n",
      "hierarchy 650\n",
      "hierarchy 651\n",
      "hierarchy 652\n",
      "hierarchy 653\n",
      "hierarchy 654\n",
      "hierarchy 655\n",
      "hierarchy 656\n",
      "hierarchy 657\n",
      "hierarchy 658\n",
      "hierarchy 659\n",
      "hierarchy 660\n",
      "hierarchy 661\n",
      "hierarchy 662\n",
      "hierarchy 663\n",
      "hierarchy 664\n",
      "hierarchy 665\n",
      "hierarchy 666\n",
      "hierarchy 667\n",
      "hierarchy 668\n",
      "hierarchy 669\n",
      "hierarchy 670\n",
      "hierarchy 671\n",
      "hierarchy 672\n",
      "hierarchy 673\n",
      "hierarchy 674\n",
      "hierarchy 675\n",
      "hierarchy 676\n",
      "hierarchy 677\n",
      "hierarchy 678\n",
      "hierarchy 679\n",
      "hierarchy 680\n",
      "hierarchy 681\n",
      "hierarchy 682\n",
      "hierarchy 683\n",
      "hierarchy 684\n",
      "hierarchy 685\n",
      "hierarchy 686\n",
      "hierarchy 687\n",
      "hierarchy 688\n",
      "hierarchy 689\n",
      "hierarchy 690\n",
      "hierarchy 691\n",
      "hierarchy 692\n",
      "hierarchy 693\n",
      "hierarchy 694\n",
      "hierarchy 695\n",
      "hierarchy 696\n",
      "hierarchy 697\n",
      "hierarchy 698\n",
      "hierarchy 699\n",
      "hierarchy 700\n",
      "hierarchy 701\n",
      "hierarchy 702\n",
      "hierarchy 703\n",
      "hierarchy 704\n",
      "hierarchy 705\n",
      "hierarchy 706\n",
      "hierarchy 707\n",
      "hierarchy 708\n",
      "hierarchy 709\n",
      "hierarchy 710\n",
      "hierarchy 711\n",
      "hierarchy 712\n",
      "hierarchy 713\n",
      "hierarchy 714\n",
      "hierarchy 715\n",
      "hierarchy 716\n",
      "hierarchy 717\n",
      "hierarchy 718\n",
      "hierarchy 719\n",
      "hierarchy 720\n",
      "hierarchy 721\n",
      "hierarchy 722\n",
      "hierarchy 723\n",
      "hierarchy 724\n",
      "hierarchy 725\n",
      "hierarchy 726\n",
      "hierarchy 727\n",
      "hierarchy 728\n",
      "hierarchy 729\n",
      "hierarchy 730\n",
      "hierarchy 731\n",
      "hierarchy 732\n",
      "hierarchy 733\n",
      "hierarchy 734\n",
      "hierarchy 735\n",
      "hierarchy 736\n",
      "hierarchy 737\n",
      "hierarchy 738\n",
      "hierarchy 739\n",
      "hierarchy 740\n",
      "hierarchy 741\n",
      "hierarchy 742\n",
      "hierarchy 743\n",
      "hierarchy 744\n",
      "hierarchy 745\n",
      "hierarchy 746\n",
      "hierarchy 747\n",
      "hierarchy 748\n",
      "hierarchy 749\n",
      "hierarchy 750\n",
      "hierarchy 751\n",
      "hierarchy 752\n",
      "hierarchy 753\n",
      "hierarchy 754\n",
      "hierarchy 755\n",
      "hierarchy 756\n",
      "hierarchy 757\n",
      "hierarchy 758\n",
      "hierarchy 759\n",
      "hierarchy 760\n",
      "hierarchy 761\n",
      "hierarchy 762\n",
      "hierarchy 763\n",
      "hierarchy 764\n",
      "hierarchy 765\n",
      "hierarchy 766\n",
      "hierarchy 767\n",
      "hierarchy 768\n",
      "hierarchy 769\n",
      "hierarchy 770\n",
      "hierarchy 771\n",
      "hierarchy 772\n",
      "hierarchy 773\n",
      "hierarchy 774\n",
      "hierarchy 775\n",
      "hierarchy 776\n",
      "hierarchy 777\n",
      "hierarchy 778\n",
      "hierarchy 779\n",
      "hierarchy 780\n",
      "hierarchy 781\n",
      "hierarchy 782\n",
      "hierarchy 783\n",
      "hierarchy 784\n",
      "hierarchy 785\n",
      "hierarchy 786\n",
      "hierarchy 787\n",
      "hierarchy 788\n",
      "hierarchy 789\n",
      "hierarchy 790\n",
      "hierarchy 791\n",
      "hierarchy 792\n",
      "hierarchy 793\n",
      "hierarchy 794\n",
      "hierarchy 795\n",
      "hierarchy 796\n",
      "hierarchy 797\n",
      "hierarchy 798\n",
      "hierarchy 799\n",
      "hierarchy 800\n",
      "hierarchy 801\n",
      "hierarchy 802\n",
      "hierarchy 803\n",
      "hierarchy 804\n",
      "hierarchy 805\n",
      "hierarchy 806\n",
      "hierarchy 807\n",
      "hierarchy 808\n",
      "hierarchy 809\n",
      "hierarchy 810\n",
      "hierarchy 811\n",
      "hierarchy 812\n",
      "hierarchy 813\n",
      "hierarchy 814\n",
      "hierarchy 815\n",
      "hierarchy 816\n",
      "hierarchy 817\n",
      "hierarchy 818\n",
      "hierarchy 819\n",
      "hierarchy 820\n",
      "hierarchy 821\n",
      "hierarchy 822\n",
      "hierarchy 823\n",
      "hierarchy 824\n",
      "hierarchy 825\n",
      "hierarchy 826\n",
      "hierarchy 827\n",
      "hierarchy 828\n",
      "hierarchy 829\n",
      "hierarchy 830\n",
      "hierarchy 831\n",
      "hierarchy 832\n",
      "hierarchy 833\n",
      "hierarchy 834\n",
      "hierarchy 835\n",
      "hierarchy 836\n",
      "hierarchy 837\n",
      "hierarchy 838\n",
      "hierarchy 839\n",
      "hierarchy 840\n",
      "hierarchy 841\n",
      "hierarchy 842\n",
      "hierarchy 843\n",
      "hierarchy 844\n",
      "hierarchy 845\n",
      "hierarchy 846\n",
      "hierarchy 847\n",
      "hierarchy 848\n",
      "hierarchy 849\n",
      "hierarchy 850\n",
      "hierarchy 851\n",
      "hierarchy 852\n",
      "hierarchy 853\n",
      "hierarchy 854\n",
      "hierarchy 855\n",
      "hierarchy 856\n",
      "hierarchy 857\n",
      "hierarchy 858\n",
      "hierarchy 859\n",
      "hierarchy 860\n",
      "hierarchy 861\n",
      "hierarchy 862\n",
      "hierarchy 863\n",
      "hierarchy 864\n",
      "hierarchy 865\n",
      "hierarchy 866\n",
      "hierarchy 867\n",
      "hierarchy 868\n",
      "hierarchy 869\n",
      "hierarchy 870\n",
      "hierarchy 871\n",
      "hierarchy 872\n",
      "hierarchy 873\n",
      "hierarchy 874\n",
      "hierarchy 875\n",
      "hierarchy 876\n",
      "hierarchy 877\n",
      "hierarchy 878\n",
      "hierarchy 879\n",
      "hierarchy 880\n",
      "hierarchy 881\n",
      "hierarchy 882\n",
      "hierarchy 883\n",
      "hierarchy 884\n",
      "hierarchy 885\n",
      "hierarchy 886\n",
      "hierarchy 887\n",
      "hierarchy 888\n",
      "hierarchy 889\n",
      "hierarchy 890\n",
      "hierarchy 891\n",
      "hierarchy 892\n",
      "hierarchy 893\n",
      "hierarchy 894\n",
      "hierarchy 895\n",
      "hierarchy 896\n",
      "hierarchy 897\n",
      "hierarchy 898\n",
      "hierarchy 899\n",
      "hierarchy 900\n",
      "hierarchy 901\n",
      "hierarchy 902\n",
      "hierarchy 903\n",
      "hierarchy 904\n",
      "hierarchy 905\n",
      "hierarchy 906\n",
      "hierarchy 907\n",
      "hierarchy 908\n",
      "hierarchy 909\n",
      "hierarchy 910\n",
      "hierarchy 911\n",
      "hierarchy 912\n",
      "hierarchy 913\n",
      "hierarchy 914\n",
      "hierarchy 915\n",
      "hierarchy 916\n",
      "hierarchy 917\n",
      "hierarchy 918\n",
      "hierarchy 919\n",
      "hierarchy 920\n",
      "hierarchy 921\n",
      "hierarchy 922\n",
      "hierarchy 923\n",
      "hierarchy 924\n",
      "hierarchy 925\n",
      "hierarchy 926\n",
      "hierarchy 927\n",
      "hierarchy 928\n",
      "hierarchy 929\n",
      "hierarchy 930\n",
      "hierarchy 931\n",
      "hierarchy 932\n",
      "hierarchy 933\n",
      "hierarchy 934\n",
      "hierarchy 935\n",
      "hierarchy 936\n",
      "hierarchy 937\n",
      "hierarchy 938\n",
      "hierarchy 939\n",
      "hierarchy 940\n",
      "hierarchy 941\n",
      "hierarchy 942\n",
      "hierarchy 943\n",
      "hierarchy 944\n",
      "hierarchy 945\n",
      "hierarchy 946\n",
      "hierarchy 947\n",
      "hierarchy 948\n",
      "hierarchy 949\n",
      "hierarchy 950\n",
      "hierarchy 951\n",
      "hierarchy 952\n",
      "hierarchy 953\n",
      "hierarchy 954\n",
      "hierarchy 955\n",
      "hierarchy 956\n",
      "hierarchy 957\n",
      "hierarchy 958\n",
      "hierarchy 959\n",
      "hierarchy 960\n",
      "hierarchy 961\n",
      "hierarchy 962\n",
      "hierarchy 963\n",
      "hierarchy 964\n",
      "hierarchy 965\n",
      "hierarchy 966\n",
      "hierarchy 967\n",
      "hierarchy 968\n",
      "hierarchy 969\n",
      "hierarchy 970\n",
      "hierarchy 971\n",
      "hierarchy 972\n",
      "hierarchy 973\n",
      "hierarchy 974\n",
      "hierarchy 975\n",
      "hierarchy 976\n",
      "hierarchy 977\n",
      "hierarchy 978\n",
      "hierarchy 979\n",
      "hierarchy 980\n",
      "hierarchy 981\n",
      "hierarchy 982\n",
      "hierarchy 983\n",
      "hierarchy 984\n",
      "hierarchy 985\n",
      "hierarchy 986\n",
      "hierarchy 987\n",
      "hierarchy 988\n",
      "hierarchy 989\n",
      "hierarchy 990\n",
      "hierarchy 991\n",
      "hierarchy 992\n",
      "hierarchy 993\n",
      "hierarchy 994\n",
      "hierarchy 995\n",
      "hierarchy 996\n",
      "hierarchy 997\n",
      "hierarchy 998\n",
      "hierarchy 999\n",
      "hierarchy 1000\n",
      "hierarchy 1001\n",
      "hierarchy 1002\n",
      "hierarchy 1003\n",
      "hierarchy 1004\n",
      "hierarchy 1005\n",
      "hierarchy 1006\n",
      "hierarchy 1007\n",
      "hierarchy 1008\n",
      "hierarchy 1009\n",
      "hierarchy 1010\n",
      "hierarchy 1011\n",
      "hierarchy 1012\n",
      "hierarchy 1013\n",
      "hierarchy 1014\n",
      "hierarchy 1015\n",
      "hierarchy 1016\n",
      "hierarchy 1017\n",
      "hierarchy 1018\n",
      "hierarchy 1019\n",
      "hierarchy 1020\n",
      "hierarchy 1021\n",
      "hierarchy 1022\n",
      "hierarchy 1023\n",
      "hierarchy 1024\n",
      "hierarchy 1025\n",
      "hierarchy 1026\n",
      "hierarchy 1027\n",
      "hierarchy 1028\n",
      "hierarchy 1029\n",
      "hierarchy 1030\n",
      "hierarchy 1031\n",
      "hierarchy 1032\n",
      "hierarchy 1033\n",
      "hierarchy 1034\n",
      "hierarchy 1035\n",
      "hierarchy 1036\n",
      "hierarchy 1037\n",
      "hierarchy 1038\n",
      "hierarchy 1039\n",
      "hierarchy 1040\n",
      "hierarchy 1041\n",
      "hierarchy 1042\n",
      "hierarchy 1043\n",
      "hierarchy 1044\n",
      "hierarchy 1045\n",
      "hierarchy 1046\n",
      "hierarchy 1047\n",
      "hierarchy 1048\n",
      "hierarchy 1049\n",
      "hierarchy 1050\n",
      "hierarchy 1051\n",
      "hierarchy 1052\n",
      "hierarchy 1053\n",
      "hierarchy 1054\n",
      "hierarchy 1055\n",
      "hierarchy 1056\n",
      "hierarchy 1057\n",
      "hierarchy 1058\n",
      "hierarchy 1059\n",
      "hierarchy 1060\n",
      "hierarchy 1061\n",
      "hierarchy 1062\n",
      "hierarchy 1063\n",
      "hierarchy 1064\n",
      "hierarchy 1065\n",
      "hierarchy 1066\n",
      "hierarchy 1067\n",
      "hierarchy 1068\n",
      "hierarchy 1069\n",
      "hierarchy 1070\n",
      "hierarchy 1071\n",
      "hierarchy 1072\n",
      "hierarchy 1073\n",
      "hierarchy 1074\n",
      "hierarchy 1075\n",
      "hierarchy 1076\n",
      "hierarchy 1077\n",
      "hierarchy 1078\n",
      "hierarchy 1079\n",
      "hierarchy 1080\n",
      "hierarchy 1081\n",
      "hierarchy 1082\n",
      "hierarchy 1083\n",
      "hierarchy 1084\n",
      "hierarchy 1085\n",
      "hierarchy 1086\n",
      "hierarchy 1087\n",
      "hierarchy 1088\n",
      "hierarchy 1089\n",
      "hierarchy 1090\n",
      "hierarchy 1091\n",
      "hierarchy 1092\n",
      "hierarchy 1093\n",
      "hierarchy 1094\n",
      "hierarchy 1095\n",
      "hierarchy 1096\n",
      "hierarchy 1097\n",
      "hierarchy 1098\n",
      "hierarchy 1099\n",
      "hierarchy 1100\n",
      "hierarchy 1101\n",
      "hierarchy 1102\n",
      "hierarchy 1103\n",
      "hierarchy 1104\n",
      "hierarchy 1105\n",
      "hierarchy 1106\n",
      "hierarchy 1107\n",
      "hierarchy 1108\n",
      "hierarchy 1109\n",
      "hierarchy 1110\n",
      "hierarchy 1111\n",
      "hierarchy 1112\n",
      "hierarchy 1113\n",
      "hierarchy 1114\n",
      "hierarchy 1115\n",
      "hierarchy 1116\n",
      "hierarchy 1117\n",
      "hierarchy 1118\n",
      "hierarchy 1119\n",
      "hierarchy 1120\n",
      "hierarchy 1121\n",
      "hierarchy 1122\n",
      "hierarchy 1123\n",
      "hierarchy 1124\n",
      "hierarchy 1125\n",
      "hierarchy 1126\n"
     ]
    }
   ],
   "source": [
    "link_communities = bct.link_communities(sample['result'])"
   ]
  },
  {
   "cell_type": "code",
   "execution_count": 33,
   "metadata": {
    "scrolled": false
   },
   "outputs": [
    {
     "data": {
      "text/plain": [
       "array([[1., 1., 1., 1., 1., 1., 1., 1., 1., 1., 1., 1., 1., 1., 1., 1.,\n",
       "        1., 1., 1., 1., 1., 1., 1., 1., 1., 1., 1., 1., 1., 1., 1., 1.,\n",
       "        1., 1., 1., 1., 1., 1., 1., 1., 1., 1., 1., 1., 1., 1., 1., 1.]])"
      ]
     },
     "execution_count": 33,
     "metadata": {},
     "output_type": "execute_result"
    }
   ],
   "source": [
    "link_communities"
   ]
  },
  {
   "cell_type": "markdown",
   "metadata": {},
   "source": [
    "**Modularity degeneracy and consensus partitioning**: Modularity degeneracy is the existence of multiple distinct high-modularity partitions of the same network. Consensus partitioning aims to provide a single consensus partition of these degenerate partitions.\n",
    "\n",
    "- agreement.m, agreement_weighted.m (BU, BD, WU, WD networks).\n",
    "- consensus_und.m (BU, BD, WU, WD networks)."
   ]
  },
  {
   "cell_type": "code",
   "execution_count": 37,
   "metadata": {},
   "outputs": [],
   "source": [
    "agreement = bct.agreement(sample['result'])"
   ]
  },
  {
   "cell_type": "code",
   "execution_count": 38,
   "metadata": {
    "scrolled": true
   },
   "outputs": [
    {
     "data": {
      "text/plain": [
       "array([[0, 0, 0, ..., 0, 0, 0],\n",
       "       [0, 0, 0, ..., 0, 0, 0],\n",
       "       [0, 0, 0, ..., 0, 0, 0],\n",
       "       ...,\n",
       "       [0, 0, 0, ..., 0, 0, 0],\n",
       "       [0, 0, 0, ..., 0, 0, 0],\n",
       "       [0, 0, 0, ..., 0, 0, 0]])"
      ]
     },
     "execution_count": 38,
     "metadata": {},
     "output_type": "execute_result"
    }
   ],
   "source": [
    "agreement"
   ]
  },
  {
   "cell_type": "code",
   "execution_count": 39,
   "metadata": {},
   "outputs": [
    {
     "ename": "TypeError",
     "evalue": "consensus_und() missing 1 required positional argument: 'tau'",
     "output_type": "error",
     "traceback": [
      "\u001b[0;31m---------------------------------------------------------------------------\u001b[0m",
      "\u001b[0;31mTypeError\u001b[0m                                 Traceback (most recent call last)",
      "\u001b[0;32m<ipython-input-39-736bd4c88c49>\u001b[0m in \u001b[0;36m<module>\u001b[0;34m\u001b[0m\n\u001b[0;32m----> 1\u001b[0;31m \u001b[0mconsensus_und\u001b[0m \u001b[0;34m=\u001b[0m \u001b[0mbct\u001b[0m\u001b[0;34m.\u001b[0m\u001b[0mconsensus_und\u001b[0m\u001b[0;34m(\u001b[0m\u001b[0msample\u001b[0m\u001b[0;34m[\u001b[0m\u001b[0;34m'result'\u001b[0m\u001b[0;34m]\u001b[0m\u001b[0;34m)\u001b[0m\u001b[0;34m\u001b[0m\u001b[0;34m\u001b[0m\u001b[0m\n\u001b[0m",
      "\u001b[0;31mTypeError\u001b[0m: consensus_und() missing 1 required positional argument: 'tau'"
     ]
    }
   ],
   "source": [
    "consensus_und = bct.consensus_und(sample['result'])"
   ]
  },
  {
   "cell_type": "markdown",
   "metadata": {},
   "source": [
    "**Assortativity**: The assortativity coefficient is a correlation coefficient between the degrees of all nodes on two opposite ends of a link. A positive assortativity coefficient indicates that nodes tend to link to other nodes with the same or similar degree.\n",
    "\n",
    "- assortativity_wei.m (WU, WD networks)."
   ]
  },
  {
   "cell_type": "code",
   "execution_count": 41,
   "metadata": {},
   "outputs": [],
   "source": [
    "assortativity_wei = bct.assortativity_wei(sample['result'])"
   ]
  },
  {
   "cell_type": "code",
   "execution_count": 42,
   "metadata": {
    "scrolled": true
   },
   "outputs": [
    {
     "data": {
      "text/plain": [
       "0.0792479016053189"
      ]
     },
     "execution_count": 42,
     "metadata": {},
     "output_type": "execute_result"
    }
   ],
   "source": [
    "assortativity_wei"
   ]
  },
  {
   "cell_type": "markdown",
   "metadata": {},
   "source": [
    "**Rich club coefficient**: The rich club coefficient at level k is the fraction of edges that connect nodes of degree k or higher out of the maximum number of edges that such nodes might share.\n",
    "\n",
    "- rich_club_wd.m (WD networks)."
   ]
  },
  {
   "cell_type": "code",
   "execution_count": 43,
   "metadata": {},
   "outputs": [],
   "source": [
    "rich_club_wd = bct.rich_club_wd(sample['result'])"
   ]
  },
  {
   "cell_type": "code",
   "execution_count": 45,
   "metadata": {
    "scrolled": true
   },
   "outputs": [
    {
     "data": {
      "text/plain": [
       "-0.694811600938646"
      ]
     },
     "execution_count": 45,
     "metadata": {},
     "output_type": "execute_result"
    }
   ],
   "source": [
    "rich_club_wd[-1]"
   ]
  },
  {
   "cell_type": "markdown",
   "metadata": {},
   "source": [
    "**Core/periphery structure**: The core/periphery subdivision is a partition of the network into two non-overlapping groups of nodes, a core group and a periphery group, in a way that maximizes the number/weight of within core-group edges, and minimizes the number/weight of within periphery-group edges.\n",
    "\n",
    "- core_periphery_dir.m (BU, BD, WU, WD networks)."
   ]
  },
  {
   "cell_type": "code",
   "execution_count": 46,
   "metadata": {},
   "outputs": [],
   "source": [
    "core_periphery_dir = bct.core_periphery_dir(sample['result'])"
   ]
  },
  {
   "cell_type": "code",
   "execution_count": 48,
   "metadata": {
    "scrolled": true
   },
   "outputs": [
    {
     "data": {
      "text/plain": [
       "0.17298669887663948"
      ]
     },
     "execution_count": 48,
     "metadata": {},
     "output_type": "execute_result"
    }
   ],
   "source": [
    "core_periphery_dir[-1]"
   ]
  },
  {
   "cell_type": "markdown",
   "metadata": {},
   "source": [
    "**Distance and characteristic path length**: The reachability matrix describes whether pairs of nodes are connected by paths (reachable). The distance matrix contains lengths of shortest paths between all pairs of nodes. The characteristic path length is the average shortest path length in the network.\n",
    "\n",
    "\n",
    "- retrieve_shortest_path.m (BU, BD, WU, WD networks): sequence of nodes that comprise the shortest path between a given source and target node.\n",
    "\n",
    "- distance_wei.m (WU, WD networks): distance matrix (Dijkstra's algorithm). The input matrix must be a mapping from weight to distance (usually weight inversion).\n",
    "\n",
    "- distance_wei_floyd.m (BU, BD, WU, WD networks): distance matrix (Floyd-Warshall algorithm). The input matrix may be a mapping from weight to distance (usually weight inversion), or may be the native weights matrix (in which case a weight transform to distance must be specified as the input)."
   ]
  },
  {
   "cell_type": "code",
   "execution_count": 49,
   "metadata": {},
   "outputs": [
    {
     "ename": "TypeError",
     "evalue": "retrieve_shortest_path() missing 3 required positional arguments: 't', 'hops', and 'Pmat'",
     "output_type": "error",
     "traceback": [
      "\u001b[0;31m---------------------------------------------------------------------------\u001b[0m",
      "\u001b[0;31mTypeError\u001b[0m                                 Traceback (most recent call last)",
      "\u001b[0;32m<ipython-input-49-be02008c5d43>\u001b[0m in \u001b[0;36m<module>\u001b[0;34m\u001b[0m\n\u001b[0;32m----> 1\u001b[0;31m \u001b[0mretrieve_shortest_path\u001b[0m \u001b[0;34m=\u001b[0m \u001b[0mbct\u001b[0m\u001b[0;34m.\u001b[0m\u001b[0mretrieve_shortest_path\u001b[0m\u001b[0;34m(\u001b[0m\u001b[0msample\u001b[0m\u001b[0;34m[\u001b[0m\u001b[0;34m'result'\u001b[0m\u001b[0;34m]\u001b[0m\u001b[0;34m)\u001b[0m\u001b[0;34m\u001b[0m\u001b[0;34m\u001b[0m\u001b[0m\n\u001b[0m",
      "\u001b[0;31mTypeError\u001b[0m: retrieve_shortest_path() missing 3 required positional arguments: 't', 'hops', and 'Pmat'"
     ]
    }
   ],
   "source": [
    "retrieve_shortest_path = bct.retrieve_shortest_path(sample['result'])"
   ]
  },
  {
   "cell_type": "code",
   "execution_count": 51,
   "metadata": {
    "scrolled": true
   },
   "outputs": [],
   "source": [
    "distance_wei = bct.distance_wei(sample['result'])"
   ]
  },
  {
   "cell_type": "code",
   "execution_count": 54,
   "metadata": {},
   "outputs": [
    {
     "data": {
      "text/plain": [
       "(array([[ 0.        , -0.04913654, -0.07190607, ..., -0.07231138,\n",
       "         -0.05216059, -0.05822592],\n",
       "        [-0.0488108 ,  0.        , -0.05375218, ..., -0.05415748,\n",
       "         -0.0340067 , -0.04007202],\n",
       "        [-0.06410752, -0.04670857,  0.        , ..., -0.06293477,\n",
       "         -0.04973262, -0.05579794],\n",
       "        ...,\n",
       "        [-0.07167493, -0.03035975, -0.07862816, ...,  0.        ,\n",
       "         -0.05164694, -0.05771227],\n",
       "        [-0.05754927, -0.05197574, -0.06352728, ..., -0.06393259,\n",
       "          0.        , -0.05340852],\n",
       "        [-0.05014855, -0.01354076, -0.05710178, ..., -0.05750709,\n",
       "         -0.03482796,  0.        ]]),\n",
       " array([[ 0.,  7., 16., ..., 18.,  9., 11.],\n",
       "        [19.,  0., 16., ..., 18.,  9., 11.],\n",
       "        [17.,  7.,  0., ..., 16.,  9., 11.],\n",
       "        ...,\n",
       "        [29.,  4., 27., ...,  0., 10., 12.],\n",
       "        [20.,  9., 19., ..., 21.,  0., 14.],\n",
       "        [22.,  2., 20., ..., 22.,  8.,  0.]]))"
      ]
     },
     "execution_count": 54,
     "metadata": {},
     "output_type": "execute_result"
    }
   ],
   "source": [
    "distance_wei"
   ]
  },
  {
   "cell_type": "code",
   "execution_count": 55,
   "metadata": {},
   "outputs": [],
   "source": [
    "distance_wei_floyd = bct.distance_wei_floyd(sample['result'])"
   ]
  },
  {
   "cell_type": "code",
   "execution_count": 56,
   "metadata": {},
   "outputs": [
    {
     "data": {
      "text/plain": [
       "(array([[        0.        , -49725764.03887663, -49725764.0297811 , ...,\n",
       "         -49725764.02602097, -49725764.03423081, -49725764.03326623],\n",
       "        [-49725764.02134572,         0.        , -49725764.02101564, ...,\n",
       "         -49725764.01725551, -49725764.02546535, -49725764.02450078],\n",
       "        [-49725764.03044126, -49725764.03920671,         0.        , ...,\n",
       "         -49725764.02635106, -49725764.0345609 , -49725764.03359632],\n",
       "        ...,\n",
       "        [-49725764.0276958 , -49725764.03646126, -49725764.02736572, ...,\n",
       "                 0.        , -49725764.03181544, -49725764.03085086],\n",
       "        [-49725764.03408381, -49725764.04284927, -49725764.03375374, ...,\n",
       "         -49725764.02999361,         0.        , -49725764.03723887],\n",
       "        [-49725764.03187849, -49725764.04064395, -49725764.03154841, ...,\n",
       "         -49725764.02778828, -49725764.03599812,         0.        ]]),\n",
       " array([[0.00000000e+00, 6.67224761e+10, 6.67224761e+10, ...,\n",
       "         6.67224761e+10, 6.67224761e+10, 6.67224761e+10],\n",
       "        [6.67224761e+10, 0.00000000e+00, 6.67224761e+10, ...,\n",
       "         6.67224761e+10, 6.67224761e+10, 6.67224761e+10],\n",
       "        [6.67224761e+10, 6.67224761e+10, 0.00000000e+00, ...,\n",
       "         6.67224761e+10, 6.67224761e+10, 6.67224761e+10],\n",
       "        ...,\n",
       "        [6.67224761e+10, 6.67224761e+10, 6.67224761e+10, ...,\n",
       "         0.00000000e+00, 6.67224761e+10, 6.67224761e+10],\n",
       "        [6.67224761e+10, 6.67224761e+10, 6.67224761e+10, ...,\n",
       "         6.67224761e+10, 0.00000000e+00, 6.67224761e+10],\n",
       "        [6.67224761e+10, 6.67224761e+10, 6.67224761e+10, ...,\n",
       "         6.67224761e+10, 6.67224761e+10, 0.00000000e+00]]),\n",
       " array([[ 0,  3,  3, ...,  3,  3,  3],\n",
       "        [ 0,  0,  0, ...,  0,  0,  0],\n",
       "        [14, 14,  0, ..., 14, 14, 14],\n",
       "        ...,\n",
       "        [13, 13, 13, ...,  0, 13, 13],\n",
       "        [13, 13, 13, ..., 13,  0, 13],\n",
       "        [14, 14, 14, ..., 14, 14,  0]]))"
      ]
     },
     "execution_count": 56,
     "metadata": {},
     "output_type": "execute_result"
    }
   ],
   "source": [
    "distance_wei_floyd"
   ]
  },
  {
   "cell_type": "markdown",
   "metadata": {},
   "source": [
    "**Characteristic path length, global efficiency, eccentricity, radius, diameter**: The characteristic path length is the average shortest path length in the network. The global efficiency is the average inverse shortest path length in the network. The node eccentricity is the maximal shortest path length between a node and any other node. The radius is the minimum eccentricity and the diameter is the maximum eccentricity.\n",
    "\n",
    "- charpath.m (BU, BD, WU, WD networks)."
   ]
  },
  {
   "cell_type": "code",
   "execution_count": 57,
   "metadata": {},
   "outputs": [
    {
     "name": "stderr",
     "output_type": "stream",
     "text": [
      "/home/connectome/stellasybae/anaconda3/lib/python3.7/site-packages/bct/algorithms/distance.py:157: RuntimeWarning: divide by zero encountered in true_divide\n",
      "  efficiency = np.mean(1 / Dv)\n"
     ]
    }
   ],
   "source": [
    "charpath = bct.charpath(sample['result'])"
   ]
  },
  {
   "cell_type": "code",
   "execution_count": 59,
   "metadata": {
    "scrolled": true
   },
   "outputs": [
    {
     "data": {
      "text/plain": [
       "0.006290498076555876"
      ]
     },
     "execution_count": 59,
     "metadata": {},
     "output_type": "execute_result"
    }
   ],
   "source": [
    "charpath[0]"
   ]
  },
  {
   "cell_type": "markdown",
   "metadata": {},
   "source": [
    "**Global and local efficiency**: The global efficiency is the average inverse shortest path length in the network, and is inversely related to the characteristic path length. The local efficiency is the global efficiency computed on the neighborhood of the node, and is related to the clustering coefficient.\n",
    "\n",
    "- efficiency_wei.m (WU, WD networks)\n",
    "- rout_efficiency.m (BU, BD, WU, WD networks)."
   ]
  },
  {
   "cell_type": "code",
   "execution_count": 60,
   "metadata": {},
   "outputs": [],
   "source": [
    "efficiency_wei = bct.efficiency_wei(sample['result'])"
   ]
  },
  {
   "cell_type": "code",
   "execution_count": 61,
   "metadata": {
    "scrolled": true
   },
   "outputs": [
    {
     "data": {
      "text/plain": [
       "1.1636754699001931e-05"
      ]
     },
     "execution_count": 61,
     "metadata": {},
     "output_type": "execute_result"
    }
   ],
   "source": [
    "efficiency_wei"
   ]
  },
  {
   "cell_type": "code",
   "execution_count": 78,
   "metadata": {},
   "outputs": [
    {
     "ename": "AttributeError",
     "evalue": "module 'bct' has no attribute 'rout_efficiency'",
     "output_type": "error",
     "traceback": [
      "\u001b[0;31m---------------------------------------------------------------------------\u001b[0m",
      "\u001b[0;31mAttributeError\u001b[0m                            Traceback (most recent call last)",
      "\u001b[0;32m<ipython-input-78-3387c06b0d6f>\u001b[0m in \u001b[0;36m<module>\u001b[0;34m\u001b[0m\n\u001b[0;32m----> 1\u001b[0;31m \u001b[0mrout_efficiency\u001b[0m \u001b[0;34m=\u001b[0m \u001b[0mbct\u001b[0m\u001b[0;34m.\u001b[0m\u001b[0mrout_efficiency\u001b[0m\u001b[0;34m(\u001b[0m\u001b[0msample\u001b[0m\u001b[0;34m[\u001b[0m\u001b[0;34m'result'\u001b[0m\u001b[0;34m]\u001b[0m\u001b[0;34m)\u001b[0m\u001b[0;34m\u001b[0m\u001b[0;34m\u001b[0m\u001b[0m\n\u001b[0m",
      "\u001b[0;31mAttributeError\u001b[0m: module 'bct' has no attribute 'rout_efficiency'"
     ]
    }
   ],
   "source": [
    "rout_efficiency = bct.rout_efficiency(sample['result'])"
   ]
  },
  {
   "cell_type": "markdown",
   "metadata": {},
   "source": [
    "**Mean first passage time**: The first passage time is the expected number of steps it takes a random walker to reach one node from another.\n",
    "\n",
    "- mean_first_passage_time.m (BU, BD, WU, WD networks)."
   ]
  },
  {
   "cell_type": "code",
   "execution_count": 74,
   "metadata": {},
   "outputs": [],
   "source": [
    "mean_first_passage_time = bct.mean_first_passage_time(sample['result'])"
   ]
  },
  {
   "cell_type": "code",
   "execution_count": 77,
   "metadata": {
    "scrolled": true
   },
   "outputs": [
    {
     "data": {
      "text/plain": [
       "(48, 48)"
      ]
     },
     "execution_count": 77,
     "metadata": {},
     "output_type": "execute_result"
    }
   ],
   "source": [
    "mean_first_passage_time.shape"
   ]
  },
  {
   "cell_type": "markdown",
   "metadata": {},
   "source": [
    "**Diffusion efficiency**: The diffusion efficiency is the inverse of the mean first passage time.\n",
    "\n",
    "- diffusion_efficiency.m (BU, BD, WU, WD networks)."
   ]
  },
  {
   "cell_type": "code",
   "execution_count": 72,
   "metadata": {},
   "outputs": [
    {
     "ename": "AttributeError",
     "evalue": "module 'bct' has no attribute 'diffusion_efficiency'",
     "output_type": "error",
     "traceback": [
      "\u001b[0;31m---------------------------------------------------------------------------\u001b[0m",
      "\u001b[0;31mAttributeError\u001b[0m                            Traceback (most recent call last)",
      "\u001b[0;32m<ipython-input-72-07b97ecb7597>\u001b[0m in \u001b[0;36m<module>\u001b[0;34m\u001b[0m\n\u001b[0;32m----> 1\u001b[0;31m \u001b[0mdiffusion_efficiency\u001b[0m \u001b[0;34m=\u001b[0m \u001b[0mbct\u001b[0m\u001b[0;34m.\u001b[0m\u001b[0mdiffusion_efficiency\u001b[0m\u001b[0;34m(\u001b[0m\u001b[0msample\u001b[0m\u001b[0;34m[\u001b[0m\u001b[0;34m'result'\u001b[0m\u001b[0;34m]\u001b[0m\u001b[0;34m)\u001b[0m\u001b[0;34m\u001b[0m\u001b[0;34m\u001b[0m\u001b[0m\n\u001b[0m",
      "\u001b[0;31mAttributeError\u001b[0m: module 'bct' has no attribute 'diffusion_efficiency'"
     ]
    }
   ],
   "source": [
    "diffusion_efficiency = bct.diffusion_efficiency(sample['result'])"
   ]
  },
  {
   "cell_type": "markdown",
   "metadata": {},
   "source": [
    "**Betweenness centrality**: Node betweenness centrality is the fraction of all shortest paths in the network that contain a given node. Nodes with high values of betweenness centrality participate in a large number of shortest paths.\n",
    "\n",
    "- betweenness_wei.m (WU, WD networks): Brandes's algorithm."
   ]
  },
  {
   "cell_type": "code",
   "execution_count": 70,
   "metadata": {},
   "outputs": [],
   "source": [
    "betweenness_wei = bct.betweenness_wei(sample['result'])"
   ]
  },
  {
   "cell_type": "code",
   "execution_count": 71,
   "metadata": {
    "scrolled": true
   },
   "outputs": [
    {
     "data": {
      "text/plain": [
       "array([  30.,    0.,  738.,    0.,   21.,    0.,  165.,  207.,  224.,\n",
       "          6., 1549.,    0.,    0., 1809., 1507.,  885.,  354., 1955.,\n",
       "       2036.,  109.,  145.,  681.,   10.,  408.,  963., 1844., 1852.,\n",
       "         78.,    0.,  290.,    0., 1644., 2018.,  427., 2063.,  753.,\n",
       "        575.,   18.,  375.,  755.,  287.,  466., 1529.,  353.,   22.,\n",
       "         28., 1652., 1517.])"
      ]
     },
     "execution_count": 71,
     "metadata": {},
     "output_type": "execute_result"
    }
   ],
   "source": [
    "betweenness_wei"
   ]
  },
  {
   "cell_type": "markdown",
   "metadata": {},
   "source": [
    "**Edge betweenness centrality**: Edge betweenness centrality is the fraction of all shortest paths in the network that contain a given edge. Edges with high values of betweenness centrality participate in a large number of shortest paths.\n",
    "\n",
    "- edge_betweenness_wei.m (WU, WD networks)."
   ]
  },
  {
   "cell_type": "code",
   "execution_count": 68,
   "metadata": {},
   "outputs": [],
   "source": [
    "edge_betweenness_wei = bct.edge_betweenness_wei(sample['result'])"
   ]
  },
  {
   "cell_type": "code",
   "execution_count": 69,
   "metadata": {
    "scrolled": true
   },
   "outputs": [
    {
     "data": {
      "text/plain": [
       "(array([[0., 0., 0., ..., 0., 0., 0.],\n",
       "        [0., 0., 0., ..., 0., 0., 0.],\n",
       "        [0., 0., 0., ..., 0., 0., 0.],\n",
       "        ...,\n",
       "        [0., 0., 0., ..., 0., 0., 0.],\n",
       "        [0., 0., 0., ..., 0., 0., 0.],\n",
       "        [0., 0., 0., ..., 0., 0., 0.]]),\n",
       " array([  30.,    0.,  738.,    0.,   21.,    0.,  165.,  207.,  224.,\n",
       "           6., 1549.,    0.,    0., 1809., 1507.,  885.,  354., 1955.,\n",
       "        2036.,  109.,  145.,  681.,   10.,  408.,  963., 1844., 1852.,\n",
       "          78.,    0.,  290.,    0., 1644., 2018.,  427., 2063.,  753.,\n",
       "         575.,   18.,  375.,  755.,  287.,  466., 1529.,  353.,   22.,\n",
       "          28., 1652., 1517.]))"
      ]
     },
     "execution_count": 69,
     "metadata": {},
     "output_type": "execute_result"
    }
   ],
   "source": [
    "edge_betweenness_wei"
   ]
  },
  {
   "cell_type": "markdown",
   "metadata": {},
   "source": [
    "**Within-module degree z-score**: The within-module degree z-score is a within-module version of degree centrality. This measure requires a previously determined community structure (see above).\n",
    "\n",
    "- module_degree_zscore.m; (BU, BD, WU, WD networks)."
   ]
  },
  {
   "cell_type": "code",
   "execution_count": 66,
   "metadata": {},
   "outputs": [
    {
     "ename": "TypeError",
     "evalue": "module_degree_zscore() missing 1 required positional argument: 'ci'",
     "output_type": "error",
     "traceback": [
      "\u001b[0;31m---------------------------------------------------------------------------\u001b[0m",
      "\u001b[0;31mTypeError\u001b[0m                                 Traceback (most recent call last)",
      "\u001b[0;32m<ipython-input-66-a76eb1848883>\u001b[0m in \u001b[0;36m<module>\u001b[0;34m\u001b[0m\n\u001b[0;32m----> 1\u001b[0;31m \u001b[0mmodule_degree_zscore\u001b[0m \u001b[0;34m=\u001b[0m \u001b[0mbct\u001b[0m\u001b[0;34m.\u001b[0m\u001b[0mmodule_degree_zscore\u001b[0m\u001b[0;34m(\u001b[0m\u001b[0msample\u001b[0m\u001b[0;34m[\u001b[0m\u001b[0;34m'result'\u001b[0m\u001b[0;34m]\u001b[0m\u001b[0;34m)\u001b[0m\u001b[0;34m\u001b[0m\u001b[0;34m\u001b[0m\u001b[0m\n\u001b[0m",
      "\u001b[0;31mTypeError\u001b[0m: module_degree_zscore() missing 1 required positional argument: 'ci'"
     ]
    }
   ],
   "source": [
    "module_degree_zscore = bct.module_degree_zscore(sample['result'])"
   ]
  },
  {
   "cell_type": "markdown",
   "metadata": {},
   "source": [
    "**Participation and related coefficients**: Participation coefficient is a measure of diversity of intermodular connections of individual nodes. The gateway coefficient is a variant of the participation coefficient, weighted by the importance of individual connections. The diversity coefficient is a related measure, based on the Shannon entropy. All measures requires a previously determined community structure as input (see above).\n",
    "\n",
    "- participation_coef.m (BU, BD, WU, WD networks)."
   ]
  },
  {
   "cell_type": "code",
   "execution_count": 65,
   "metadata": {},
   "outputs": [
    {
     "ename": "TypeError",
     "evalue": "participation_coef() missing 1 required positional argument: 'ci'",
     "output_type": "error",
     "traceback": [
      "\u001b[0;31m---------------------------------------------------------------------------\u001b[0m",
      "\u001b[0;31mTypeError\u001b[0m                                 Traceback (most recent call last)",
      "\u001b[0;32m<ipython-input-65-82cf904b380f>\u001b[0m in \u001b[0;36m<module>\u001b[0;34m\u001b[0m\n\u001b[0;32m----> 1\u001b[0;31m \u001b[0mparticipation_coef\u001b[0m \u001b[0;34m=\u001b[0m \u001b[0mbct\u001b[0m\u001b[0;34m.\u001b[0m\u001b[0mparticipation_coef\u001b[0m\u001b[0;34m(\u001b[0m\u001b[0msample\u001b[0m\u001b[0;34m[\u001b[0m\u001b[0;34m'result'\u001b[0m\u001b[0;34m]\u001b[0m\u001b[0;34m)\u001b[0m\u001b[0;34m\u001b[0m\u001b[0;34m\u001b[0m\u001b[0m\n\u001b[0m",
      "\u001b[0;31mTypeError\u001b[0m: participation_coef() missing 1 required positional argument: 'ci'"
     ]
    }
   ],
   "source": [
    "participation_coef = bct.participation_coef(sample['result'])"
   ]
  },
  {
   "cell_type": "code",
   "execution_count": null,
   "metadata": {
    "scrolled": false
   },
   "outputs": [],
   "source": [
    "participation_coef"
   ]
  },
  {
   "cell_type": "markdown",
   "metadata": {},
   "source": [
    "**Structural motifs**: Structural motifs (or simply motifs) are small (e.g. 3 or 4 node) patterns of local connectivity that occur in the network with a statistically surprising frequency. In weighted networks, the motif frequency may be supplemented by its weighted generalizations, the motif intensity and the motif coherence.\n",
    "\n",
    "- motif3struct_wei.m; motif4struct_wei.m (WD networks)."
   ]
  },
  {
   "cell_type": "code",
   "execution_count": 64,
   "metadata": {},
   "outputs": [
    {
     "ename": "FileNotFoundError",
     "evalue": "[Errno 2] No such file or directory: '/home/connectome/stellasybae/anaconda3/lib/python3.7/site-packages/bct/algorithms/motif34lib.mat'",
     "output_type": "error",
     "traceback": [
      "\u001b[0;31m---------------------------------------------------------------------------\u001b[0m",
      "\u001b[0;31mFileNotFoundError\u001b[0m                         Traceback (most recent call last)",
      "\u001b[0;32m~/anaconda3/lib/python3.7/site-packages/scipy/io/matlab/mio.py\u001b[0m in \u001b[0;36m_open_file\u001b[0;34m(file_like, appendmat, mode)\u001b[0m\n\u001b[1;32m     38\u001b[0m     \u001b[0;32mtry\u001b[0m\u001b[0;34m:\u001b[0m\u001b[0;34m\u001b[0m\u001b[0;34m\u001b[0m\u001b[0m\n\u001b[0;32m---> 39\u001b[0;31m         \u001b[0;32mreturn\u001b[0m \u001b[0mopen\u001b[0m\u001b[0;34m(\u001b[0m\u001b[0mfile_like\u001b[0m\u001b[0;34m,\u001b[0m \u001b[0mmode\u001b[0m\u001b[0;34m)\u001b[0m\u001b[0;34m,\u001b[0m \u001b[0;32mTrue\u001b[0m\u001b[0;34m\u001b[0m\u001b[0;34m\u001b[0m\u001b[0m\n\u001b[0m\u001b[1;32m     40\u001b[0m     \u001b[0;32mexcept\u001b[0m \u001b[0mIOError\u001b[0m\u001b[0;34m:\u001b[0m\u001b[0;34m\u001b[0m\u001b[0;34m\u001b[0m\u001b[0m\n",
      "\u001b[0;31mFileNotFoundError\u001b[0m: [Errno 2] No such file or directory: '/home/connectome/stellasybae/anaconda3/lib/python3.7/site-packages/bct/algorithms/motif34lib.mat'",
      "\nDuring handling of the above exception, another exception occurred:\n",
      "\u001b[0;31mFileNotFoundError\u001b[0m                         Traceback (most recent call last)",
      "\u001b[0;32m<ipython-input-64-d2a5f52eaf33>\u001b[0m in \u001b[0;36m<module>\u001b[0;34m\u001b[0m\n\u001b[0;32m----> 1\u001b[0;31m \u001b[0mmotif3struct_wei\u001b[0m \u001b[0;34m=\u001b[0m \u001b[0mbct\u001b[0m\u001b[0;34m.\u001b[0m\u001b[0mmotif3struct_wei\u001b[0m\u001b[0;34m(\u001b[0m\u001b[0msample\u001b[0m\u001b[0;34m[\u001b[0m\u001b[0;34m'result'\u001b[0m\u001b[0;34m]\u001b[0m\u001b[0;34m)\u001b[0m\u001b[0;34m\u001b[0m\u001b[0;34m\u001b[0m\u001b[0m\n\u001b[0m",
      "\u001b[0;32m~/anaconda3/lib/python3.7/site-packages/bct/algorithms/motifs.py\u001b[0m in \u001b[0;36mmotif3struct_wei\u001b[0;34m(W)\u001b[0m\n\u001b[1;32m    430\u001b[0m     \u001b[0;32mimport\u001b[0m \u001b[0mos\u001b[0m\u001b[0;34m\u001b[0m\u001b[0;34m\u001b[0m\u001b[0m\n\u001b[1;32m    431\u001b[0m     \u001b[0mfname\u001b[0m \u001b[0;34m=\u001b[0m \u001b[0mos\u001b[0m\u001b[0;34m.\u001b[0m\u001b[0mpath\u001b[0m\u001b[0;34m.\u001b[0m\u001b[0mjoin\u001b[0m\u001b[0;34m(\u001b[0m\u001b[0mos\u001b[0m\u001b[0;34m.\u001b[0m\u001b[0mpath\u001b[0m\u001b[0;34m.\u001b[0m\u001b[0mdirname\u001b[0m\u001b[0;34m(\u001b[0m\u001b[0m__file__\u001b[0m\u001b[0;34m)\u001b[0m\u001b[0;34m,\u001b[0m \u001b[0mmotiflib\u001b[0m\u001b[0;34m)\u001b[0m\u001b[0;34m\u001b[0m\u001b[0;34m\u001b[0m\u001b[0m\n\u001b[0;32m--> 432\u001b[0;31m     \u001b[0mmot\u001b[0m \u001b[0;34m=\u001b[0m \u001b[0mio\u001b[0m\u001b[0;34m.\u001b[0m\u001b[0mloadmat\u001b[0m\u001b[0;34m(\u001b[0m\u001b[0mfname\u001b[0m\u001b[0;34m)\u001b[0m\u001b[0;34m\u001b[0m\u001b[0;34m\u001b[0m\u001b[0m\n\u001b[0m\u001b[1;32m    433\u001b[0m     \u001b[0mm3\u001b[0m \u001b[0;34m=\u001b[0m \u001b[0mmot\u001b[0m\u001b[0;34m[\u001b[0m\u001b[0;34m'm3'\u001b[0m\u001b[0;34m]\u001b[0m\u001b[0;34m\u001b[0m\u001b[0;34m\u001b[0m\u001b[0m\n\u001b[1;32m    434\u001b[0m     \u001b[0mm3n\u001b[0m \u001b[0;34m=\u001b[0m \u001b[0mmot\u001b[0m\u001b[0;34m[\u001b[0m\u001b[0;34m'm3n'\u001b[0m\u001b[0;34m]\u001b[0m\u001b[0;34m\u001b[0m\u001b[0;34m\u001b[0m\u001b[0m\n",
      "\u001b[0;32m~/anaconda3/lib/python3.7/site-packages/scipy/io/matlab/mio.py\u001b[0m in \u001b[0;36mloadmat\u001b[0;34m(file_name, mdict, appendmat, **kwargs)\u001b[0m\n\u001b[1;32m    214\u001b[0m     \"\"\"\n\u001b[1;32m    215\u001b[0m     \u001b[0mvariable_names\u001b[0m \u001b[0;34m=\u001b[0m \u001b[0mkwargs\u001b[0m\u001b[0;34m.\u001b[0m\u001b[0mpop\u001b[0m\u001b[0;34m(\u001b[0m\u001b[0;34m'variable_names'\u001b[0m\u001b[0;34m,\u001b[0m \u001b[0;32mNone\u001b[0m\u001b[0;34m)\u001b[0m\u001b[0;34m\u001b[0m\u001b[0;34m\u001b[0m\u001b[0m\n\u001b[0;32m--> 216\u001b[0;31m     \u001b[0;32mwith\u001b[0m \u001b[0m_open_file_context\u001b[0m\u001b[0;34m(\u001b[0m\u001b[0mfile_name\u001b[0m\u001b[0;34m,\u001b[0m \u001b[0mappendmat\u001b[0m\u001b[0;34m)\u001b[0m \u001b[0;32mas\u001b[0m \u001b[0mf\u001b[0m\u001b[0;34m:\u001b[0m\u001b[0;34m\u001b[0m\u001b[0;34m\u001b[0m\u001b[0m\n\u001b[0m\u001b[1;32m    217\u001b[0m         \u001b[0mMR\u001b[0m\u001b[0;34m,\u001b[0m \u001b[0m_\u001b[0m \u001b[0;34m=\u001b[0m \u001b[0mmat_reader_factory\u001b[0m\u001b[0;34m(\u001b[0m\u001b[0mf\u001b[0m\u001b[0;34m,\u001b[0m \u001b[0;34m**\u001b[0m\u001b[0mkwargs\u001b[0m\u001b[0;34m)\u001b[0m\u001b[0;34m\u001b[0m\u001b[0;34m\u001b[0m\u001b[0m\n\u001b[1;32m    218\u001b[0m         \u001b[0mmatfile_dict\u001b[0m \u001b[0;34m=\u001b[0m \u001b[0mMR\u001b[0m\u001b[0;34m.\u001b[0m\u001b[0mget_variables\u001b[0m\u001b[0;34m(\u001b[0m\u001b[0mvariable_names\u001b[0m\u001b[0;34m)\u001b[0m\u001b[0;34m\u001b[0m\u001b[0;34m\u001b[0m\u001b[0m\n",
      "\u001b[0;32m~/anaconda3/lib/python3.7/contextlib.py\u001b[0m in \u001b[0;36m__enter__\u001b[0;34m(self)\u001b[0m\n\u001b[1;32m    110\u001b[0m         \u001b[0;32mdel\u001b[0m \u001b[0mself\u001b[0m\u001b[0;34m.\u001b[0m\u001b[0margs\u001b[0m\u001b[0;34m,\u001b[0m \u001b[0mself\u001b[0m\u001b[0;34m.\u001b[0m\u001b[0mkwds\u001b[0m\u001b[0;34m,\u001b[0m \u001b[0mself\u001b[0m\u001b[0;34m.\u001b[0m\u001b[0mfunc\u001b[0m\u001b[0;34m\u001b[0m\u001b[0;34m\u001b[0m\u001b[0m\n\u001b[1;32m    111\u001b[0m         \u001b[0;32mtry\u001b[0m\u001b[0;34m:\u001b[0m\u001b[0;34m\u001b[0m\u001b[0;34m\u001b[0m\u001b[0m\n\u001b[0;32m--> 112\u001b[0;31m             \u001b[0;32mreturn\u001b[0m \u001b[0mnext\u001b[0m\u001b[0;34m(\u001b[0m\u001b[0mself\u001b[0m\u001b[0;34m.\u001b[0m\u001b[0mgen\u001b[0m\u001b[0;34m)\u001b[0m\u001b[0;34m\u001b[0m\u001b[0;34m\u001b[0m\u001b[0m\n\u001b[0m\u001b[1;32m    113\u001b[0m         \u001b[0;32mexcept\u001b[0m \u001b[0mStopIteration\u001b[0m\u001b[0;34m:\u001b[0m\u001b[0;34m\u001b[0m\u001b[0;34m\u001b[0m\u001b[0m\n\u001b[1;32m    114\u001b[0m             \u001b[0;32mraise\u001b[0m \u001b[0mRuntimeError\u001b[0m\u001b[0;34m(\u001b[0m\u001b[0;34m\"generator didn't yield\"\u001b[0m\u001b[0;34m)\u001b[0m \u001b[0;32mfrom\u001b[0m \u001b[0;32mNone\u001b[0m\u001b[0;34m\u001b[0m\u001b[0;34m\u001b[0m\u001b[0m\n",
      "\u001b[0;32m~/anaconda3/lib/python3.7/site-packages/scipy/io/matlab/mio.py\u001b[0m in \u001b[0;36m_open_file_context\u001b[0;34m(file_like, appendmat, mode)\u001b[0m\n\u001b[1;32m     17\u001b[0m \u001b[0;34m@\u001b[0m\u001b[0mcontextmanager\u001b[0m\u001b[0;34m\u001b[0m\u001b[0;34m\u001b[0m\u001b[0m\n\u001b[1;32m     18\u001b[0m \u001b[0;32mdef\u001b[0m \u001b[0m_open_file_context\u001b[0m\u001b[0;34m(\u001b[0m\u001b[0mfile_like\u001b[0m\u001b[0;34m,\u001b[0m \u001b[0mappendmat\u001b[0m\u001b[0;34m,\u001b[0m \u001b[0mmode\u001b[0m\u001b[0;34m=\u001b[0m\u001b[0;34m'rb'\u001b[0m\u001b[0;34m)\u001b[0m\u001b[0;34m:\u001b[0m\u001b[0;34m\u001b[0m\u001b[0;34m\u001b[0m\u001b[0m\n\u001b[0;32m---> 19\u001b[0;31m     \u001b[0mf\u001b[0m\u001b[0;34m,\u001b[0m \u001b[0mopened\u001b[0m \u001b[0;34m=\u001b[0m \u001b[0m_open_file\u001b[0m\u001b[0;34m(\u001b[0m\u001b[0mfile_like\u001b[0m\u001b[0;34m,\u001b[0m \u001b[0mappendmat\u001b[0m\u001b[0;34m,\u001b[0m \u001b[0mmode\u001b[0m\u001b[0;34m)\u001b[0m\u001b[0;34m\u001b[0m\u001b[0;34m\u001b[0m\u001b[0m\n\u001b[0m\u001b[1;32m     20\u001b[0m     \u001b[0;32myield\u001b[0m \u001b[0mf\u001b[0m\u001b[0;34m\u001b[0m\u001b[0;34m\u001b[0m\u001b[0m\n\u001b[1;32m     21\u001b[0m     \u001b[0;32mif\u001b[0m \u001b[0mopened\u001b[0m\u001b[0;34m:\u001b[0m\u001b[0;34m\u001b[0m\u001b[0;34m\u001b[0m\u001b[0m\n",
      "\u001b[0;32m~/anaconda3/lib/python3.7/site-packages/scipy/io/matlab/mio.py\u001b[0m in \u001b[0;36m_open_file\u001b[0;34m(file_like, appendmat, mode)\u001b[0m\n\u001b[1;32m     43\u001b[0m             \u001b[0;32mif\u001b[0m \u001b[0mappendmat\u001b[0m \u001b[0;32mand\u001b[0m \u001b[0;32mnot\u001b[0m \u001b[0mfile_like\u001b[0m\u001b[0;34m.\u001b[0m\u001b[0mendswith\u001b[0m\u001b[0;34m(\u001b[0m\u001b[0;34m'.mat'\u001b[0m\u001b[0;34m)\u001b[0m\u001b[0;34m:\u001b[0m\u001b[0;34m\u001b[0m\u001b[0;34m\u001b[0m\u001b[0m\n\u001b[1;32m     44\u001b[0m                 \u001b[0mfile_like\u001b[0m \u001b[0;34m+=\u001b[0m \u001b[0;34m'.mat'\u001b[0m\u001b[0;34m\u001b[0m\u001b[0;34m\u001b[0m\u001b[0m\n\u001b[0;32m---> 45\u001b[0;31m             \u001b[0;32mreturn\u001b[0m \u001b[0mopen\u001b[0m\u001b[0;34m(\u001b[0m\u001b[0mfile_like\u001b[0m\u001b[0;34m,\u001b[0m \u001b[0mmode\u001b[0m\u001b[0;34m)\u001b[0m\u001b[0;34m,\u001b[0m \u001b[0;32mTrue\u001b[0m\u001b[0;34m\u001b[0m\u001b[0;34m\u001b[0m\u001b[0m\n\u001b[0m\u001b[1;32m     46\u001b[0m         \u001b[0;32melse\u001b[0m\u001b[0;34m:\u001b[0m\u001b[0;34m\u001b[0m\u001b[0;34m\u001b[0m\u001b[0m\n\u001b[1;32m     47\u001b[0m             \u001b[0;32mraise\u001b[0m \u001b[0mIOError\u001b[0m\u001b[0;34m(\u001b[0m\u001b[0;34m'Reader needs file name or open file-like object'\u001b[0m\u001b[0;34m)\u001b[0m\u001b[0;34m\u001b[0m\u001b[0;34m\u001b[0m\u001b[0m\n",
      "\u001b[0;31mFileNotFoundError\u001b[0m: [Errno 2] No such file or directory: '/home/connectome/stellasybae/anaconda3/lib/python3.7/site-packages/bct/algorithms/motif34lib.mat'"
     ]
    }
   ],
   "source": [
    "motif3struct_wei = bct.motif3struct_wei(sample['result'])"
   ]
  },
  {
   "cell_type": "code",
   "execution_count": null,
   "metadata": {
    "scrolled": false
   },
   "outputs": [],
   "source": [
    "motif3struct_wei"
   ]
  },
  {
   "cell_type": "markdown",
   "metadata": {},
   "source": [
    "**Functional motifs**: Functional motifs are subsets of connection patterns embedded within structural motifs. Functional motif frequency is the frequency of functional motif occurence around a node. In weighted networks, the motif frequency may be supplemented by its weighted generalizations, the motif intensity and the motif coherence.\n",
    "\n",
    "- motif3funct_wei.m; motif4funct_wei.m (WD networks)."
   ]
  },
  {
   "cell_type": "code",
   "execution_count": 63,
   "metadata": {},
   "outputs": [
    {
     "ename": "FileNotFoundError",
     "evalue": "[Errno 2] No such file or directory: '/home/connectome/stellasybae/anaconda3/lib/python3.7/site-packages/bct/algorithms/motif34lib.mat'",
     "output_type": "error",
     "traceback": [
      "\u001b[0;31m---------------------------------------------------------------------------\u001b[0m",
      "\u001b[0;31mFileNotFoundError\u001b[0m                         Traceback (most recent call last)",
      "\u001b[0;32m~/anaconda3/lib/python3.7/site-packages/scipy/io/matlab/mio.py\u001b[0m in \u001b[0;36m_open_file\u001b[0;34m(file_like, appendmat, mode)\u001b[0m\n\u001b[1;32m     38\u001b[0m     \u001b[0;32mtry\u001b[0m\u001b[0;34m:\u001b[0m\u001b[0;34m\u001b[0m\u001b[0;34m\u001b[0m\u001b[0m\n\u001b[0;32m---> 39\u001b[0;31m         \u001b[0;32mreturn\u001b[0m \u001b[0mopen\u001b[0m\u001b[0;34m(\u001b[0m\u001b[0mfile_like\u001b[0m\u001b[0;34m,\u001b[0m \u001b[0mmode\u001b[0m\u001b[0;34m)\u001b[0m\u001b[0;34m,\u001b[0m \u001b[0;32mTrue\u001b[0m\u001b[0;34m\u001b[0m\u001b[0;34m\u001b[0m\u001b[0m\n\u001b[0m\u001b[1;32m     40\u001b[0m     \u001b[0;32mexcept\u001b[0m \u001b[0mIOError\u001b[0m\u001b[0;34m:\u001b[0m\u001b[0;34m\u001b[0m\u001b[0;34m\u001b[0m\u001b[0m\n",
      "\u001b[0;31mFileNotFoundError\u001b[0m: [Errno 2] No such file or directory: '/home/connectome/stellasybae/anaconda3/lib/python3.7/site-packages/bct/algorithms/motif34lib.mat'",
      "\nDuring handling of the above exception, another exception occurred:\n",
      "\u001b[0;31mFileNotFoundError\u001b[0m                         Traceback (most recent call last)",
      "\u001b[0;32m<ipython-input-63-cd395c9da53f>\u001b[0m in \u001b[0;36m<module>\u001b[0;34m\u001b[0m\n\u001b[0;32m----> 1\u001b[0;31m \u001b[0mmotif3funct_wei\u001b[0m \u001b[0;34m=\u001b[0m \u001b[0mbct\u001b[0m\u001b[0;34m.\u001b[0m\u001b[0mmotif3funct_wei\u001b[0m\u001b[0;34m(\u001b[0m\u001b[0msample\u001b[0m\u001b[0;34m[\u001b[0m\u001b[0;34m'result'\u001b[0m\u001b[0;34m]\u001b[0m\u001b[0;34m)\u001b[0m\u001b[0;34m\u001b[0m\u001b[0;34m\u001b[0m\u001b[0m\n\u001b[0m",
      "\u001b[0;32m~/anaconda3/lib/python3.7/site-packages/bct/algorithms/motifs.py\u001b[0m in \u001b[0;36mmotif3funct_wei\u001b[0;34m(W)\u001b[0m\n\u001b[1;32m    281\u001b[0m     \u001b[0;32mimport\u001b[0m \u001b[0mos\u001b[0m\u001b[0;34m\u001b[0m\u001b[0;34m\u001b[0m\u001b[0m\n\u001b[1;32m    282\u001b[0m     \u001b[0mfname\u001b[0m \u001b[0;34m=\u001b[0m \u001b[0mos\u001b[0m\u001b[0;34m.\u001b[0m\u001b[0mpath\u001b[0m\u001b[0;34m.\u001b[0m\u001b[0mjoin\u001b[0m\u001b[0;34m(\u001b[0m\u001b[0mos\u001b[0m\u001b[0;34m.\u001b[0m\u001b[0mpath\u001b[0m\u001b[0;34m.\u001b[0m\u001b[0mdirname\u001b[0m\u001b[0;34m(\u001b[0m\u001b[0m__file__\u001b[0m\u001b[0;34m)\u001b[0m\u001b[0;34m,\u001b[0m \u001b[0mmotiflib\u001b[0m\u001b[0;34m)\u001b[0m\u001b[0;34m\u001b[0m\u001b[0;34m\u001b[0m\u001b[0m\n\u001b[0;32m--> 283\u001b[0;31m     \u001b[0mmot\u001b[0m \u001b[0;34m=\u001b[0m \u001b[0mio\u001b[0m\u001b[0;34m.\u001b[0m\u001b[0mloadmat\u001b[0m\u001b[0;34m(\u001b[0m\u001b[0mfname\u001b[0m\u001b[0;34m)\u001b[0m\u001b[0;34m\u001b[0m\u001b[0;34m\u001b[0m\u001b[0m\n\u001b[0m\u001b[1;32m    284\u001b[0m     \u001b[0mm3\u001b[0m \u001b[0;34m=\u001b[0m \u001b[0mmot\u001b[0m\u001b[0;34m[\u001b[0m\u001b[0;34m'm3'\u001b[0m\u001b[0;34m]\u001b[0m\u001b[0;34m\u001b[0m\u001b[0;34m\u001b[0m\u001b[0m\n\u001b[1;32m    285\u001b[0m     \u001b[0mid3\u001b[0m \u001b[0;34m=\u001b[0m \u001b[0mmot\u001b[0m\u001b[0;34m[\u001b[0m\u001b[0;34m'id3'\u001b[0m\u001b[0;34m]\u001b[0m\u001b[0;34m.\u001b[0m\u001b[0msqueeze\u001b[0m\u001b[0;34m(\u001b[0m\u001b[0;34m)\u001b[0m\u001b[0;34m\u001b[0m\u001b[0;34m\u001b[0m\u001b[0m\n",
      "\u001b[0;32m~/anaconda3/lib/python3.7/site-packages/scipy/io/matlab/mio.py\u001b[0m in \u001b[0;36mloadmat\u001b[0;34m(file_name, mdict, appendmat, **kwargs)\u001b[0m\n\u001b[1;32m    214\u001b[0m     \"\"\"\n\u001b[1;32m    215\u001b[0m     \u001b[0mvariable_names\u001b[0m \u001b[0;34m=\u001b[0m \u001b[0mkwargs\u001b[0m\u001b[0;34m.\u001b[0m\u001b[0mpop\u001b[0m\u001b[0;34m(\u001b[0m\u001b[0;34m'variable_names'\u001b[0m\u001b[0;34m,\u001b[0m \u001b[0;32mNone\u001b[0m\u001b[0;34m)\u001b[0m\u001b[0;34m\u001b[0m\u001b[0;34m\u001b[0m\u001b[0m\n\u001b[0;32m--> 216\u001b[0;31m     \u001b[0;32mwith\u001b[0m \u001b[0m_open_file_context\u001b[0m\u001b[0;34m(\u001b[0m\u001b[0mfile_name\u001b[0m\u001b[0;34m,\u001b[0m \u001b[0mappendmat\u001b[0m\u001b[0;34m)\u001b[0m \u001b[0;32mas\u001b[0m \u001b[0mf\u001b[0m\u001b[0;34m:\u001b[0m\u001b[0;34m\u001b[0m\u001b[0;34m\u001b[0m\u001b[0m\n\u001b[0m\u001b[1;32m    217\u001b[0m         \u001b[0mMR\u001b[0m\u001b[0;34m,\u001b[0m \u001b[0m_\u001b[0m \u001b[0;34m=\u001b[0m \u001b[0mmat_reader_factory\u001b[0m\u001b[0;34m(\u001b[0m\u001b[0mf\u001b[0m\u001b[0;34m,\u001b[0m \u001b[0;34m**\u001b[0m\u001b[0mkwargs\u001b[0m\u001b[0;34m)\u001b[0m\u001b[0;34m\u001b[0m\u001b[0;34m\u001b[0m\u001b[0m\n\u001b[1;32m    218\u001b[0m         \u001b[0mmatfile_dict\u001b[0m \u001b[0;34m=\u001b[0m \u001b[0mMR\u001b[0m\u001b[0;34m.\u001b[0m\u001b[0mget_variables\u001b[0m\u001b[0;34m(\u001b[0m\u001b[0mvariable_names\u001b[0m\u001b[0;34m)\u001b[0m\u001b[0;34m\u001b[0m\u001b[0;34m\u001b[0m\u001b[0m\n",
      "\u001b[0;32m~/anaconda3/lib/python3.7/contextlib.py\u001b[0m in \u001b[0;36m__enter__\u001b[0;34m(self)\u001b[0m\n\u001b[1;32m    110\u001b[0m         \u001b[0;32mdel\u001b[0m \u001b[0mself\u001b[0m\u001b[0;34m.\u001b[0m\u001b[0margs\u001b[0m\u001b[0;34m,\u001b[0m \u001b[0mself\u001b[0m\u001b[0;34m.\u001b[0m\u001b[0mkwds\u001b[0m\u001b[0;34m,\u001b[0m \u001b[0mself\u001b[0m\u001b[0;34m.\u001b[0m\u001b[0mfunc\u001b[0m\u001b[0;34m\u001b[0m\u001b[0;34m\u001b[0m\u001b[0m\n\u001b[1;32m    111\u001b[0m         \u001b[0;32mtry\u001b[0m\u001b[0;34m:\u001b[0m\u001b[0;34m\u001b[0m\u001b[0;34m\u001b[0m\u001b[0m\n\u001b[0;32m--> 112\u001b[0;31m             \u001b[0;32mreturn\u001b[0m \u001b[0mnext\u001b[0m\u001b[0;34m(\u001b[0m\u001b[0mself\u001b[0m\u001b[0;34m.\u001b[0m\u001b[0mgen\u001b[0m\u001b[0;34m)\u001b[0m\u001b[0;34m\u001b[0m\u001b[0;34m\u001b[0m\u001b[0m\n\u001b[0m\u001b[1;32m    113\u001b[0m         \u001b[0;32mexcept\u001b[0m \u001b[0mStopIteration\u001b[0m\u001b[0;34m:\u001b[0m\u001b[0;34m\u001b[0m\u001b[0;34m\u001b[0m\u001b[0m\n\u001b[1;32m    114\u001b[0m             \u001b[0;32mraise\u001b[0m \u001b[0mRuntimeError\u001b[0m\u001b[0;34m(\u001b[0m\u001b[0;34m\"generator didn't yield\"\u001b[0m\u001b[0;34m)\u001b[0m \u001b[0;32mfrom\u001b[0m \u001b[0;32mNone\u001b[0m\u001b[0;34m\u001b[0m\u001b[0;34m\u001b[0m\u001b[0m\n",
      "\u001b[0;32m~/anaconda3/lib/python3.7/site-packages/scipy/io/matlab/mio.py\u001b[0m in \u001b[0;36m_open_file_context\u001b[0;34m(file_like, appendmat, mode)\u001b[0m\n\u001b[1;32m     17\u001b[0m \u001b[0;34m@\u001b[0m\u001b[0mcontextmanager\u001b[0m\u001b[0;34m\u001b[0m\u001b[0;34m\u001b[0m\u001b[0m\n\u001b[1;32m     18\u001b[0m \u001b[0;32mdef\u001b[0m \u001b[0m_open_file_context\u001b[0m\u001b[0;34m(\u001b[0m\u001b[0mfile_like\u001b[0m\u001b[0;34m,\u001b[0m \u001b[0mappendmat\u001b[0m\u001b[0;34m,\u001b[0m \u001b[0mmode\u001b[0m\u001b[0;34m=\u001b[0m\u001b[0;34m'rb'\u001b[0m\u001b[0;34m)\u001b[0m\u001b[0;34m:\u001b[0m\u001b[0;34m\u001b[0m\u001b[0;34m\u001b[0m\u001b[0m\n\u001b[0;32m---> 19\u001b[0;31m     \u001b[0mf\u001b[0m\u001b[0;34m,\u001b[0m \u001b[0mopened\u001b[0m \u001b[0;34m=\u001b[0m \u001b[0m_open_file\u001b[0m\u001b[0;34m(\u001b[0m\u001b[0mfile_like\u001b[0m\u001b[0;34m,\u001b[0m \u001b[0mappendmat\u001b[0m\u001b[0;34m,\u001b[0m \u001b[0mmode\u001b[0m\u001b[0;34m)\u001b[0m\u001b[0;34m\u001b[0m\u001b[0;34m\u001b[0m\u001b[0m\n\u001b[0m\u001b[1;32m     20\u001b[0m     \u001b[0;32myield\u001b[0m \u001b[0mf\u001b[0m\u001b[0;34m\u001b[0m\u001b[0;34m\u001b[0m\u001b[0m\n\u001b[1;32m     21\u001b[0m     \u001b[0;32mif\u001b[0m \u001b[0mopened\u001b[0m\u001b[0;34m:\u001b[0m\u001b[0;34m\u001b[0m\u001b[0;34m\u001b[0m\u001b[0m\n",
      "\u001b[0;32m~/anaconda3/lib/python3.7/site-packages/scipy/io/matlab/mio.py\u001b[0m in \u001b[0;36m_open_file\u001b[0;34m(file_like, appendmat, mode)\u001b[0m\n\u001b[1;32m     43\u001b[0m             \u001b[0;32mif\u001b[0m \u001b[0mappendmat\u001b[0m \u001b[0;32mand\u001b[0m \u001b[0;32mnot\u001b[0m \u001b[0mfile_like\u001b[0m\u001b[0;34m.\u001b[0m\u001b[0mendswith\u001b[0m\u001b[0;34m(\u001b[0m\u001b[0;34m'.mat'\u001b[0m\u001b[0;34m)\u001b[0m\u001b[0;34m:\u001b[0m\u001b[0;34m\u001b[0m\u001b[0;34m\u001b[0m\u001b[0m\n\u001b[1;32m     44\u001b[0m                 \u001b[0mfile_like\u001b[0m \u001b[0;34m+=\u001b[0m \u001b[0;34m'.mat'\u001b[0m\u001b[0;34m\u001b[0m\u001b[0;34m\u001b[0m\u001b[0m\n\u001b[0;32m---> 45\u001b[0;31m             \u001b[0;32mreturn\u001b[0m \u001b[0mopen\u001b[0m\u001b[0;34m(\u001b[0m\u001b[0mfile_like\u001b[0m\u001b[0;34m,\u001b[0m \u001b[0mmode\u001b[0m\u001b[0;34m)\u001b[0m\u001b[0;34m,\u001b[0m \u001b[0;32mTrue\u001b[0m\u001b[0;34m\u001b[0m\u001b[0;34m\u001b[0m\u001b[0m\n\u001b[0m\u001b[1;32m     46\u001b[0m         \u001b[0;32melse\u001b[0m\u001b[0;34m:\u001b[0m\u001b[0;34m\u001b[0m\u001b[0;34m\u001b[0m\u001b[0m\n\u001b[1;32m     47\u001b[0m             \u001b[0;32mraise\u001b[0m \u001b[0mIOError\u001b[0m\u001b[0;34m(\u001b[0m\u001b[0;34m'Reader needs file name or open file-like object'\u001b[0m\u001b[0;34m)\u001b[0m\u001b[0;34m\u001b[0m\u001b[0;34m\u001b[0m\u001b[0m\n",
      "\u001b[0;31mFileNotFoundError\u001b[0m: [Errno 2] No such file or directory: '/home/connectome/stellasybae/anaconda3/lib/python3.7/site-packages/bct/algorithms/motif34lib.mat'"
     ]
    }
   ],
   "source": [
    "motif3funct_wei = bct.motif3funct_wei(sample['result'])"
   ]
  },
  {
   "cell_type": "code",
   "execution_count": null,
   "metadata": {
    "scrolled": true
   },
   "outputs": [],
   "source": [
    "motif4funct_wei"
   ]
  },
  {
   "cell_type": "code",
   "execution_count": null,
   "metadata": {},
   "outputs": [],
   "source": []
  }
 ],
 "metadata": {
  "kernelspec": {
   "display_name": "Python 3 (ipykernel)",
   "language": "python",
   "name": "python3"
  },
  "language_info": {
   "codemirror_mode": {
    "name": "ipython",
    "version": 3
   },
   "file_extension": ".py",
   "mimetype": "text/x-python",
   "name": "python",
   "nbconvert_exporter": "python",
   "pygments_lexer": "ipython3",
   "version": "3.8.10"
  }
 },
 "nbformat": 4,
 "nbformat_minor": 2
}
