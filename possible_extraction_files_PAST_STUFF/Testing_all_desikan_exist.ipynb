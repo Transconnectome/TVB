{
 "cells": [
  {
   "cell_type": "code",
   "execution_count": 19,
   "id": "d04ee330",
   "metadata": {
    "scrolled": false
   },
   "outputs": [],
   "source": [
    "import os\n",
    "\n",
    "path = '/storage/bigdata/ABCD/fmriprep/1.rs_fmri/5.ROI_DATA/'\n",
    "\n",
    "aa = os.listdir(path)\n",
    "\n",
    "for i in aa:\n",
    "    a=os.listdir(path+i)\n",
    "    #print(a)\n",
    "    s=0\n",
    "    for j in a:\n",
    "        #print(j)\n",
    "        if \"desikankilliany_sub\" in j:\n",
    "            s=s+1 \n",
    "    #print(s)\n",
    "    if s!=1:\n",
    "        print(\"{} is not done\".format(a))\n",
    "        \n",
    "\n"
   ]
  },
  {
   "cell_type": "code",
   "execution_count": 20,
   "id": "5122ad88",
   "metadata": {},
   "outputs": [
    {
     "name": "stdout",
     "output_type": "stream",
     "text": [
      "True\n"
     ]
    }
   ],
   "source": [
    "print(\"desikan\" in \"desikankilliany_sub-NDARINVGH70J8FC.npy\")"
   ]
  },
  {
   "cell_type": "code",
   "execution_count": null,
   "id": "1e9f246e",
   "metadata": {},
   "outputs": [],
   "source": []
  }
 ],
 "metadata": {
  "kernelspec": {
   "display_name": "Python 3 (ipykernel)",
   "language": "python",
   "name": "python3"
  },
  "language_info": {
   "codemirror_mode": {
    "name": "ipython",
    "version": 3
   },
   "file_extension": ".py",
   "mimetype": "text/x-python",
   "name": "python",
   "nbconvert_exporter": "python",
   "pygments_lexer": "ipython3",
   "version": "3.8.10"
  }
 },
 "nbformat": 4,
 "nbformat_minor": 5
}
