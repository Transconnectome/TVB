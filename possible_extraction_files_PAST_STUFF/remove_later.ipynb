{
 "cells": [
  {
   "cell_type": "code",
   "execution_count": 1,
   "metadata": {},
   "outputs": [],
   "source": [
    "import bct"
   ]
  },
  {
   "cell_type": "markdown",
   "metadata": {},
   "source": [
    "BCT threshold_proportional 공부"
   ]
  },
  {
   "cell_type": "code",
   "execution_count": 2,
   "metadata": {},
   "outputs": [
    {
     "data": {
      "text/plain": [
       "array([[ 0,  1,  2,  3],\n",
       "       [ 4,  5,  6,  7],\n",
       "       [ 8,  9, 10, 11],\n",
       "       [12, 13, 14, 15]])"
      ]
     },
     "execution_count": 2,
     "metadata": {},
     "output_type": "execute_result"
    }
   ],
   "source": [
    "import numpy as np\n",
    "a = np.arange(16).reshape(4,4)\n",
    "a"
   ]
  },
  {
   "cell_type": "code",
   "execution_count": 3,
   "metadata": {},
   "outputs": [
    {
     "data": {
      "text/plain": [
       "array([[0.        , 0.06666667, 0.13333333, 0.2       ],\n",
       "       [0.26666667, 0.33333333, 0.4       , 0.46666667],\n",
       "       [0.53333333, 0.6       , 0.66666667, 0.73333333],\n",
       "       [0.8       , 0.86666667, 0.93333333, 1.        ]])"
      ]
     },
     "execution_count": 3,
     "metadata": {},
     "output_type": "execute_result"
    }
   ],
   "source": [
    "b = a/np.max(a)\n",
    "b"
   ]
  },
  {
   "cell_type": "code",
   "execution_count": 4,
   "metadata": {},
   "outputs": [
    {
     "data": {
      "text/plain": [
       "array([[ 0,  0,  2,  3],\n",
       "       [ 4,  0,  6,  7],\n",
       "       [ 8,  9,  0, 11],\n",
       "       [12, 13, 14,  0]])"
      ]
     },
     "execution_count": 4,
     "metadata": {},
     "output_type": "execute_result"
    }
   ],
   "source": [
    "bct.threshold_proportional(a, 0.9)"
   ]
  },
  {
   "cell_type": "code",
   "execution_count": 5,
   "metadata": {},
   "outputs": [
    {
     "data": {
      "text/plain": [
       "array([[0.        , 0.        , 0.13333333, 0.2       ],\n",
       "       [0.26666667, 0.        , 0.4       , 0.46666667],\n",
       "       [0.53333333, 0.6       , 0.        , 0.73333333],\n",
       "       [0.8       , 0.86666667, 0.93333333, 0.        ]])"
      ]
     },
     "execution_count": 5,
     "metadata": {},
     "output_type": "execute_result"
    }
   ],
   "source": [
    "bct.threshold_proportional(b,0.9)"
   ]
  },
  {
   "cell_type": "markdown",
   "metadata": {},
   "source": [
    "bct threshold에 대한 결과:\n",
    "\n",
    "* diagonal은 0으로 된다\n",
    "* a든 b 둘다 똑같은 똑같은 결과를 낸다"
   ]
  },
  {
   "cell_type": "code",
   "execution_count": 6,
   "metadata": {},
   "outputs": [
    {
     "data": {
      "text/plain": [
       "0.15555555555555556"
      ]
     },
     "execution_count": 6,
     "metadata": {},
     "output_type": "execute_result"
    }
   ],
   "source": [
    "np.sum(bct.threshold_proportional(b,0.1))/(np.sum(b)-b[1,1]-b[2,2]-b[3,3])\n",
    "#구체적으로 어떤 역할을 하는지는 모르겠다"
   ]
  },
  {
   "cell_type": "code",
   "execution_count": 7,
   "metadata": {},
   "outputs": [
    {
     "data": {
      "text/plain": [
       "array([[ 0,  0,  0,  3],\n",
       "       [ 4,  0,  6,  7],\n",
       "       [ 8,  9,  0, 11],\n",
       "       [12, 13, 14,  0]])"
      ]
     },
     "execution_count": 7,
     "metadata": {},
     "output_type": "execute_result"
    }
   ],
   "source": [
    "bct.threshold_absolute(a,3)"
   ]
  },
  {
   "cell_type": "code",
   "execution_count": 8,
   "metadata": {},
   "outputs": [
    {
     "data": {
      "text/plain": [
       "array([[ 0,  1,  2,  3],\n",
       "       [ 4,  5,  6,  7],\n",
       "       [ 8,  9, 10, 11],\n",
       "       [12, 13, 14, 15]])"
      ]
     },
     "execution_count": 8,
     "metadata": {},
     "output_type": "execute_result"
    }
   ],
   "source": [
    "a"
   ]
  },
  {
   "cell_type": "code",
   "execution_count": 9,
   "metadata": {},
   "outputs": [
    {
     "name": "stdout",
     "output_type": "stream",
     "text": [
      "Help on function charpath in module bct.algorithms.distance:\n",
      "\n",
      "charpath(D, include_diagonal=False, include_infinite=True)\n",
      "    The characteristic path length is the average shortest path length in\n",
      "    the network. The global efficiency is the average inverse shortest path\n",
      "    length in the network.\n",
      "    \n",
      "    Parameters\n",
      "    ----------\n",
      "    D : NxN np.ndarray\n",
      "        distance matrix\n",
      "    include_diagonal : bool\n",
      "        If True, include the weights on the diagonal. Default value is False.\n",
      "    include_infinite : bool\n",
      "        If True, include infinite distances in calculation\n",
      "    \n",
      "    Returns\n",
      "    -------\n",
      "    lambda : float\n",
      "        characteristic path length\n",
      "    efficiency : float\n",
      "        global efficiency\n",
      "    ecc : Nx1 np.ndarray\n",
      "        eccentricity at each vertex\n",
      "    radius : float\n",
      "        radius of graph\n",
      "    diameter : float\n",
      "        diameter of graph\n",
      "    \n",
      "    Notes\n",
      "    -----\n",
      "    The input distance matrix may be obtained with any of the distance\n",
      "    functions, e.g. distance_bin, distance_wei.\n",
      "    Characteristic path length is calculated as the global mean of\n",
      "    the distance matrix D, excludings any 'Infs' but including distances on\n",
      "    the main diagonal.\n",
      "\n"
     ]
    }
   ],
   "source": [
    "help(bct.charpath)"
   ]
  },
  {
   "cell_type": "code",
   "execution_count": 10,
   "metadata": {},
   "outputs": [],
   "source": [
    "c = np.array([[3,0,1],\n",
    "              [2,5,0],\n",
    "              [0,0,0]])"
   ]
  },
  {
   "cell_type": "code",
   "execution_count": 11,
   "metadata": {},
   "outputs": [
    {
     "data": {
      "text/plain": [
       "array([[0, 0, 0],\n",
       "       [2, 0, 0],\n",
       "       [0, 0, 0]])"
      ]
     },
     "execution_count": 11,
     "metadata": {},
     "output_type": "execute_result"
    }
   ],
   "source": [
    "bct.threshold_proportional(c, 0.2)"
   ]
  },
  {
   "cell_type": "code",
   "execution_count": 12,
   "metadata": {},
   "outputs": [
    {
     "data": {
      "text/plain": [
       "4"
      ]
     },
     "execution_count": 12,
     "metadata": {},
     "output_type": "execute_result"
    }
   ],
   "source": [
    "np.sum(c!=0)"
   ]
  },
  {
   "cell_type": "code",
   "execution_count": 17,
   "metadata": {},
   "outputs": [
    {
     "ename": "TypeError",
     "evalue": "'<' not supported between instances of 'int' and 'NoneType'",
     "output_type": "error",
     "traceback": [
      "\u001b[0;31m---------------------------------------------------------------------------\u001b[0m",
      "\u001b[0;31mTypeError\u001b[0m                                 Traceback (most recent call last)",
      "Input \u001b[0;32mIn [17]\u001b[0m, in \u001b[0;36m<cell line: 1>\u001b[0;34m()\u001b[0m\n\u001b[0;32m----> 1\u001b[0m \u001b[38;5;28mprint\u001b[39m (\u001b[38;5;241;43m0\u001b[39;49m\u001b[38;5;241;43m<\u001b[39;49m\u001b[43m(\u001b[49m\u001b[38;5;28;43;01mNone\u001b[39;49;00m\u001b[43m)\u001b[49m)\n",
      "\u001b[0;31mTypeError\u001b[0m: '<' not supported between instances of 'int' and 'NoneType'"
     ]
    }
   ],
   "source": [
    "print (0<(None))"
   ]
  },
  {
   "cell_type": "code",
   "execution_count": null,
   "metadata": {},
   "outputs": [],
   "source": [
    "bc"
   ]
  }
 ],
 "metadata": {
  "kernelspec": {
   "display_name": "Python 3 (ipykernel)",
   "language": "python",
   "name": "python3"
  },
  "language_info": {
   "codemirror_mode": {
    "name": "ipython",
    "version": 3
   },
   "file_extension": ".py",
   "mimetype": "text/x-python",
   "name": "python",
   "nbconvert_exporter": "python",
   "pygments_lexer": "ipython3",
   "version": "3.8.10"
  }
 },
 "nbformat": 4,
 "nbformat_minor": 2
}
