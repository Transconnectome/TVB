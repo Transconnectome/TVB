{
 "cells": [
  {
   "cell_type": "code",
   "execution_count": null,
   "id": "ef8df331",
   "metadata": {},
   "outputs": [],
   "source": [
    "import bct\n",
    "import pandas as pd\n",
    "import numpy as np\n",
    "import os\n",
    "import sys\n",
    "import seaborn as sns\n",
    "import pingouin\n",
    "import matplotlib.pyplot as plt\n",
    "import warnings\n",
    "sys.path.append(\"/scratch/connectome/TVB/TVB_RESEARCH\")\n",
    "sys.path\n",
    "import utils #now imports becasue it looks at the last added sys path\n",
    "\n",
    "import warnings\n",
    "warnings.filterwarnings('ignore')\n",
    "import time\n",
    "from tqdm import tqdm\n",
    "import argparse\n",
    "\n",
    "\n",
    "#parser = argparse.ArgumentParser(description = \"argparse\")\n",
    "#\n",
    "#parser.add_argument('--threshold', type = float, help = \"threshold to use\")\n",
    "#\n",
    "#args = parser.parse_args()\n",
    "\n",
    "class arg():\n",
    "    def __init__(self):\n",
    "        self.threshold = 0.2\n",
    "args = arg()   \n",
    "data_dir = '/storage/bigdata/ABCD/TVB/data'\n",
    "\n",
    "####load dataset and stuff \n",
    "dataset = utils.load_data.ABCDDataset(data_dir)  #이제 된다\n",
    "subjects = dataset.list_subjects()\n",
    "\n",
    "\n",
    "start = time.time()\n",
    "warnings.filterwarnings('once') #여기서는 한번만 나오게 하기 (여러번 돌아가면서 계속 뜨는 것은 싫다)\n",
    "\n",
    "###how much to keep\n",
    "sample_size = len(subjects) #if you wanna run all\n",
    "threshold = args.threshold\n",
    "\n",
    "##scalar meausres initialization\n",
    "sample_sub = dataset.load_sc(subjects[0])\n",
    "data, names = utils.conn_measures.compute_bct_UW(sample_sub, threshold = 0.3).scalar_properties()\n",
    "\n",
    "\n",
    "num_sub = len(subjects) #8238\n",
    "num_measures = len(names)\n",
    "scalar_bct_results = np.empty((min(num_sub,sample_size),num_measures))\n",
    "scalar_bct_results[:] = np.nan\n",
    "\n",
    "\n",
    "###SC + SCALAR (vector, matrix는 할지말지, 그리고 한다면 언제할지는 모르겠다)\n",
    "warnings.filterwarnings(\"ignore\")\n",
    "tqdm_loop = tqdm(subjects[:sample_size]) #tqdm_loop이라는 tqdm object로 만들기 => 나중에 descrioption을 둘거라서\n",
    "for i,sub in enumerate(tqdm_loop):#enumerate(subjects[:sample_size]):#tqdm(subjects[:sample_size])):\n",
    "    sub_sc = dataset.load_sc(sub)\n",
    "    #do FC too!!!\n",
    "        \n",
    "    #trying to load the thing \n",
    "        #utils.conn_measuers 그거 initiailize할때, this has \"check usaiblity\" built-in (in __init__) \n",
    "        #threfore, when the matrix_loaded fails, it means the matrix is not usable\n",
    "    try :\n",
    "        matrix_loaded = utils.conn_measures.compute_bct_UW(sub_sc, threshold=threshold)\n",
    "    except : \n",
    "        tqdm_loop.set_postfix_str(\"sub-{} failed!\".format(sub))\n",
    "        continue\n",
    "\n",
    "    data, names = matrix_loaded.scalar_properties()\n",
    "    scalar_bct_results[i] = np.array(list(data.values()))\n",
    "\n",
    "total_scalar_results = pd.DataFrame(scalar_bct_results, index = subjects[:sample_size], columns = names)\n",
    "end = time.time()\n",
    "print(\"run_time(s) :\", end-start)\n",
    "\n",
    "\n",
    "BCT_result_save_dir = \"/storage/bigdata/ABCD/TVB/BCT_results/SC_ses_2/\"\n",
    "\n",
    "total_scalar_results.to_csv(BCT_result_save_dir+\"scalar_results_threshold_{}.csv\".format(threshold))\n",
    "pd.read_csv(BCT_result_save_dir+\"scalar_results_threshold_{}.csv\".format(threshold), index_col=0) #use the first column as the rows\n",
    "os.listdir(BCT_result_save_dir)"
   ]
  },
  {
   "cell_type": "code",
   "execution_count": 7,
   "id": "95e51e85",
   "metadata": {},
   "outputs": [
    {
     "name": "stdout",
     "output_type": "stream",
     "text": [
      "[[ 2.67676179e-02  5.18696785e-02 -5.60905206e-02  8.85197711e+01\n",
      "   2.66714312e+01  5.18696785e-02  4.64280802e+01  8.88390532e+01\n",
      "   9.00799741e-01  4.47335905e-01 -1.05715689e-01]\n",
      " [ 2.22959667e-02  3.89407062e-02 -1.09936472e-02  7.13252243e+01\n",
      "   3.93773140e+01  3.89407062e-02  8.64655172e+01  1.68518989e+02\n",
      "   9.05730940e-01  5.58950898e-01 -1.12319299e-01]\n",
      " [ 2.05728394e-02  3.60807157e-02 -1.66069385e-02  7.14128546e+01\n",
      "   4.36019144e+01  3.60807157e-02  7.33737076e+01  1.32760200e+02\n",
      "   9.17401868e-01  6.15134350e-01 -1.12083529e-01]\n",
      " [ 2.30842546e-02  3.98981924e-02  9.55576496e-03  7.64106836e+01\n",
      "   3.93294182e+01  3.98981924e-02  6.91668914e+01  1.33951835e+02\n",
      "   9.22348569e-01  5.22823349e-01 -1.04324497e-01]\n",
      " [            nan             nan             nan             nan\n",
      "              nan             nan             nan             nan\n",
      "              nan             nan             nan]\n",
      " [ 4.32749172e-02  7.54966249e-02  1.26713950e-02  1.42364074e+02\n",
      "   2.03734033e+01  7.54966249e-02  3.30383142e+01  6.31990427e+01\n",
      "   9.19499116e-01  5.97020391e-01 -9.77947931e-02]\n",
      " [ 2.48655213e-02  4.54291517e-02  1.10780349e-02  8.43595015e+01\n",
      "   3.72859790e+01  4.54291517e-02  1.23173491e+02  2.44310746e+02\n",
      "   9.02091331e-01  5.72457754e-01 -1.05535307e-01]\n",
      " [ 2.89559566e-02  4.66573479e-02 -7.75852905e-03  9.28214046e+01\n",
      "   3.17098762e+01  4.66573479e-02  5.01880114e+01  9.88174643e+01\n",
      "   9.09343076e-01  5.77562227e-01 -9.99938604e-02]\n",
      " [ 3.11712095e-02  5.25911025e-02  3.84004935e-03  9.87489402e+01\n",
      "   2.82938375e+01  5.25911025e-02  4.79037940e+01  9.14059093e+01\n",
      "   9.14441856e-01  5.69986421e-01 -1.12695484e-01]\n",
      " [ 3.51308957e-02  6.02517558e-02 -1.08736965e-02  1.13443169e+02\n",
      "   2.62708973e+01  6.02517558e-02  5.61948952e+01  1.10528616e+02\n",
      "   9.10221604e-01  5.80516471e-01 -1.18134357e-01]]\n"
     ]
    }
   ],
   "source": [
    "print(scalar_bct_results[:10])"
   ]
  },
  {
   "cell_type": "code",
   "execution_count": null,
   "id": "e140a18f",
   "metadata": {},
   "outputs": [],
   "source": [
    "pd."
   ]
  },
  {
   "cell_type": "code",
   "execution_count": 17,
   "id": "09ef6c36",
   "metadata": {},
   "outputs": [
    {
     "name": "stdout",
     "output_type": "stream",
     "text": [
      "None\n"
     ]
    },
    {
     "ename": "Exception",
     "evalue": "error",
     "output_type": "error",
     "traceback": [
      "\u001b[0;31m---------------------------------------------------------------------------\u001b[0m",
      "\u001b[0;31mException\u001b[0m                                 Traceback (most recent call last)",
      "Input \u001b[0;32mIn [17]\u001b[0m, in \u001b[0;36m<cell line: 16>\u001b[0;34m()\u001b[0m\n\u001b[1;32m     14\u001b[0m         \u001b[38;5;28;01melse\u001b[39;00m :\n\u001b[1;32m     15\u001b[0m             \u001b[38;5;28;01mreturn\u001b[39;00m \u001b[38;5;28;01mNone\u001b[39;00m\n\u001b[0;32m---> 16\u001b[0m a \u001b[38;5;241m=\u001b[39m \u001b[43mtry_class\u001b[49m\u001b[43m(\u001b[49m\u001b[38;5;241;43m3\u001b[39;49m\u001b[43m,\u001b[49m\u001b[38;5;241;43m1\u001b[39;49m\u001b[43m)\u001b[49m\n",
      "Input \u001b[0;32mIn [17]\u001b[0m, in \u001b[0;36mtry_class.__init__\u001b[0;34m(self, x, y)\u001b[0m\n\u001b[1;32m      6\u001b[0m \u001b[38;5;28mprint\u001b[39m(\u001b[38;5;28mself\u001b[39m\u001b[38;5;241m.\u001b[39mcheck())\n\u001b[1;32m      7\u001b[0m \u001b[38;5;28;01mif\u001b[39;00m \u001b[38;5;28mself\u001b[39m\u001b[38;5;241m.\u001b[39mcheck() \u001b[38;5;241m==\u001b[39m \u001b[38;5;28;01mNone\u001b[39;00m:\n\u001b[0;32m----> 8\u001b[0m     \u001b[38;5;28;01mraise\u001b[39;00m \u001b[38;5;167;01mException\u001b[39;00m(\u001b[38;5;124m\"\u001b[39m\u001b[38;5;124merror\u001b[39m\u001b[38;5;124m\"\u001b[39m)\n\u001b[1;32m      9\u001b[0m \u001b[38;5;28mprint\u001b[39m(x\u001b[38;5;241m+\u001b[39my)\n",
      "\u001b[0;31mException\u001b[0m: error"
     ]
    }
   ],
   "source": [
    "class try_class():\n",
    "    def __init__(self, x,y):\n",
    "        self.x = x\n",
    "        self.y = y\n",
    "        \n",
    "        print(self.check())\n",
    "        if self.check() == None:\n",
    "            raise Exception(\"error\")\n",
    "        print(x+y)\n",
    "        \n",
    "    def check(self):\n",
    "        if self.x+self.y==3:\n",
    "            return True\n",
    "        else :\n",
    "            return None\n",
    "a = try_class(3,1)\n",
    "\n",
    "    "
   ]
  },
  {
   "cell_type": "code",
   "execution_count": 1,
   "id": "cfe0b915",
   "metadata": {},
   "outputs": [
    {
     "ename": "NameError",
     "evalue": "name 'subjects' is not defined",
     "output_type": "error",
     "traceback": [
      "\u001b[0;31m---------------------------------------------------------------------------\u001b[0m",
      "\u001b[0;31mNameError\u001b[0m                                 Traceback (most recent call last)",
      "Input \u001b[0;32mIn [1]\u001b[0m, in \u001b[0;36m<cell line: 1>\u001b[0;34m()\u001b[0m\n\u001b[0;32m----> 1\u001b[0m \u001b[38;5;28;01mfor\u001b[39;00m i,sub \u001b[38;5;129;01min\u001b[39;00m \u001b[38;5;28menumerate\u001b[39m(\u001b[43msubjects\u001b[49m[:sample_size]): \u001b[38;5;66;03m#tqdm(subjects[:sample_size])): #tqdm not used becuase if loop breaks during tqdm tqdm breaks\u001b[39;00m\n\u001b[1;32m      2\u001b[0m     sub_sc \u001b[38;5;241m=\u001b[39m dataset\u001b[38;5;241m.\u001b[39mload_sc(sub)\n\u001b[1;32m      3\u001b[0m     \u001b[38;5;66;03m#do FC too!!!\u001b[39;00m\n",
      "\u001b[0;31mNameError\u001b[0m: name 'subjects' is not defined"
     ]
    }
   ],
   "source": [
    "for i,sub in enumerate(subjects[:sample_size]): #tqdm(subjects[:sample_size])): #tqdm not used becuase if loop breaks during tqdm tqdm breaks\n",
    "    sub_sc = dataset.load_sc(sub)\n",
    "    #do FC too!!!\n",
    "    matrix_loaded = utils.conn_measures.compute_bct_UW(sub_sc, threshold=threshold)\n",
    "    if matrix_loaded.usability_check_density_based() != True:\n",
    "        print(\"{}failed\".format(sub))\n",
    "        continue #if usability check is not satisfied, skip this iteration\n",
    "    data, names = matrix_loaded.scalar_properties()\n",
    "    scalar_bct_results[i] = np.array(list(data.values()))\n",
    "\n"
   ]
  },
  {
   "cell_type": "code",
   "execution_count": null,
   "id": "78624fa7",
   "metadata": {},
   "outputs": [],
   "source": [
    "count = 0\n",
    "modular_structures = np.zeros(5)\n",
    "matrix_loaded = utils.conn_measures.compute_bct_UW(dataset.load_sc(subjects[4]), threshold=threshold)\n",
    "print(matrix_loaded.usability_check_density_based())\n",
    "while modular_structures.max() != 5:\n",
    "    modular_structures, modularities = bct.community_louvain(matrix_loaded.mat)\n",
    "    count+=1\n",
    "    print(count)\n",
    "    if count > 1000: #MUST BE CHANGED\n",
    "        if (np.max(modular_structures) == 6) or (np.max(modular_structures)==4):\n",
    "            break\n",
    "print(modular_structures)"
   ]
  },
  {
   "cell_type": "code",
   "execution_count": null,
   "id": "4a4b98a9",
   "metadata": {},
   "outputs": [],
   "source": [
    "#아!!! 4번쩨가 안되는 이유가, __init__예가 하면서 돌려야하는 것이 있는데, 이게 그 작동하면 안된느 것이기 때문!\n",
    "#따라서, __init__에서 정의하기 전에, 먼저 check usaiblity본 후에, usability가 check되었을때만 밑에 하도록 하기\n",
    "#단, 만약 usability check 통과해도 작동을 안하는 것이 된다면,... => 이거는 조금있다가 더 생각해보자"
   ]
  },
  {
   "cell_type": "code",
   "execution_count": 11,
   "id": "b185a8d6",
   "metadata": {},
   "outputs": [
    {
     "name": "stderr",
     "output_type": "stream",
     "text": [
      "\r",
      "  0%|                                                                                                                | 0/3 [00:00<?, ?it/s]"
     ]
    },
    {
     "name": "stdout",
     "output_type": "stream",
     "text": [
      "0\n"
     ]
    },
    {
     "name": "stderr",
     "output_type": "stream",
     "text": [
      "\r",
      " 33%|██████████████████████████████████▋                                                                     | 1/3 [00:02<00:04,  2.00s/it]"
     ]
    },
    {
     "name": "stdout",
     "output_type": "stream",
     "text": [
      "haha0\n",
      "1\n",
      "2\n"
     ]
    },
    {
     "name": "stderr",
     "output_type": "stream",
     "text": [
      "100%|████████████████████████████████████████████████████████████████████████████████████████████████████████| 3/3 [00:04<00:00,  1.34s/it]"
     ]
    },
    {
     "name": "stdout",
     "output_type": "stream",
     "text": [
      "haha2\n"
     ]
    },
    {
     "name": "stderr",
     "output_type": "stream",
     "text": [
      "\n"
     ]
    }
   ],
   "source": [
    "import tqdm \n",
    "import time\n",
    "for i, name in enumerate(tqdm.tqdm([\"ahha\",\"hehe\", \"hoho\"])):\n",
    "    \n",
    "    print(i)\n",
    "    if i==1:\n",
    "        continue\n",
    "    time.sleep(2)\n",
    "    print(\"haha{}\".format(i))"
   ]
  },
  {
   "cell_type": "code",
   "execution_count": null,
   "id": "429cfcad",
   "metadata": {},
   "outputs": [],
   "source": [
    "a = np.arange(10*10)."
   ]
  }
 ],
 "metadata": {
  "kernelspec": {
   "display_name": "Python 3 (ipykernel)",
   "language": "python",
   "name": "python3"
  },
  "language_info": {
   "codemirror_mode": {
    "name": "ipython",
    "version": 3
   },
   "file_extension": ".py",
   "mimetype": "text/x-python",
   "name": "python",
   "nbconvert_exporter": "python",
   "pygments_lexer": "ipython3",
   "version": "3.8.10"
  }
 },
 "nbformat": 4,
 "nbformat_minor": 5
}
