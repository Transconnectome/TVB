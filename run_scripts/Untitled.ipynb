{
 "cells": [
  {
   "cell_type": "code",
   "execution_count": 1,
   "id": "ef8df331",
   "metadata": {
    "scrolled": true
   },
   "outputs": [
    {
     "name": "stderr",
     "output_type": "stream",
     "text": [
      "/home/connectome/dyhan316/.local/lib/python3.8/site-packages/outdated/utils.py:14: OutdatedPackageWarning: The package pingouin is out of date. Your version is 0.5.1, the latest is 0.5.2.\n",
      "Set the environment variable OUTDATED_IGNORE=1 to disable these warnings.\n",
      "  return warn(\n"
     ]
    },
    {
     "name": "stdout",
     "output_type": "stream",
     "text": [
      "IMPORTED\n"
     ]
    },
    {
     "name": "stderr",
     "output_type": "stream",
     "text": [
      "/home/connectome/dyhan316/.local/lib/python3.8/site-packages/numpy/core/_asarray.py:102: VisibleDeprecationWarning: Creating an ndarray from ragged nested sequences (which is a list-or-tuple of lists-or-tuples-or ndarrays with different lengths or shapes) is deprecated. If you meant to do this, you must specify 'dtype=object' when creating the ndarray.\n",
      "  return array(a, dtype, copy=False, order=order)\n",
      "100%|███████████████████████████████████████████████████████████████████████████████████████████████████████████████████████████████████████| 32/32 [01:43<00:00,  3.22s/it, sub-NDARINV8J6JMUXE failed! || 19th fail]"
     ]
    },
    {
     "name": "stdout",
     "output_type": "stream",
     "text": [
      "run_time(s) : 103.96608996391296\n"
     ]
    },
    {
     "name": "stderr",
     "output_type": "stream",
     "text": [
      "\n"
     ]
    },
    {
     "data": {
      "text/plain": [
       "['scalar_results_threshold_0.1.csv']"
      ]
     },
     "execution_count": 1,
     "metadata": {},
     "output_type": "execute_result"
    }
   ],
   "source": [
    "import bct\n",
    "import pandas as pd\n",
    "import numpy as np\n",
    "import os\n",
    "import sys\n",
    "import seaborn as sns\n",
    "import pingouin\n",
    "import matplotlib.pyplot as plt\n",
    "import warnings\n",
    "sys.path.append(\"/scratch/connectome/TVB/TVB_RESEARCH\")\n",
    "sys.path\n",
    "import utils #now imports becasue it looks at the last added sys path\n",
    "\n",
    "import warnings\n",
    "warnings.filterwarnings('ignore')\n",
    "import time\n",
    "from tqdm import tqdm\n",
    "import argparse\n",
    "\n",
    "\n",
    "#parser = argparse.ArgumentParser(description = \"argparse\")\n",
    "#\n",
    "#parser.add_argument('--threshold', type = float, help = \"threshold to use\")\n",
    "#\n",
    "#args = parser.parse_args()\n",
    "\n",
    "class arg():\n",
    "    def __init__(self):\n",
    "        self.threshold = 0.1\n",
    "args = arg()   \n",
    "data_dir = '/storage/bigdata/ABCD/TVB/data'\n",
    "\n",
    "####load dataset and stuff \n",
    "dataset = utils.load_data.ABCDDataset(data_dir)  #이제 된다\n",
    "subjects = dataset.list_subjects()\n",
    "\n",
    "\n",
    "start = time.time()\n",
    "warnings.filterwarnings('once') #여기서는 한번만 나오게 하기 (여러번 돌아가면서 계속 뜨는 것은 싫다)\n",
    "\n",
    "###how much to keep\n",
    "sample_size = len(subjects) #if you wanna run all\n",
    "threshold = args.threshold\n",
    "\n",
    "##scalar meausres initialization\n",
    "sample_sub = dataset.load_sc(subjects[0])\n",
    "data, names = utils.conn_measures.compute_bct_UW(sample_sub, threshold = 0.3).scalar_properties()\n",
    "\n",
    "\n",
    "num_sub = len(subjects) #8238\n",
    "num_measures = len(names)\n",
    "scalar_bct_results = np.empty((min(num_sub,sample_size),num_measures))\n",
    "scalar_bct_results[:] = np.nan\n",
    "\n",
    "\n",
    "###SC + SCALAR (vector, matrix는 할지말지, 그리고 한다면 언제할지는 모르겠다)\n",
    "warnings.filterwarnings(\"ignore\")\n",
    "tqdm_loop = tqdm(subjects[1445+0:1447+30]) #tqdm_loop이라는 tqdm object로 만들기 => 나중에 descrioption을 둘거라서\n",
    "fail_count = 0\n",
    "for i,sub in enumerate(tqdm_loop):#enumerate(subjects[:sample_size]):#tqdm(subjects[:sample_size])):\n",
    "    sub_sc = dataset.load_sc(sub)\n",
    "    #do FC too!!!\n",
    "        \n",
    "    #trying to load the thing \n",
    "        #utils.conn_measuers 그거 initiailize할때, this has \"check usaiblity\" built-in (in __init__) \n",
    "        #threfore, when the matrix_loaded fails, it means the matrix is not usable\n",
    "    try :\n",
    "        matrix_loaded = utils.conn_measures.compute_bct_UW(sub_sc, threshold=threshold)\n",
    "    except : \n",
    "        fail_count += 1\n",
    "        tqdm_loop.set_postfix_str(\"sub-{} failed! || {}th fail\".format(sub,fail_count))\n",
    "        continue\n",
    "\n",
    "    data, names = matrix_loaded.scalar_properties()\n",
    "    scalar_bct_results[i] = np.array(list(data.values()))\n",
    "\n",
    "total_scalar_results = pd.DataFrame(scalar_bct_results, index = subjects[:sample_size], columns = names)\n",
    "end = time.time()\n",
    "print(\"run_time(s) :\", end-start)\n",
    "\n",
    "\n",
    "BCT_result_save_dir = \"/storage/bigdata/ABCD/TVB/BCT_results/SC_ses_2/\"\n",
    "\n",
    "total_scalar_results.to_csv(BCT_result_save_dir+\"scalar_results_threshold_{}.csv\".format(threshold))\n",
    "pd.read_csv(BCT_result_save_dir+\"scalar_results_threshold_{}.csv\".format(threshold), index_col=0) #use the first column as the rows\n",
    "os.listdir(BCT_result_save_dir)"
   ]
  },
  {
   "cell_type": "code",
   "execution_count": 2,
   "id": "2bfea39e",
   "metadata": {},
   "outputs": [
    {
     "ename": "NameError",
     "evalue": "name 'count' is not defined",
     "output_type": "error",
     "traceback": [
      "\u001b[0;31m---------------------------------------------------------------------------\u001b[0m",
      "\u001b[0;31mNameError\u001b[0m                                 Traceback (most recent call last)",
      "Input \u001b[0;32mIn [2]\u001b[0m, in \u001b[0;36m<cell line: 1>\u001b[0;34m()\u001b[0m\n\u001b[0;32m----> 1\u001b[0m \u001b[38;5;28mprint\u001b[39m(\u001b[43mcount\u001b[49m)\n",
      "\u001b[0;31mNameError\u001b[0m: name 'count' is not defined"
     ]
    }
   ],
   "source": [
    "print(count)"
   ]
  },
  {
   "cell_type": "code",
   "execution_count": 3,
   "id": "2f2f018e",
   "metadata": {},
   "outputs": [
    {
     "name": "stdout",
     "output_type": "stream",
     "text": [
      "[[ 6.23955553e-02  6.65323609e-02  7.01519352e-02  1.04776235e+02\n",
      "   2.25533864e+01  6.65323609e-02  5.18369775e+01  9.07542255e+01\n",
      "   9.16857778e-01  5.90648245e-01 -1.01079889e-01]\n",
      " [ 6.05985248e-02  5.85524563e-02 -1.51081885e-02  9.70514073e+01\n",
      "   2.64040148e+01  5.85524563e-02  4.18586185e+01  8.27393973e+01\n",
      "   9.32565388e-01  6.43401172e-01 -9.56939376e-02]\n",
      " [            nan             nan             nan             nan\n",
      "              nan             nan             nan             nan\n",
      "              nan             nan             nan]\n",
      " [            nan             nan             nan             nan\n",
      "              nan             nan             nan             nan\n",
      "              nan             nan             nan]\n",
      " [            nan             nan             nan             nan\n",
      "              nan             nan             nan             nan\n",
      "              nan             nan             nan]\n",
      " [ 5.72918348e-02  5.50447577e-02  1.64806929e-02  9.22843137e+01\n",
      "   2.73457986e+01  5.50447577e-02  4.77375118e+01  9.29822658e+01\n",
      "   9.30957680e-01  6.28572875e-01 -9.89291643e-02]\n",
      " [            nan             nan             nan             nan\n",
      "              nan             nan             nan             nan\n",
      "              nan             nan             nan]\n",
      " [            nan             nan             nan             nan\n",
      "              nan             nan             nan             nan\n",
      "              nan             nan             nan]\n",
      " [            nan             nan             nan             nan\n",
      "              nan             nan             nan             nan\n",
      "              nan             nan             nan]\n",
      " [ 5.03138718e-02  5.36843163e-02 -1.17495411e-02  8.43245222e+01\n",
      "   2.73091496e+01  5.36843163e-02  5.51861867e+01  1.05784231e+02\n",
      "   9.18787430e-01  5.20634917e-01 -9.46068450e-02]]\n"
     ]
    }
   ],
   "source": [
    "print(scalar_bct_results[:10])\n",
    "#print(scalar_bct_results.shape[3:10])\n",
    "#pd.read_csv(BCT_result_save_dir+\"scalar_results_threshold_{}.csv\".format(threshold), index_col=0) #use the first column as the rows"
   ]
  },
  {
   "cell_type": "code",
   "execution_count": null,
   "id": "bdb921c4",
   "metadata": {},
   "outputs": [],
   "source": [
    "a = 0\n",
    "while a !=5:\n",
    "    a = a+1\n",
    "    print(a)\n",
    "    if a > 2:\n",
    "        break\n",
    "        "
   ]
  },
  {
   "cell_type": "code",
   "execution_count": null,
   "id": "8c953796",
   "metadata": {},
   "outputs": [],
   "source": [
    "scalar_bct_results\n",
    "#1447 : error이 난다"
   ]
  },
  {
   "cell_type": "code",
   "execution_count": null,
   "id": "95e51e85",
   "metadata": {},
   "outputs": [],
   "source": [
    "print(scalar_bct_results[:10])"
   ]
  },
  {
   "cell_type": "code",
   "execution_count": null,
   "id": "e140a18f",
   "metadata": {},
   "outputs": [],
   "source": [
    "pd."
   ]
  },
  {
   "cell_type": "code",
   "execution_count": null,
   "id": "09ef6c36",
   "metadata": {},
   "outputs": [],
   "source": [
    "class try_class():\n",
    "    def __init__(self, x,y):\n",
    "        self.x = x\n",
    "        self.y = y\n",
    "        \n",
    "        print(self.check())\n",
    "        if self.check() == None:\n",
    "            raise Exception(\"error\")\n",
    "        print(x+y)\n",
    "        \n",
    "    def check(self):\n",
    "        if self.x+self.y==3:\n",
    "            return True\n",
    "        else :\n",
    "            return None\n",
    "a = try_class(3,1)\n",
    "\n",
    "    "
   ]
  },
  {
   "cell_type": "code",
   "execution_count": null,
   "id": "cfe0b915",
   "metadata": {},
   "outputs": [],
   "source": [
    "for i,sub in enumerate(subjects[:sample_size]): #tqdm(subjects[:sample_size])): #tqdm not used becuase if loop breaks during tqdm tqdm breaks\n",
    "    sub_sc = dataset.load_sc(sub)\n",
    "    #do FC too!!!\n",
    "    matrix_loaded = utils.conn_measures.compute_bct_UW(sub_sc, threshold=threshold)\n",
    "    if matrix_loaded.usability_check_density_based() != True:\n",
    "        print(\"{}failed\".format(sub))\n",
    "        continue #if usability check is not satisfied, skip this iteration\n",
    "    data, names = matrix_loaded.scalar_properties()\n",
    "    scalar_bct_results[i] = np.array(list(data.values()))\n",
    "\n"
   ]
  },
  {
   "cell_type": "code",
   "execution_count": null,
   "id": "78624fa7",
   "metadata": {},
   "outputs": [],
   "source": [
    "count = 0\n",
    "modular_structures = np.zeros(5)\n",
    "matrix_loaded = utils.conn_measures.compute_bct_UW(dataset.load_sc(subjects[4]), threshold=threshold)\n",
    "print(matrix_loaded.usability_check_density_based())\n",
    "while modular_structures.max() != 5:\n",
    "    modular_structures, modularities = bct.community_louvain(matrix_loaded.mat)\n",
    "    count+=1\n",
    "    print(count)\n",
    "    if count > 1000: #MUST BE CHANGED\n",
    "        if (np.max(modular_structures) == 6) or (np.max(modular_structures)==4):\n",
    "            break\n",
    "print(modular_structures)"
   ]
  },
  {
   "cell_type": "code",
   "execution_count": null,
   "id": "4a4b98a9",
   "metadata": {},
   "outputs": [],
   "source": [
    "#아!!! 4번쩨가 안되는 이유가, __init__예가 하면서 돌려야하는 것이 있는데, 이게 그 작동하면 안된느 것이기 때문!\n",
    "#따라서, __init__에서 정의하기 전에, 먼저 check usaiblity본 후에, usability가 check되었을때만 밑에 하도록 하기\n",
    "#단, 만약 usability check 통과해도 작동을 안하는 것이 된다면,... => 이거는 조금있다가 더 생각해보자"
   ]
  },
  {
   "cell_type": "code",
   "execution_count": null,
   "id": "b185a8d6",
   "metadata": {},
   "outputs": [],
   "source": [
    "import tqdm \n",
    "import time\n",
    "for i, name in enumerate(tqdm.tqdm([\"ahha\",\"hehe\", \"hoho\"])):\n",
    "    \n",
    "    print(i)\n",
    "    if i==1:\n",
    "        continue\n",
    "    time.sleep(2)\n",
    "    print(\"haha{}\".format(i))"
   ]
  },
  {
   "cell_type": "code",
   "execution_count": null,
   "id": "429cfcad",
   "metadata": {},
   "outputs": [],
   "source": [
    "a = np.arange(10*10)."
   ]
  }
 ],
 "metadata": {
  "kernelspec": {
   "display_name": "Python 3 (ipykernel)",
   "language": "python",
   "name": "python3"
  },
  "language_info": {
   "codemirror_mode": {
    "name": "ipython",
    "version": 3
   },
   "file_extension": ".py",
   "mimetype": "text/x-python",
   "name": "python",
   "nbconvert_exporter": "python",
   "pygments_lexer": "ipython3",
   "version": "3.8.10"
  }
 },
 "nbformat": 4,
 "nbformat_minor": 5
}
