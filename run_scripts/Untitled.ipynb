{
 "cells": [
  {
   "cell_type": "code",
   "execution_count": 4,
   "id": "82835841",
   "metadata": {},
   "outputs": [
    {
     "name": "stderr",
     "output_type": "stream",
     "text": [
      "/scratch/connectome/TVB/TVB_RESEARCH/utils/conn_measures.py:24: UserWarning: no thresholding will be used please check if this is what you want :)!\n",
      "  warnings.warn(\"no thresholding will be used please check if this is what you want :)!\")\n"
     ]
    },
    {
     "name": "stdout",
     "output_type": "stream",
     "text": [
      "no thresholding will be used please check if this is what you want :)!\n"
     ]
    },
    {
     "name": "stderr",
     "output_type": "stream",
     "text": [
      "/home/connectome/dyhan316/.local/lib/python3.8/site-packages/numpy/core/_asarray.py:102: VisibleDeprecationWarning: Creating an ndarray from ragged nested sequences (which is a list-or-tuple of lists-or-tuples-or ndarrays with different lengths or shapes) is deprecated. If you meant to do this, you must specify 'dtype=object' when creating the ndarray.\n",
      "  return array(a, dtype, copy=False, order=order)\n"
     ]
    },
    {
     "name": "stdout",
     "output_type": "stream",
     "text": [
      "subject passed the test!\n",
      "NDARINVRERRA7FDfailed\n",
      "subject passed the test!\n",
      "subject passed the test!\n"
     ]
    },
    {
     "ename": "KeyboardInterrupt",
     "evalue": "",
     "output_type": "error",
     "traceback": [
      "\u001b[0;31m---------------------------------------------------------------------------\u001b[0m",
      "\u001b[0;31mKeyboardInterrupt\u001b[0m                         Traceback (most recent call last)",
      "Input \u001b[0;32mIn [4]\u001b[0m, in \u001b[0;36m<cell line: 56>\u001b[0;34m()\u001b[0m\n\u001b[1;32m     57\u001b[0m sub_sc \u001b[38;5;241m=\u001b[39m dataset\u001b[38;5;241m.\u001b[39mload_sc(sub)\n\u001b[1;32m     58\u001b[0m \u001b[38;5;66;03m#do FC too!!!\u001b[39;00m\n\u001b[0;32m---> 59\u001b[0m matrix_loaded \u001b[38;5;241m=\u001b[39m \u001b[43mutils\u001b[49m\u001b[38;5;241;43m.\u001b[39;49m\u001b[43mconn_measures\u001b[49m\u001b[38;5;241;43m.\u001b[39;49m\u001b[43mcompute_bct_UW\u001b[49m\u001b[43m(\u001b[49m\u001b[43msub_sc\u001b[49m\u001b[43m,\u001b[49m\u001b[43m \u001b[49m\u001b[43mthreshold\u001b[49m\u001b[38;5;241;43m=\u001b[39;49m\u001b[43mthreshold\u001b[49m\u001b[43m)\u001b[49m\n\u001b[1;32m     60\u001b[0m \u001b[38;5;28;01mif\u001b[39;00m matrix_loaded\u001b[38;5;241m.\u001b[39musability_check_density_based() \u001b[38;5;241m!=\u001b[39m \u001b[38;5;28;01mTrue\u001b[39;00m:\n\u001b[1;32m     61\u001b[0m     \u001b[38;5;28mprint\u001b[39m(\u001b[38;5;124m\"\u001b[39m\u001b[38;5;132;01m{}\u001b[39;00m\u001b[38;5;124mfailed\u001b[39m\u001b[38;5;124m\"\u001b[39m\u001b[38;5;241m.\u001b[39mformat(sub))\n",
      "File \u001b[0;32m/scratch/connectome/TVB/TVB_RESEARCH/utils/conn_measures.py:46\u001b[0m, in \u001b[0;36mcompute_bct_UW.__init__\u001b[0;34m(self, mat, threshold)\u001b[0m\n\u001b[1;32m     44\u001b[0m modular_structures \u001b[38;5;241m=\u001b[39m np\u001b[38;5;241m.\u001b[39mzeros(\u001b[38;5;241m5\u001b[39m)\n\u001b[1;32m     45\u001b[0m \u001b[38;5;28;01mwhile\u001b[39;00m modular_structures\u001b[38;5;241m.\u001b[39mmax() \u001b[38;5;241m!=\u001b[39m \u001b[38;5;241m5\u001b[39m:\n\u001b[0;32m---> 46\u001b[0m     modular_structures, modularities \u001b[38;5;241m=\u001b[39m \u001b[43mbct\u001b[49m\u001b[38;5;241;43m.\u001b[39;49m\u001b[43mcommunity_louvain\u001b[49m\u001b[43m(\u001b[49m\u001b[38;5;28;43mself\u001b[39;49m\u001b[38;5;241;43m.\u001b[39;49m\u001b[43mmat\u001b[49m\u001b[43m)\u001b[49m\n\u001b[1;32m     47\u001b[0m     count\u001b[38;5;241m+\u001b[39m\u001b[38;5;241m=\u001b[39m\u001b[38;5;241m1\u001b[39m\n\u001b[1;32m     48\u001b[0m     \u001b[38;5;28;01mif\u001b[39;00m count \u001b[38;5;241m>\u001b[39m \u001b[38;5;241m1000\u001b[39m: \u001b[38;5;66;03m#MUST BE CHANGED\u001b[39;00m\n",
      "File \u001b[0;32m~/.local/lib/python3.8/site-packages/bct/algorithms/modularity.py:225\u001b[0m, in \u001b[0;36mcommunity_louvain\u001b[0;34m(W, gamma, ci, B, seed)\u001b[0m\n\u001b[1;32m    222\u001b[0m \u001b[38;5;28;01mfor\u001b[39;00m i \u001b[38;5;129;01min\u001b[39;00m \u001b[38;5;28mrange\u001b[39m(\u001b[38;5;241m1\u001b[39m, n \u001b[38;5;241m+\u001b[39m \u001b[38;5;241m1\u001b[39m):\n\u001b[1;32m    223\u001b[0m     \u001b[38;5;28;01mfor\u001b[39;00m j \u001b[38;5;129;01min\u001b[39;00m \u001b[38;5;28mrange\u001b[39m(i, n \u001b[38;5;241m+\u001b[39m \u001b[38;5;241m1\u001b[39m):\n\u001b[1;32m    224\u001b[0m         \u001b[38;5;66;03m# pool weights of nodes in same module\u001b[39;00m\n\u001b[0;32m--> 225\u001b[0m         bm \u001b[38;5;241m=\u001b[39m \u001b[43mnp\u001b[49m\u001b[38;5;241;43m.\u001b[39;49m\u001b[43msum\u001b[49m\u001b[43m(\u001b[49m\u001b[43mB\u001b[49m\u001b[43m[\u001b[49m\u001b[43mnp\u001b[49m\u001b[38;5;241;43m.\u001b[39;49m\u001b[43mix_\u001b[49m\u001b[43m(\u001b[49m\u001b[43mMb\u001b[49m\u001b[43m \u001b[49m\u001b[38;5;241;43m==\u001b[39;49m\u001b[43m \u001b[49m\u001b[43mi\u001b[49m\u001b[43m,\u001b[49m\u001b[43m \u001b[49m\u001b[43mMb\u001b[49m\u001b[43m \u001b[49m\u001b[38;5;241;43m==\u001b[39;49m\u001b[43m \u001b[49m\u001b[43mj\u001b[49m\u001b[43m)\u001b[49m\u001b[43m]\u001b[49m\u001b[43m)\u001b[49m\n\u001b[1;32m    226\u001b[0m         b1[i \u001b[38;5;241m-\u001b[39m \u001b[38;5;241m1\u001b[39m, j \u001b[38;5;241m-\u001b[39m \u001b[38;5;241m1\u001b[39m] \u001b[38;5;241m=\u001b[39m bm\n\u001b[1;32m    227\u001b[0m         b1[j \u001b[38;5;241m-\u001b[39m \u001b[38;5;241m1\u001b[39m, i \u001b[38;5;241m-\u001b[39m \u001b[38;5;241m1\u001b[39m] \u001b[38;5;241m=\u001b[39m bm\n",
      "File \u001b[0;32m<__array_function__ internals>:5\u001b[0m, in \u001b[0;36msum\u001b[0;34m(*args, **kwargs)\u001b[0m\n",
      "File \u001b[0;32m~/.local/lib/python3.8/site-packages/numpy/core/fromnumeric.py:2247\u001b[0m, in \u001b[0;36msum\u001b[0;34m(a, axis, dtype, out, keepdims, initial, where)\u001b[0m\n\u001b[1;32m   2244\u001b[0m         \u001b[38;5;28;01mreturn\u001b[39;00m out\n\u001b[1;32m   2245\u001b[0m     \u001b[38;5;28;01mreturn\u001b[39;00m res\n\u001b[0;32m-> 2247\u001b[0m \u001b[38;5;28;01mreturn\u001b[39;00m \u001b[43m_wrapreduction\u001b[49m\u001b[43m(\u001b[49m\u001b[43ma\u001b[49m\u001b[43m,\u001b[49m\u001b[43m \u001b[49m\u001b[43mnp\u001b[49m\u001b[38;5;241;43m.\u001b[39;49m\u001b[43madd\u001b[49m\u001b[43m,\u001b[49m\u001b[43m \u001b[49m\u001b[38;5;124;43m'\u001b[39;49m\u001b[38;5;124;43msum\u001b[39;49m\u001b[38;5;124;43m'\u001b[39;49m\u001b[43m,\u001b[49m\u001b[43m \u001b[49m\u001b[43maxis\u001b[49m\u001b[43m,\u001b[49m\u001b[43m \u001b[49m\u001b[43mdtype\u001b[49m\u001b[43m,\u001b[49m\u001b[43m \u001b[49m\u001b[43mout\u001b[49m\u001b[43m,\u001b[49m\u001b[43m \u001b[49m\u001b[43mkeepdims\u001b[49m\u001b[38;5;241;43m=\u001b[39;49m\u001b[43mkeepdims\u001b[49m\u001b[43m,\u001b[49m\n\u001b[1;32m   2248\u001b[0m \u001b[43m                      \u001b[49m\u001b[43minitial\u001b[49m\u001b[38;5;241;43m=\u001b[39;49m\u001b[43minitial\u001b[49m\u001b[43m,\u001b[49m\u001b[43m \u001b[49m\u001b[43mwhere\u001b[49m\u001b[38;5;241;43m=\u001b[39;49m\u001b[43mwhere\u001b[49m\u001b[43m)\u001b[49m\n",
      "File \u001b[0;32m~/.local/lib/python3.8/site-packages/numpy/core/fromnumeric.py:87\u001b[0m, in \u001b[0;36m_wrapreduction\u001b[0;34m(obj, ufunc, method, axis, dtype, out, **kwargs)\u001b[0m\n\u001b[1;32m     84\u001b[0m         \u001b[38;5;28;01melse\u001b[39;00m:\n\u001b[1;32m     85\u001b[0m             \u001b[38;5;28;01mreturn\u001b[39;00m reduction(axis\u001b[38;5;241m=\u001b[39maxis, out\u001b[38;5;241m=\u001b[39mout, \u001b[38;5;241m*\u001b[39m\u001b[38;5;241m*\u001b[39mpasskwargs)\n\u001b[0;32m---> 87\u001b[0m \u001b[38;5;28;01mreturn\u001b[39;00m \u001b[43mufunc\u001b[49m\u001b[38;5;241;43m.\u001b[39;49m\u001b[43mreduce\u001b[49m\u001b[43m(\u001b[49m\u001b[43mobj\u001b[49m\u001b[43m,\u001b[49m\u001b[43m \u001b[49m\u001b[43maxis\u001b[49m\u001b[43m,\u001b[49m\u001b[43m \u001b[49m\u001b[43mdtype\u001b[49m\u001b[43m,\u001b[49m\u001b[43m \u001b[49m\u001b[43mout\u001b[49m\u001b[43m,\u001b[49m\u001b[43m \u001b[49m\u001b[38;5;241;43m*\u001b[39;49m\u001b[38;5;241;43m*\u001b[39;49m\u001b[43mpasskwargs\u001b[49m\u001b[43m)\u001b[49m\n",
      "\u001b[0;31mKeyboardInterrupt\u001b[0m: "
     ]
    }
   ],
   "source": [
    " import bct\n",
    "import pandas as pd\n",
    "import numpy as np\n",
    "import os\n",
    "import sys\n",
    "import seaborn as sns\n",
    "import pingouin\n",
    "import matplotlib.pyplot as plt\n",
    "import warnings\n",
    "sys.path.append(\"/scratch/connectome/TVB/TVB_RESEARCH\")\n",
    "sys.path\n",
    "import utils #now imports becasue it looks at the last added sys path\n",
    "\n",
    "import warnings\n",
    "warnings.filterwarnings('ignore')\n",
    "import time\n",
    "from tqdm import tqdm\n",
    "import argparse\n",
    "\n",
    "\n",
    "#parser = argparse.ArgumentParser(description = \"argparse\")\n",
    "#\n",
    "#parser.add_argument('--threshold', type = float, help = \"threshold to use\")\n",
    "#\n",
    "#args = parser.parse_args()\n",
    "\n",
    "class arg():\n",
    "    def __init__(self):\n",
    "        self.threshold = 0.1\n",
    "args = arg()   \n",
    "data_dir = '/storage/bigdata/ABCD/TVB/data'\n",
    "\n",
    "\n",
    "dataset = utils.load_data.ABCDDataset(data_dir)  #이제 된다\n",
    "subjects = dataset.list_subjects()\n",
    "meta_data = utils.load_metadata.metadata(data_dir)\n",
    "\n",
    "\n",
    "start = time.time()\n",
    "warnings.filterwarnings('once') #여기서는 한번만 나오게 하기 (여러번 돌아가면서 계속 뜨는 것은 싫다)\n",
    "\n",
    "###how much to keep\n",
    "sample_size = len(subjects) #if you wanna run all\n",
    "threshold = args.threshold\n",
    "\n",
    "##scalar meausres correlation\n",
    "sample_sub = dataset.load_sc(subjects[0])\n",
    "data, names = utils.conn_measures.compute_bct_UW(sample_sub).scalar_properties()\n",
    "\n",
    "num_sub = len(subjects) #8238\n",
    "num_measures = len(names)\n",
    "scalar_bct_results = np.zeros((min(num_sub,sample_size),num_measures))\n",
    " \n",
    "###SC + SCALAR (vector, matrix는 할지말지, 그리고 한다면 언제할지는 모르겠다)\n",
    "warnings.filterwarnings(\"ignore\")\n",
    "for i,sub in enumerate(subjects[:sample_size]):#tqdm(subjects[:sample_size])):\n",
    "    sub_sc = dataset.load_sc(sub)\n",
    "    #do FC too!!!\n",
    "    print(\"doing {}th subject\".format(i))\n",
    "    matrix_loaded = utils.conn_measures.compute_bct_UW(sub_sc, threshold=threshold)\n",
    "    if matrix_loaded.usability_check_density_based() != True:\n",
    "        print(\"{} failed\".format(sub))\n",
    "        continue #if usability check is not satisfied, skip this iteration\n",
    "    data, names = matrix_loaded.scalar_properties()\n",
    "    scalar_bct_results[i] = np.array(list(data.values()))\n",
    "\n",
    "total_scalar_results = pd.DataFrame(scalar_bct_results, index = subjects[:sample_size], columns = names)\n",
    "end = time.time()\n",
    "print(\"run_time(s) :\", end-start)\n",
    "\n",
    "\n",
    "BCT_result_save_dir = \"/storage/bigdata/ABCD/TVB/BCT_results/SC_ses_2/\"\n",
    "\n",
    "total_scalar_results.to_csv(BCT_result_save_dir+\"scalar_results_threshold_{}.csv\".format(threshold))\n",
    "pd.read_csv(BCT_result_save_dir+\"scalar_results_threshold_{}.csv\".format(threshold), index_col=0) #use the first column as the rows\n",
    "os.listdir(BCT_result_save_dir)"
   ]
  },
  {
   "cell_type": "code",
   "execution_count": null,
   "id": "cfe0b915",
   "metadata": {},
   "outputs": [],
   "source": [
    "for i,sub in enumerate(subjects[:sample_size]): #tqdm(subjects[:sample_size])): #tqdm not used becuase if loop breaks during tqdm tqdm breaks\n",
    "    sub_sc = dataset.load_sc(sub)\n",
    "    #do FC too!!!\n",
    "    matrix_loaded = utils.conn_measures.compute_bct_UW(sub_sc, threshold=threshold)\n",
    "    if matrix_loaded.usability_check_density_based() != True:\n",
    "        print(\"{}failed\".format(sub))\n",
    "\t\tcontinue #if usability check is not satisfied, skip this iteration\n",
    "    data, names = matrix_loaded.scalar_properties()\n",
    "    scalar_bct_results[i] = np.array(list(data.values()))\n",
    "\n"
   ]
  },
  {
   "cell_type": "code",
   "execution_count": 19,
   "id": "78624fa7",
   "metadata": {},
   "outputs": [
    {
     "ename": "KeyboardInterrupt",
     "evalue": "",
     "output_type": "error",
     "traceback": [
      "\u001b[0;31m---------------------------------------------------------------------------\u001b[0m",
      "\u001b[0;31mKeyboardInterrupt\u001b[0m                         Traceback (most recent call last)",
      "Input \u001b[0;32mIn [19]\u001b[0m, in \u001b[0;36m<cell line: 3>\u001b[0;34m()\u001b[0m\n\u001b[1;32m      1\u001b[0m count \u001b[38;5;241m=\u001b[39m \u001b[38;5;241m0\u001b[39m\n\u001b[1;32m      2\u001b[0m modular_structures \u001b[38;5;241m=\u001b[39m np\u001b[38;5;241m.\u001b[39mzeros(\u001b[38;5;241m5\u001b[39m)\n\u001b[0;32m----> 3\u001b[0m matrix_loaded \u001b[38;5;241m=\u001b[39m \u001b[43mutils\u001b[49m\u001b[38;5;241;43m.\u001b[39;49m\u001b[43mconn_measures\u001b[49m\u001b[38;5;241;43m.\u001b[39;49m\u001b[43mcompute_bct_UW\u001b[49m\u001b[43m(\u001b[49m\u001b[43mdataset\u001b[49m\u001b[38;5;241;43m.\u001b[39;49m\u001b[43mload_sc\u001b[49m\u001b[43m(\u001b[49m\u001b[43msubjects\u001b[49m\u001b[43m[\u001b[49m\u001b[38;5;241;43m4\u001b[39;49m\u001b[43m]\u001b[49m\u001b[43m)\u001b[49m\u001b[43m,\u001b[49m\u001b[43m \u001b[49m\u001b[43mthreshold\u001b[49m\u001b[38;5;241;43m=\u001b[39;49m\u001b[43mthreshold\u001b[49m\u001b[43m)\u001b[49m\n\u001b[1;32m      4\u001b[0m \u001b[38;5;28mprint\u001b[39m(matrix_loaded\u001b[38;5;241m.\u001b[39musability_check_density_based())\n\u001b[1;32m      5\u001b[0m \u001b[38;5;28;01mwhile\u001b[39;00m modular_structures\u001b[38;5;241m.\u001b[39mmax() \u001b[38;5;241m!=\u001b[39m \u001b[38;5;241m5\u001b[39m:\n",
      "File \u001b[0;32m/scratch/connectome/TVB/TVB_RESEARCH/utils/conn_measures.py:46\u001b[0m, in \u001b[0;36mcompute_bct_UW.__init__\u001b[0;34m(self, mat, threshold)\u001b[0m\n\u001b[1;32m     44\u001b[0m modular_structures \u001b[38;5;241m=\u001b[39m np\u001b[38;5;241m.\u001b[39mzeros(\u001b[38;5;241m5\u001b[39m)\n\u001b[1;32m     45\u001b[0m \u001b[38;5;28;01mwhile\u001b[39;00m modular_structures\u001b[38;5;241m.\u001b[39mmax() \u001b[38;5;241m!=\u001b[39m \u001b[38;5;241m5\u001b[39m:\n\u001b[0;32m---> 46\u001b[0m     modular_structures, modularities \u001b[38;5;241m=\u001b[39m \u001b[43mbct\u001b[49m\u001b[38;5;241;43m.\u001b[39;49m\u001b[43mcommunity_louvain\u001b[49m\u001b[43m(\u001b[49m\u001b[38;5;28;43mself\u001b[39;49m\u001b[38;5;241;43m.\u001b[39;49m\u001b[43mmat\u001b[49m\u001b[43m)\u001b[49m\n\u001b[1;32m     47\u001b[0m     count\u001b[38;5;241m+\u001b[39m\u001b[38;5;241m=\u001b[39m\u001b[38;5;241m1\u001b[39m\n\u001b[1;32m     48\u001b[0m     \u001b[38;5;28;01mif\u001b[39;00m count \u001b[38;5;241m>\u001b[39m \u001b[38;5;241m1000\u001b[39m: \u001b[38;5;66;03m#MUST BE CHANGED\u001b[39;00m\n",
      "File \u001b[0;32m~/.local/lib/python3.8/site-packages/bct/algorithms/modularity.py:225\u001b[0m, in \u001b[0;36mcommunity_louvain\u001b[0;34m(W, gamma, ci, B, seed)\u001b[0m\n\u001b[1;32m    222\u001b[0m \u001b[38;5;28;01mfor\u001b[39;00m i \u001b[38;5;129;01min\u001b[39;00m \u001b[38;5;28mrange\u001b[39m(\u001b[38;5;241m1\u001b[39m, n \u001b[38;5;241m+\u001b[39m \u001b[38;5;241m1\u001b[39m):\n\u001b[1;32m    223\u001b[0m     \u001b[38;5;28;01mfor\u001b[39;00m j \u001b[38;5;129;01min\u001b[39;00m \u001b[38;5;28mrange\u001b[39m(i, n \u001b[38;5;241m+\u001b[39m \u001b[38;5;241m1\u001b[39m):\n\u001b[1;32m    224\u001b[0m         \u001b[38;5;66;03m# pool weights of nodes in same module\u001b[39;00m\n\u001b[0;32m--> 225\u001b[0m         bm \u001b[38;5;241m=\u001b[39m np\u001b[38;5;241m.\u001b[39msum(B[\u001b[43mnp\u001b[49m\u001b[38;5;241;43m.\u001b[39;49m\u001b[43mix_\u001b[49m\u001b[43m(\u001b[49m\u001b[43mMb\u001b[49m\u001b[43m \u001b[49m\u001b[38;5;241;43m==\u001b[39;49m\u001b[43m \u001b[49m\u001b[43mi\u001b[49m\u001b[43m,\u001b[49m\u001b[43m \u001b[49m\u001b[43mMb\u001b[49m\u001b[43m \u001b[49m\u001b[38;5;241;43m==\u001b[39;49m\u001b[43m \u001b[49m\u001b[43mj\u001b[49m\u001b[43m)\u001b[49m])\n\u001b[1;32m    226\u001b[0m         b1[i \u001b[38;5;241m-\u001b[39m \u001b[38;5;241m1\u001b[39m, j \u001b[38;5;241m-\u001b[39m \u001b[38;5;241m1\u001b[39m] \u001b[38;5;241m=\u001b[39m bm\n\u001b[1;32m    227\u001b[0m         b1[j \u001b[38;5;241m-\u001b[39m \u001b[38;5;241m1\u001b[39m, i \u001b[38;5;241m-\u001b[39m \u001b[38;5;241m1\u001b[39m] \u001b[38;5;241m=\u001b[39m bm\n",
      "\u001b[0;31mKeyboardInterrupt\u001b[0m: "
     ]
    }
   ],
   "source": [
    "count = 0\n",
    "modular_structures = np.zeros(5)\n",
    "matrix_loaded = utils.conn_measures.compute_bct_UW(dataset.load_sc(subjects[4]), threshold=threshold)\n",
    "print(matrix_loaded.usability_check_density_based())\n",
    "while modular_structures.max() != 5:\n",
    "    modular_structures, modularities = bct.community_louvain(matrix_loaded.mat)\n",
    "    count+=1\n",
    "    print(count)\n",
    "    if count > 1000: #MUST BE CHANGED\n",
    "        if (np.max(modular_structures) == 6) or (np.max(modular_structures)==4):\n",
    "            break\n",
    "print(modular_structures)"
   ]
  },
  {
   "cell_type": "code",
   "execution_count": 20,
   "id": "fd10e5ad",
   "metadata": {},
   "outputs": [
    {
     "data": {
      "text/plain": [
       "'NDARINVFKFN7X0T'"
      ]
     },
     "execution_count": 20,
     "metadata": {},
     "output_type": "execute_result"
    }
   ],
   "source": [
    "subjects[4]"
   ]
  },
  {
   "cell_type": "code",
   "execution_count": 24,
   "id": "be3b63ce",
   "metadata": {},
   "outputs": [
    {
     "data": {
      "text/plain": [
       "<utils.conn_measures.compute_bct_UW at 0x7f1314c8b8e0>"
      ]
     },
     "execution_count": 24,
     "metadata": {},
     "output_type": "execute_result"
    }
   ],
   "source": [
    "utils.conn_measures.compute_bct_UW(dataset.load_sc(subjects[3]),threshold)"
   ]
  },
  {
   "cell_type": "code",
   "execution_count": 25,
   "id": "4a4b98a9",
   "metadata": {},
   "outputs": [],
   "source": [
    "#아!!! 4번쩨가 안되는 이유가, __init__예가 하면서 돌려야하는 것이 있는데, 이게 그 작동하면 안된느 것이기 때문!\n",
    "#따라서, __init__에서 정의하기 전에, 먼저 check usaiblity본 후에, usability가 check되었을때만 밑에 하도록 하기\n",
    "#단, 만약 usability check 통과해도 작동을 안하는 것이 된다면,... => 이거는 조금있다가 더 생각해보자"
   ]
  },
  {
   "cell_type": "code",
   "execution_count": null,
   "id": "fbde77d8",
   "metadata": {},
   "outputs": [],
   "source": []
  }
 ],
 "metadata": {
  "kernelspec": {
   "display_name": "Python 3 (ipykernel)",
   "language": "python",
   "name": "python3"
  },
  "language_info": {
   "codemirror_mode": {
    "name": "ipython",
    "version": 3
   },
   "file_extension": ".py",
   "mimetype": "text/x-python",
   "name": "python",
   "nbconvert_exporter": "python",
   "pygments_lexer": "ipython3",
   "version": "3.8.10"
  }
 },
 "nbformat": 4,
 "nbformat_minor": 5
}
